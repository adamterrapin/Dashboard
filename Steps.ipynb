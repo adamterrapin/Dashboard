{
 "cells": [
  {
   "cell_type": "code",
   "execution_count": 42,
   "id": "4a845df0-baf2-47b4-b288-ac555d07f244",
   "metadata": {},
   "outputs": [
    {
     "name": "stdout",
     "output_type": "stream",
     "text": [
      "Driver: Terrapin New PostgreSQL\n",
      "Host: 23.88.78.5\n",
      "Database: tp_data\n",
      "Port: 5432\n"
     ]
    }
   ],
   "source": [
    "# Section 1: Load Environment Variables\n",
    "import os\n",
    "from dotenv import load_dotenv\n",
    "\n",
    "# Load the environment variables from db.env\n",
    "load_dotenv('db.env')\n",
    "\n",
    "# Check if environment variables are loaded correctly\n",
    "print(\"Driver:\", os.getenv('DB_DRIVER'))\n",
    "print(\"Host:\", os.getenv('DB_HOST'))\n",
    "# print(\"User:\", os.getenv('DB_USERNAME'))\n",
    "print(\"Database:\", os.getenv('DB_DATABASE'))\n",
    "print(\"Port:\", os.getenv('DB_PORT'))\n",
    "# print(\"Password:\", os.getenv('DB_PASSWORD'))\n"
   ]
  },
  {
   "cell_type": "code",
   "execution_count": 43,
   "id": "13dc6633-d8ca-4ce3-a87c-966ca36f0592",
   "metadata": {},
   "outputs": [
    {
     "name": "stdout",
     "output_type": "stream",
     "text": [
      "Sections: ['Terrapin New PostgreSQL']\n",
      "Named: Terrapin New PostgreSQL\n",
      "description: \n",
      "driver: \n",
      "server: \n",
      "database: \n",
      "user: \n",
      "password: \n",
      "port: \n"
     ]
    }
   ],
   "source": [
    "# Section 2: Check .ini File Contents\n",
    "import configparser\n",
    "\n",
    "config = configparser.ConfigParser()\n",
    "config.read(os.path.expanduser('~/.odbc.ini'))\n",
    "\n",
    "print(\"Sections:\", config.sections())\n",
    "\n",
    "for section in config.sections():\n",
    "    print(f\"Named: {section}\")\n",
    "    for key, value in config.items(section):\n",
    "        print(f\"{key}: \") #{value}\") # print(f\"{key}: {value}\")"
   ]
  },
  {
   "cell_type": "code",
   "execution_count": 52,
   "id": "245dc318-0ff7-471f-b55a-a6c2e5d0e596",
   "metadata": {},
   "outputs": [
    {
     "name": "stdout",
     "output_type": "stream",
     "text": [
      "('PostgreSQL 16.3 (Ubuntu 16.3-1.pgdg22.04+1) on x86_64-pc-linux-gnu, compiled by gcc (Ubuntu 11.4.0-1ubuntu1~22.04) 11.4.0, 64-bit',)\n",
      "Connection successful\n"
     ]
    }
   ],
   "source": [
    "# Section 3: Check Database Connection\n",
    "from sqlalchemy import create_engine, text\n",
    "\n",
    "# Construct the connection string\n",
    "connection_string = (\n",
    "    f\"postgresql+psycopg2://{os.getenv('DB_USERNAME')}:{os.getenv('DB_PASSWORD')}@\"\n",
    "    f\"{os.getenv('DB_HOST')}:{os.getenv('DB_PORT')}/{os.getenv('DB_DATABASE')}\"\n",
    ")\n",
    "# print(\"Connection String:\", connection_string)  # Debug print  !!! really useful but not to be disclosed\n",
    "\n",
    "# Create the engine and test the connection\n",
    "try:\n",
    "    engine = create_engine(connection_string)\n",
    "    with engine.connect() as connection:\n",
    "        result = connection.execute(text(\"SELECT version();\"))\n",
    "        row = result.fetchone()\n",
    "        print(row)\n",
    "    print(\"Connection successful\")\n",
    "except Exception as e:\n",
    "    print(f\"Connection failed: {e}\")\n"
   ]
  },
  {
   "cell_type": "code",
   "execution_count": 51,
   "id": "a43c8418-1331-4f0c-bae1-e0be5c42abf8",
   "metadata": {},
   "outputs": [
    {
     "name": "stdout",
     "output_type": "stream",
     "text": [
      "Data fetch failed: ('IM002', '[IM002] [unixODBC][Driver Manager]Data source name not found, and no default driver specified (0) (SQLDriverConnect)')\n"
     ]
    }
   ],
   "source": [
    "# Section 4: Fetch Data in Expected Format\n",
    "import pyodbc\n",
    "\n",
    "try:\n",
    "    conn = pyodbc.connect(connection_string)\n",
    "    cursor = conn.cursor()\n",
    "    cursor.execute(\"SELECT * FROM trades LIMIT 5;\")  # Replace with actual desired table name\n",
    "    rows = cursor.fetchall()\n",
    "    for row in rows:\n",
    "        print(row)\n",
    "    conn.close()\n",
    "    print(\"Data fetched successfully\")\n",
    "except Exception as e:\n",
    "    print(f\"Data fetch failed: {e}\")\n"
   ]
  },
  {
   "cell_type": "code",
   "execution_count": 46,
   "id": "2e511294-80c2-4f01-802a-5d1f1de91805",
   "metadata": {},
   "outputs": [
    {
     "name": "stdout",
     "output_type": "stream",
     "text": [
      "German 10-year Government Bond Data:\n",
      "            isin  duration last_trade_date     price  yield_to_maturity\n",
      "0   DE000BU0E071   0.01369      2024-07-12  99.99061            0.68833\n",
      "1   DE0001102366   0.08214      2024-07-16  99.79000            3.56978\n",
      "2   DE000BU0E089   0.10130      2024-07-15  99.67200            3.29638\n",
      "3   DE0001104891   0.16153      2024-07-16  99.53500            3.32024\n",
      "4   DE000BU0E097   0.17522      2024-07-16  99.41000            3.43479\n",
      "..           ...       ...             ...       ...                ...\n",
      "80  DE0001102614  21.76527      2024-07-16  83.62000            2.61069\n",
      "81  DE0001030757  21.77209      2024-07-16  83.74800            2.60362\n",
      "82  DE0001102481  26.08074      2024-07-16  51.42200            2.58297\n",
      "83  DE0001030724  26.08076      2024-07-16  51.60900            2.56869\n",
      "84  DE0001102572  28.08212      2024-07-16  49.12300            2.56361\n",
      "\n",
      "[85 rows x 5 columns]\n",
      "\n",
      "Italian 10-year Government Bond Data:\n",
      "             isin  duration last_trade_date    price  yield_to_maturity\n",
      "0    IT0005581506   0.04107      2024-07-16   99.872            3.16794\n",
      "1    IT0003621460   0.06023      2024-07-09  100.020            4.51016\n",
      "2    IT0003268817   0.06571      2024-07-08   99.781            3.39285\n",
      "3    IT0005559817   0.07940      2024-07-16   99.732            3.43771\n",
      "4    IT0005452989   0.08214      2024-07-16   99.743            3.18260\n",
      "..            ...       ...             ...      ...                ...\n",
      "239  IT0005550345  22.26696      2024-06-25   37.205            4.54039\n",
      "240  IT0005247884  24.25460      2023-11-29   33.600            4.59928\n",
      "241  IT0005441883  24.51280      2024-07-16   61.770            3.97069\n",
      "242  IT0005247967  27.64684      2024-07-08   29.677            4.49195\n",
      "243  IT0005247991  29.77139      2023-11-24   24.050            4.90300\n",
      "\n",
      "[244 rows x 5 columns]\n"
     ]
    }
   ],
   "source": [
    "# Section 5: Fetch Data for ISINs\n",
    "import pandas as pd\n",
    "from sqlalchemy import create_engine\n",
    "\n",
    "def fetch_yield_curve_data(isin, engine):\n",
    "    query = f\"\"\"\n",
    "        SELECT isin, duration, last_trade_date, price, yield_to_maturity\n",
    "        FROM bonds_pricing\n",
    "        WHERE isin IN (\n",
    "            SELECT isin\n",
    "            FROM bonds_reference\n",
    "            WHERE lei = (\n",
    "                SELECT lei\n",
    "                FROM bonds_reference\n",
    "                WHERE isin = '{isin}'\n",
    "            )\n",
    "        )\n",
    "        AND price is not null\n",
    "        AND duration is not null\n",
    "        ORDER BY duration\n",
    "    \"\"\"\n",
    "    with engine.connect() as connection:\n",
    "        df = pd.read_sql_query(query, connection)\n",
    "    return df\n",
    "\n",
    "try:\n",
    "    connection_string = (\n",
    "        f\"postgresql+psycopg2://{os.getenv('DB_USERNAME')}:{os.getenv('DB_PASSWORD')}@\"\n",
    "        f\"{os.getenv('DB_HOST')}:{os.getenv('DB_PORT')}/{os.getenv('DB_DATABASE')}\"\n",
    "    )\n",
    "    engine = create_engine(connection_string)\n",
    "    \n",
    "    # ISINs for German and Italian 10-year government bonds\n",
    "    german_isin = 'DE0001102572'\n",
    "    italian_isin = 'IT0005437147'\n",
    "    \n",
    "    # Fetch data for German bond\n",
    "    german_df = fetch_yield_curve_data(german_isin, engine)\n",
    "    print(\"German 10-year Government Bond Data:\")\n",
    "    print(german_df)\n",
    "    \n",
    "    # Fetch data for Italian bond\n",
    "    italian_df = fetch_yield_curve_data(italian_isin, engine)\n",
    "    print(\"\\nItalian 10-year Government Bond Data:\")\n",
    "    print(italian_df)\n",
    "    \n",
    "except Exception as e:\n",
    "    print(f\"Data fetch failed: {e}\")\n"
   ]
  },
  {
   "cell_type": "code",
   "execution_count": 36,
   "id": "8bdab7f0-7a2f-413d-8de0-e55e67ac20ab",
   "metadata": {},
   "outputs": [
    {
     "data": {
      "application/vnd.plotly.v1+json": {
       "config": {
        "plotlyServerURL": "https://plot.ly"
       },
       "data": [
        {
         "hovertemplate": "isin=DE000BU0E071<br>Duration=%{x}<br>Yield to Maturity=%{y}<extra></extra>",
         "legendgroup": "DE000BU0E071",
         "marker": {
          "color": "#636efa",
          "symbol": "circle"
         },
         "mode": "markers",
         "name": "DE000BU0E071",
         "orientation": "v",
         "showlegend": true,
         "type": "scatter",
         "x": [
          0.01369
         ],
         "xaxis": "x",
         "y": [
          0.68833
         ],
         "yaxis": "y"
        },
        {
         "hovertemplate": "isin=DE0001102366<br>Duration=%{x}<br>Yield to Maturity=%{y}<extra></extra>",
         "legendgroup": "DE0001102366",
         "marker": {
          "color": "#EF553B",
          "symbol": "circle"
         },
         "mode": "markers",
         "name": "DE0001102366",
         "orientation": "v",
         "showlegend": true,
         "type": "scatter",
         "x": [
          0.08214
         ],
         "xaxis": "x",
         "y": [
          3.56978
         ],
         "yaxis": "y"
        },
        {
         "hovertemplate": "isin=DE000BU0E089<br>Duration=%{x}<br>Yield to Maturity=%{y}<extra></extra>",
         "legendgroup": "DE000BU0E089",
         "marker": {
          "color": "#00cc96",
          "symbol": "circle"
         },
         "mode": "markers",
         "name": "DE000BU0E089",
         "orientation": "v",
         "showlegend": true,
         "type": "scatter",
         "x": [
          0.1013
         ],
         "xaxis": "x",
         "y": [
          3.29638
         ],
         "yaxis": "y"
        },
        {
         "hovertemplate": "isin=DE0001104891<br>Duration=%{x}<br>Yield to Maturity=%{y}<extra></extra>",
         "legendgroup": "DE0001104891",
         "marker": {
          "color": "#ab63fa",
          "symbol": "circle"
         },
         "mode": "markers",
         "name": "DE0001104891",
         "orientation": "v",
         "showlegend": true,
         "type": "scatter",
         "x": [
          0.16153
         ],
         "xaxis": "x",
         "y": [
          3.32024
         ],
         "yaxis": "y"
        },
        {
         "hovertemplate": "isin=DE000BU0E097<br>Duration=%{x}<br>Yield to Maturity=%{y}<extra></extra>",
         "legendgroup": "DE000BU0E097",
         "marker": {
          "color": "#FFA15A",
          "symbol": "circle"
         },
         "mode": "markers",
         "name": "DE000BU0E097",
         "orientation": "v",
         "showlegend": true,
         "type": "scatter",
         "x": [
          0.17522
         ],
         "xaxis": "x",
         "y": [
          3.43479
         ],
         "yaxis": "y"
        },
        {
         "hovertemplate": "isin=DE000BU0E105<br>Duration=%{x}<br>Yield to Maturity=%{y}<extra></extra>",
         "legendgroup": "DE000BU0E105",
         "marker": {
          "color": "#19d3f3",
          "symbol": "circle"
         },
         "mode": "markers",
         "name": "DE000BU0E105",
         "orientation": "v",
         "showlegend": true,
         "type": "scatter",
         "x": [
          0.25188
         ],
         "xaxis": "x",
         "y": [
          3.38913
         ],
         "yaxis": "y"
        },
        {
         "hovertemplate": "isin=DE0001141802<br>Duration=%{x}<br>Yield to Maturity=%{y}<extra></extra>",
         "legendgroup": "DE0001141802",
         "marker": {
          "color": "#FF6692",
          "symbol": "circle"
         },
         "mode": "markers",
         "name": "DE0001141802",
         "orientation": "v",
         "showlegend": true,
         "type": "scatter",
         "x": [
          0.25736
         ],
         "xaxis": "x",
         "y": [
          3.29155
         ],
         "yaxis": "y"
        },
        {
         "hovertemplate": "isin=DE000BU0E113<br>Duration=%{x}<br>Yield to Maturity=%{y}<extra></extra>",
         "legendgroup": "DE000BU0E113",
         "marker": {
          "color": "#B6E880",
          "symbol": "circle"
         },
         "mode": "markers",
         "name": "DE000BU0E113",
         "orientation": "v",
         "showlegend": true,
         "type": "scatter",
         "x": [
          0.34771
         ],
         "xaxis": "x",
         "y": [
          3.41258
         ],
         "yaxis": "y"
        },
        {
         "hovertemplate": "isin=DE000BU0E121<br>Duration=%{x}<br>Yield to Maturity=%{y}<extra></extra>",
         "legendgroup": "DE000BU0E121",
         "marker": {
          "color": "#FF97FF",
          "symbol": "circle"
         },
         "mode": "markers",
         "name": "DE000BU0E121",
         "orientation": "v",
         "showlegend": true,
         "type": "scatter",
         "x": [
          0.4052
         ],
         "xaxis": "x",
         "y": [
          3.39664
         ],
         "yaxis": "y"
        },
        {
         "hovertemplate": "isin=DE0001104909<br>Duration=%{x}<br>Yield to Maturity=%{y}<extra></extra>",
         "legendgroup": "DE0001104909",
         "marker": {
          "color": "#FECB52",
          "symbol": "circle"
         },
         "mode": "markers",
         "name": "DE0001104909",
         "orientation": "v",
         "showlegend": true,
         "type": "scatter",
         "x": [
          0.40794
         ],
         "xaxis": "x",
         "y": [
          3.21103
         ],
         "yaxis": "y"
        },
        {
         "hovertemplate": "isin=DE000BU0E139<br>Duration=%{x}<br>Yield to Maturity=%{y}<extra></extra>",
         "legendgroup": "DE000BU0E139",
         "marker": {
          "color": "#636efa",
          "symbol": "circle"
         },
         "mode": "markers",
         "name": "DE000BU0E139",
         "orientation": "v",
         "showlegend": true,
         "type": "scatter",
         "x": [
          0.50103
         ],
         "xaxis": "x",
         "y": [
          3.35548
         ],
         "yaxis": "y"
        },
        {
         "hovertemplate": "isin=DE0001102374<br>Duration=%{x}<br>Yield to Maturity=%{y}<extra></extra>",
         "legendgroup": "DE0001102374",
         "marker": {
          "color": "#EF553B",
          "symbol": "circle"
         },
         "mode": "markers",
         "name": "DE0001102374",
         "orientation": "v",
         "showlegend": true,
         "type": "scatter",
         "x": [
          0.5859
         ],
         "xaxis": "x",
         "y": [
          3.21349
         ],
         "yaxis": "y"
        },
        {
         "hovertemplate": "isin=DE000BU0E147<br>Duration=%{x}<br>Yield to Maturity=%{y}<extra></extra>",
         "legendgroup": "DE000BU0E147",
         "marker": {
          "color": "#00cc96",
          "symbol": "circle"
         },
         "mode": "markers",
         "name": "DE000BU0E147",
         "orientation": "v",
         "showlegend": true,
         "type": "scatter",
         "x": [
          0.6078
         ],
         "xaxis": "x",
         "y": [
          3.29303
         ],
         "yaxis": "y"
        },
        {
         "hovertemplate": "isin=DE000BU22007<br>Duration=%{x}<br>Yield to Maturity=%{y}<extra></extra>",
         "legendgroup": "DE000BU22007",
         "marker": {
          "color": "#ab63fa",
          "symbol": "circle"
         },
         "mode": "markers",
         "name": "DE000BU22007",
         "orientation": "v",
         "showlegend": true,
         "type": "scatter",
         "x": [
          0.65708
         ],
         "xaxis": "x",
         "y": [
          3.1987
         ],
         "yaxis": "y"
        },
        {
         "hovertemplate": "isin=DE000BU0E154<br>Duration=%{x}<br>Yield to Maturity=%{y}<extra></extra>",
         "legendgroup": "DE000BU0E154",
         "marker": {
          "color": "#FFA15A",
          "symbol": "circle"
         },
         "mode": "markers",
         "name": "DE000BU0E154",
         "orientation": "v",
         "showlegend": true,
         "type": "scatter",
         "x": [
          0.67351
         ],
         "xaxis": "x",
         "y": [
          3.31103
         ],
         "yaxis": "y"
        },
        {
         "hovertemplate": "isin=DE0001141810<br>Duration=%{x}<br>Yield to Maturity=%{y}<extra></extra>",
         "legendgroup": "DE0001141810",
         "marker": {
          "color": "#19d3f3",
          "symbol": "circle"
         },
         "mode": "markers",
         "name": "DE0001141810",
         "orientation": "v",
         "showlegend": true,
         "type": "scatter",
         "x": [
          0.73648
         ],
         "xaxis": "x",
         "y": [
          3.23856
         ],
         "yaxis": "y"
        },
        {
         "hovertemplate": "isin=DE000BU0E162<br>Duration=%{x}<br>Yield to Maturity=%{y}<extra></extra>",
         "legendgroup": "DE000BU0E162",
         "marker": {
          "color": "#FF6692",
          "symbol": "circle"
         },
         "mode": "markers",
         "name": "DE000BU0E162",
         "orientation": "v",
         "showlegend": true,
         "type": "scatter",
         "x": [
          0.75017
         ],
         "xaxis": "x",
         "y": [
          3.28424
         ],
         "yaxis": "y"
        },
        {
         "hovertemplate": "isin=DE000BU0E170<br>Duration=%{x}<br>Yield to Maturity=%{y}<extra></extra>",
         "legendgroup": "DE000BU0E170",
         "marker": {
          "color": "#B6E880",
          "symbol": "circle"
         },
         "mode": "markers",
         "name": "DE000BU0E170",
         "orientation": "v",
         "showlegend": true,
         "type": "scatter",
         "x": [
          0.82683
         ],
         "xaxis": "x",
         "y": [
          3.25026
         ],
         "yaxis": "y"
        },
        {
         "hovertemplate": "isin=DE000BU22015<br>Duration=%{x}<br>Yield to Maturity=%{y}<extra></extra>",
         "legendgroup": "DE000BU22015",
         "marker": {
          "color": "#FF97FF",
          "symbol": "circle"
         },
         "mode": "markers",
         "name": "DE000BU22015",
         "orientation": "v",
         "showlegend": true,
         "type": "scatter",
         "x": [
          0.90623
         ],
         "xaxis": "x",
         "y": [
          3.14943
         ],
         "yaxis": "y"
        },
        {
         "hovertemplate": "isin=DE000BU0E188<br>Duration=%{x}<br>Yield to Maturity=%{y}<extra></extra>",
         "legendgroup": "DE000BU0E188",
         "marker": {
          "color": "#FECB52",
          "symbol": "circle"
         },
         "mode": "markers",
         "name": "DE000BU0E188",
         "orientation": "v",
         "showlegend": true,
         "type": "scatter",
         "x": [
          0.92266
         ],
         "xaxis": "x",
         "y": [
          3.15463
         ],
         "yaxis": "y"
        },
        {
         "hovertemplate": "isin=DE000BU0E196<br>Duration=%{x}<br>Yield to Maturity=%{y}<extra></extra>",
         "legendgroup": "DE000BU0E196",
         "marker": {
          "color": "#636efa",
          "symbol": "circle"
         },
         "mode": "markers",
         "name": "DE000BU0E196",
         "orientation": "v",
         "showlegend": true,
         "type": "scatter",
         "x": [
          1.00205
         ],
         "xaxis": "x",
         "y": [
          3.18846
         ],
         "yaxis": "y"
        },
        {
         "hovertemplate": "isin=DE0001102382<br>Duration=%{x}<br>Yield to Maturity=%{y}<extra></extra>",
         "legendgroup": "DE0001102382",
         "marker": {
          "color": "#EF553B",
          "symbol": "circle"
         },
         "mode": "markers",
         "name": "DE0001102382",
         "orientation": "v",
         "showlegend": true,
         "type": "scatter",
         "x": [
          1.07136
         ],
         "xaxis": "x",
         "y": [
          3.0103
         ],
         "yaxis": "y"
        },
        {
         "hovertemplate": "isin=DE000BU22023<br>Duration=%{x}<br>Yield to Maturity=%{y}<extra></extra>",
         "legendgroup": "DE000BU22023",
         "marker": {
          "color": "#00cc96",
          "symbol": "circle"
         },
         "mode": "markers",
         "name": "DE000BU22023",
         "orientation": "v",
         "showlegend": true,
         "type": "scatter",
         "x": [
          1.14465
         ],
         "xaxis": "x",
         "y": [
          2.53371
         ],
         "yaxis": "y"
        },
        {
         "hovertemplate": "isin=DE0001030716<br>Duration=%{x}<br>Yield to Maturity=%{y}<extra></extra>",
         "legendgroup": "DE0001030716",
         "marker": {
          "color": "#ab63fa",
          "symbol": "circle"
         },
         "mode": "markers",
         "name": "DE0001030716",
         "orientation": "v",
         "showlegend": true,
         "type": "scatter",
         "x": [
          1.23477
         ],
         "xaxis": "x",
         "y": [
          2.92131
         ],
         "yaxis": "y"
        },
        {
         "hovertemplate": "isin=DE0001141828<br>Duration=%{x}<br>Yield to Maturity=%{y}<extra></extra>",
         "legendgroup": "DE0001141828",
         "marker": {
          "color": "#FFA15A",
          "symbol": "circle"
         },
         "mode": "markers",
         "name": "DE0001141828",
         "orientation": "v",
         "showlegend": true,
         "type": "scatter",
         "x": [
          1.23477
         ],
         "xaxis": "x",
         "y": [
          2.90145
         ],
         "yaxis": "y"
        },
        {
         "hovertemplate": "isin=DE000BU22031<br>Duration=%{x}<br>Yield to Maturity=%{y}<extra></extra>",
         "legendgroup": "DE000BU22031",
         "marker": {
          "color": "#19d3f3",
          "symbol": "circle"
         },
         "mode": "markers",
         "name": "DE000BU22031",
         "orientation": "v",
         "showlegend": true,
         "type": "scatter",
         "x": [
          1.37735
         ],
         "xaxis": "x",
         "y": [
          2.6152
         ],
         "yaxis": "y"
        },
        {
         "hovertemplate": "isin=DE0001102390<br>Duration=%{x}<br>Yield to Maturity=%{y}<extra></extra>",
         "legendgroup": "DE0001102390",
         "marker": {
          "color": "#FF6692",
          "symbol": "circle"
         },
         "mode": "markers",
         "name": "DE0001102390",
         "orientation": "v",
         "showlegend": true,
         "type": "scatter",
         "x": [
          1.58013
         ],
         "xaxis": "x",
         "y": [
          2.78162
         ],
         "yaxis": "y"
        },
        {
         "hovertemplate": "isin=DE000BU22049<br>Duration=%{x}<br>Yield to Maturity=%{y}<extra></extra>",
         "legendgroup": "DE000BU22049",
         "marker": {
          "color": "#B6E880",
          "symbol": "circle"
         },
         "mode": "markers",
         "name": "DE000BU22049",
         "orientation": "v",
         "showlegend": true,
         "type": "scatter",
         "x": [
          1.64842
         ],
         "xaxis": "x",
         "y": [
          2.62682
         ],
         "yaxis": "y"
        },
        {
         "hovertemplate": "isin=DE0001141836<br>Duration=%{x}<br>Yield to Maturity=%{y}<extra></extra>",
         "legendgroup": "DE0001141836",
         "marker": {
          "color": "#FF97FF",
          "symbol": "circle"
         },
         "mode": "markers",
         "name": "DE0001141836",
         "orientation": "v",
         "showlegend": true,
         "type": "scatter",
         "x": [
          1.73306
         ],
         "xaxis": "x",
         "y": [
          2.75699
         ],
         "yaxis": "y"
        },
        {
         "hovertemplate": "isin=DE000BU22056<br>Duration=%{x}<br>Yield to Maturity=%{y}<extra></extra>",
         "legendgroup": "DE000BU22056",
         "marker": {
          "color": "#FECB52",
          "symbol": "circle"
         },
         "mode": "markers",
         "name": "DE000BU22056",
         "orientation": "v",
         "showlegend": true,
         "type": "scatter",
         "x": [
          1.89391
         ],
         "xaxis": "x",
         "y": [
          2.50953
         ],
         "yaxis": "y"
        },
        {
         "hovertemplate": "isin=DE0001102408<br>Duration=%{x}<br>Yield to Maturity=%{y}<extra></extra>",
         "legendgroup": "DE0001102408",
         "marker": {
          "color": "#636efa",
          "symbol": "circle"
         },
         "mode": "markers",
         "name": "DE0001102408",
         "orientation": "v",
         "showlegend": true,
         "type": "scatter",
         "x": [
          2.08077
         ],
         "xaxis": "x",
         "y": [
          2.63084
         ],
         "yaxis": "y"
        },
        {
         "hovertemplate": "isin=DE0001141844<br>Duration=%{x}<br>Yield to Maturity=%{y}<extra></extra>",
         "legendgroup": "DE0001141844",
         "marker": {
          "color": "#EF553B",
          "symbol": "circle"
         },
         "mode": "markers",
         "name": "DE0001141844",
         "orientation": "v",
         "showlegend": true,
         "type": "scatter",
         "x": [
          2.23135
         ],
         "xaxis": "x",
         "y": [
          2.21455
         ],
         "yaxis": "y"
        },
        {
         "hovertemplate": "isin=DE0001102416<br>Duration=%{x}<br>Yield to Maturity=%{y}<extra></extra>",
         "legendgroup": "DE0001102416",
         "marker": {
          "color": "#00cc96",
          "symbol": "circle"
         },
         "mode": "markers",
         "name": "DE0001102416",
         "orientation": "v",
         "showlegend": true,
         "type": "scatter",
         "x": [
          2.57677
         ],
         "xaxis": "x",
         "y": [
          2.5539
         ],
         "yaxis": "y"
        },
        {
         "hovertemplate": "isin=DE0001141851<br>Duration=%{x}<br>Yield to Maturity=%{y}<extra></extra>",
         "legendgroup": "DE0001141851",
         "marker": {
          "color": "#ab63fa",
          "symbol": "circle"
         },
         "mode": "markers",
         "name": "DE0001141851",
         "orientation": "v",
         "showlegend": true,
         "type": "scatter",
         "x": [
          2.7488
         ],
         "xaxis": "x",
         "y": [
          2.53343
         ],
         "yaxis": "y"
        },
        {
         "hovertemplate": "isin=DE0001135044<br>Duration=%{x}<br>Yield to Maturity=%{y}<extra></extra>",
         "legendgroup": "DE0001135044",
         "marker": {
          "color": "#FFA15A",
          "symbol": "circle"
         },
         "mode": "markers",
         "name": "DE0001135044",
         "orientation": "v",
         "showlegend": true,
         "type": "scatter",
         "x": [
          2.79574
         ],
         "xaxis": "x",
         "y": [
          2.54712
         ],
         "yaxis": "y"
        },
        {
         "hovertemplate": "isin=DE0001102424<br>Duration=%{x}<br>Yield to Maturity=%{y}<extra></extra>",
         "legendgroup": "DE0001102424",
         "marker": {
          "color": "#19d3f3",
          "symbol": "circle"
         },
         "mode": "markers",
         "name": "DE0001102424",
         "orientation": "v",
         "showlegend": true,
         "type": "scatter",
         "x": [
          3.04899
         ],
         "xaxis": "x",
         "y": [
          2.47014
         ],
         "yaxis": "y"
        },
        {
         "hovertemplate": "isin=DE0001141869<br>Duration=%{x}<br>Yield to Maturity=%{y}<extra></extra>",
         "legendgroup": "DE0001141869",
         "marker": {
          "color": "#FF6692",
          "symbol": "circle"
         },
         "mode": "markers",
         "name": "DE0001141869",
         "orientation": "v",
         "showlegend": true,
         "type": "scatter",
         "x": [
          3.16879
         ],
         "xaxis": "x",
         "y": [
          2.47132
         ],
         "yaxis": "y"
        },
        {
         "hovertemplate": "isin=DE0001030740<br>Duration=%{x}<br>Yield to Maturity=%{y}<extra></extra>",
         "legendgroup": "DE0001030740",
         "marker": {
          "color": "#B6E880",
          "symbol": "circle"
         },
         "mode": "markers",
         "name": "DE0001030740",
         "orientation": "v",
         "showlegend": true,
         "type": "scatter",
         "x": [
          3.1688
         ],
         "xaxis": "x",
         "y": [
          2.46368
         ],
         "yaxis": "y"
        },
        {
         "hovertemplate": "isin=DE0001135069<br>Duration=%{x}<br>Yield to Maturity=%{y}<extra></extra>",
         "legendgroup": "DE0001135069",
         "marker": {
          "color": "#FF97FF",
          "symbol": "circle"
         },
         "mode": "markers",
         "name": "DE0001135069",
         "orientation": "v",
         "showlegend": true,
         "type": "scatter",
         "x": [
          3.17937
         ],
         "xaxis": "x",
         "y": [
          2.46983
         ],
         "yaxis": "y"
        },
        {
         "hovertemplate": "isin=DE0001102523<br>Duration=%{x}<br>Yield to Maturity=%{y}<extra></extra>",
         "legendgroup": "DE0001102523",
         "marker": {
          "color": "#FECB52",
          "symbol": "circle"
         },
         "mode": "markers",
         "name": "DE0001102523",
         "orientation": "v",
         "showlegend": true,
         "type": "scatter",
         "x": [
          3.33196
         ],
         "xaxis": "x",
         "y": [
          2.46925
         ],
         "yaxis": "y"
        },
        {
         "hovertemplate": "isin=DE0001102440<br>Duration=%{x}<br>Yield to Maturity=%{y}<extra></extra>",
         "legendgroup": "DE0001102440",
         "marker": {
          "color": "#636efa",
          "symbol": "circle"
         },
         "mode": "markers",
         "name": "DE0001102440",
         "orientation": "v",
         "showlegend": true,
         "type": "scatter",
         "x": [
          3.55278
         ],
         "xaxis": "x",
         "y": [
          2.42708
         ],
         "yaxis": "y"
        },
        {
         "hovertemplate": "isin=DE000BU25000<br>Duration=%{x}<br>Yield to Maturity=%{y}<extra></extra>",
         "legendgroup": "DE000BU25000",
         "marker": {
          "color": "#EF553B",
          "symbol": "circle"
         },
         "mode": "markers",
         "name": "DE000BU25000",
         "orientation": "v",
         "showlegend": true,
         "type": "scatter",
         "x": [
          3.61459
         ],
         "xaxis": "x",
         "y": [
          2.43273
         ],
         "yaxis": "y"
        },
        {
         "hovertemplate": "isin=DE0001135085<br>Duration=%{x}<br>Yield to Maturity=%{y}<extra></extra>",
         "legendgroup": "DE0001135085",
         "marker": {
          "color": "#00cc96",
          "symbol": "circle"
         },
         "mode": "markers",
         "name": "DE0001135085",
         "orientation": "v",
         "showlegend": true,
         "type": "scatter",
         "x": [
          3.71511
         ],
         "xaxis": "x",
         "y": [
          2.43214
         ],
         "yaxis": "y"
        },
        {
         "hovertemplate": "isin=DE000BU25018<br>Duration=%{x}<br>Yield to Maturity=%{y}<extra></extra>",
         "legendgroup": "DE000BU25018",
         "marker": {
          "color": "#ab63fa",
          "symbol": "circle"
         },
         "mode": "markers",
         "name": "DE000BU25018",
         "orientation": "v",
         "showlegend": true,
         "type": "scatter",
         "x": [
          4.03219
         ],
         "xaxis": "x",
         "y": [
          2.21883
         ],
         "yaxis": "y"
        },
        {
         "hovertemplate": "isin=DE0001102457<br>Duration=%{x}<br>Yield to Maturity=%{y}<extra></extra>",
         "legendgroup": "DE0001102457",
         "marker": {
          "color": "#FFA15A",
          "symbol": "circle"
         },
         "mode": "markers",
         "name": "DE0001102457",
         "orientation": "v",
         "showlegend": true,
         "type": "scatter",
         "x": [
          4.05565
         ],
         "xaxis": "x",
         "y": [
          2.3682
         ],
         "yaxis": "y"
        },
        {
         "hovertemplate": "isin=DE0001102556<br>Duration=%{x}<br>Yield to Maturity=%{y}<extra></extra>",
         "legendgroup": "DE0001102556",
         "marker": {
          "color": "#19d3f3",
          "symbol": "circle"
         },
         "mode": "markers",
         "name": "DE0001102556",
         "orientation": "v",
         "showlegend": true,
         "type": "scatter",
         "x": [
          4.33402
         ],
         "xaxis": "x",
         "y": [
          2.36333
         ],
         "yaxis": "y"
        },
        {
         "hovertemplate": "isin=DE000BU35025<br>Duration=%{x}<br>Yield to Maturity=%{y}<extra></extra>",
         "legendgroup": "DE000BU35025",
         "marker": {
          "color": "#FF6692",
          "symbol": "circle"
         },
         "mode": "markers",
         "name": "DE000BU35025",
         "orientation": "v",
         "showlegend": true,
         "type": "scatter",
         "x": [
          4.53663
         ],
         "xaxis": "x",
         "y": [
          2.29059
         ],
         "yaxis": "y"
        },
        {
         "hovertemplate": "isin=DE000BU25026<br>Duration=%{x}<br>Yield to Maturity=%{y}<extra></extra>",
         "legendgroup": "DE000BU25026",
         "marker": {
          "color": "#B6E880",
          "symbol": "circle"
         },
         "mode": "markers",
         "name": "DE000BU25026",
         "orientation": "v",
         "showlegend": true,
         "type": "scatter",
         "x": [
          4.53663
         ],
         "xaxis": "x",
         "y": [
          2.29149
         ],
         "yaxis": "y"
        },
        {
         "hovertemplate": "isin=DE0001102465<br>Duration=%{x}<br>Yield to Maturity=%{y}<extra></extra>",
         "legendgroup": "DE0001102465",
         "marker": {
          "color": "#FF97FF",
          "symbol": "circle"
         },
         "mode": "markers",
         "name": "DE0001102465",
         "orientation": "v",
         "showlegend": true,
         "type": "scatter",
         "x": [
          4.55943
         ],
         "xaxis": "x",
         "y": [
          2.34356
         ],
         "yaxis": "y"
        },
        {
         "hovertemplate": "isin=DE0001135143<br>Duration=%{x}<br>Yield to Maturity=%{y}<extra></extra>",
         "legendgroup": "DE0001135143",
         "marker": {
          "color": "#FECB52",
          "symbol": "circle"
         },
         "mode": "markers",
         "name": "DE0001135143",
         "orientation": "v",
         "showlegend": true,
         "type": "scatter",
         "x": [
          4.73889
         ],
         "xaxis": "x",
         "y": [
          2.38022
         ],
         "yaxis": "y"
        },
        {
         "hovertemplate": "isin=DE0001102622<br>Duration=%{x}<br>Yield to Maturity=%{y}<extra></extra>",
         "legendgroup": "DE0001102622",
         "marker": {
          "color": "#636efa",
          "symbol": "circle"
         },
         "mode": "markers",
         "name": "DE0001102622",
         "orientation": "v",
         "showlegend": true,
         "type": "scatter",
         "x": [
          5.03011
         ],
         "xaxis": "x",
         "y": [
          2.40172
         ],
         "yaxis": "y"
        },
        {
         "hovertemplate": "isin=DE0001102473<br>Duration=%{x}<br>Yield to Maturity=%{y}<extra></extra>",
         "legendgroup": "DE0001102473",
         "marker": {
          "color": "#EF553B",
          "symbol": "circle"
         },
         "mode": "markers",
         "name": "DE0001102473",
         "orientation": "v",
         "showlegend": true,
         "type": "scatter",
         "x": [
          5.08145
         ],
         "xaxis": "x",
         "y": [
          2.33906
         ],
         "yaxis": "y"
        },
        {
         "hovertemplate": "isin=DE0001135176<br>Duration=%{x}<br>Yield to Maturity=%{y}<extra></extra>",
         "legendgroup": "DE0001135176",
         "marker": {
          "color": "#00cc96",
          "symbol": "circle"
         },
         "mode": "markers",
         "name": "DE0001135176",
         "orientation": "v",
         "showlegend": true,
         "type": "scatter",
         "x": [
          5.56306
         ],
         "xaxis": "x",
         "y": [
          2.42394
         ],
         "yaxis": "y"
        },
        {
         "hovertemplate": "isin=DE0001102499<br>Duration=%{x}<br>Yield to Maturity=%{y}<extra></extra>",
         "legendgroup": "DE0001102499",
         "marker": {
          "color": "#ab63fa",
          "symbol": "circle"
         },
         "mode": "markers",
         "name": "DE0001102499",
         "orientation": "v",
         "showlegend": true,
         "type": "scatter",
         "x": [
          5.58522
         ],
         "xaxis": "x",
         "y": [
          2.3335
         ],
         "yaxis": "y"
        },
        {
         "hovertemplate": "isin=DE000BU27006<br>Duration=%{x}<br>Yield to Maturity=%{y}<extra></extra>",
         "legendgroup": "DE000BU27006",
         "marker": {
          "color": "#FFA15A",
          "symbol": "circle"
         },
         "mode": "markers",
         "name": "DE000BU27006",
         "orientation": "v",
         "showlegend": true,
         "type": "scatter",
         "x": [
          5.8619
         ],
         "xaxis": "x",
         "y": [
          2.25727
         ],
         "yaxis": "y"
        },
        {
         "hovertemplate": "isin=DE0001102507<br>Duration=%{x}<br>Yield to Maturity=%{y}<extra></extra>",
         "legendgroup": "DE0001102507",
         "marker": {
          "color": "#19d3f3",
          "symbol": "circle"
         },
         "mode": "markers",
         "name": "DE0001102507",
         "orientation": "v",
         "showlegend": true,
         "type": "scatter",
         "x": [
          6.08077
         ],
         "xaxis": "x",
         "y": [
          2.31808
         ],
         "yaxis": "y"
        },
        {
         "hovertemplate": "isin=DE0001030708<br>Duration=%{x}<br>Yield to Maturity=%{y}<extra></extra>",
         "legendgroup": "DE0001030708",
         "marker": {
          "color": "#FF6692",
          "symbol": "circle"
         },
         "mode": "markers",
         "name": "DE0001030708",
         "orientation": "v",
         "showlegend": true,
         "type": "scatter",
         "x": [
          6.08077
         ],
         "xaxis": "x",
         "y": [
          2.30561
         ],
         "yaxis": "y"
        },
        {
         "hovertemplate": "isin=DE0001102531<br>Duration=%{x}<br>Yield to Maturity=%{y}<extra></extra>",
         "legendgroup": "DE0001102531",
         "marker": {
          "color": "#B6E880",
          "symbol": "circle"
         },
         "mode": "markers",
         "name": "DE0001102531",
         "orientation": "v",
         "showlegend": true,
         "type": "scatter",
         "x": [
          6.58453
         ],
         "xaxis": "x",
         "y": [
          2.32242
         ],
         "yaxis": "y"
        },
        {
         "hovertemplate": "isin=DE0001030732<br>Duration=%{x}<br>Yield to Maturity=%{y}<extra></extra>",
         "legendgroup": "DE0001030732",
         "marker": {
          "color": "#FF97FF",
          "symbol": "circle"
         },
         "mode": "markers",
         "name": "DE0001030732",
         "orientation": "v",
         "showlegend": true,
         "type": "scatter",
         "x": [
          7.08008
         ],
         "xaxis": "x",
         "y": [
          2.314
         ],
         "yaxis": "y"
        },
        {
         "hovertemplate": "isin=DE0001102564<br>Duration=%{x}<br>Yield to Maturity=%{y}<extra></extra>",
         "legendgroup": "DE0001102564",
         "marker": {
          "color": "#FECB52",
          "symbol": "circle"
         },
         "mode": "markers",
         "name": "DE0001102564",
         "orientation": "v",
         "showlegend": true,
         "type": "scatter",
         "x": [
          7.08008
         ],
         "xaxis": "x",
         "y": [
          2.30364
         ],
         "yaxis": "y"
        },
        {
         "hovertemplate": "isin=DE0001102606<br>Duration=%{x}<br>Yield to Maturity=%{y}<extra></extra>",
         "legendgroup": "DE0001102606",
         "marker": {
          "color": "#636efa",
          "symbol": "circle"
         },
         "mode": "markers",
         "name": "DE0001102606",
         "orientation": "v",
         "showlegend": true,
         "type": "scatter",
         "x": [
          7.48437
         ],
         "xaxis": "x",
         "y": [
          2.3305
         ],
         "yaxis": "y"
        },
        {
         "hovertemplate": "isin=DE0001102580<br>Duration=%{x}<br>Yield to Maturity=%{y}<extra></extra>",
         "legendgroup": "DE0001102580",
         "marker": {
          "color": "#EF553B",
          "symbol": "circle"
         },
         "mode": "markers",
         "name": "DE0001102580",
         "orientation": "v",
         "showlegend": true,
         "type": "scatter",
         "x": [
          7.58385
         ],
         "xaxis": "x",
         "y": [
          2.32387
         ],
         "yaxis": "y"
        },
        {
         "hovertemplate": "isin=DE000BU2Z007<br>Duration=%{x}<br>Yield to Maturity=%{y}<extra></extra>",
         "legendgroup": "DE000BU2Z007",
         "marker": {
          "color": "#00cc96",
          "symbol": "circle"
         },
         "mode": "markers",
         "name": "DE000BU2Z007",
         "orientation": "v",
         "showlegend": true,
         "type": "scatter",
         "x": [
          7.81495
         ],
         "xaxis": "x",
         "y": [
          2.36519
         ],
         "yaxis": "y"
        },
        {
         "hovertemplate": "isin=DE000BU3Z005<br>Duration=%{x}<br>Yield to Maturity=%{y}<extra></extra>",
         "legendgroup": "DE000BU3Z005",
         "marker": {
          "color": "#ab63fa",
          "symbol": "circle"
         },
         "mode": "markers",
         "name": "DE000BU3Z005",
         "orientation": "v",
         "showlegend": true,
         "type": "scatter",
         "x": [
          7.81551
         ],
         "xaxis": "x",
         "y": [
          2.35038
         ],
         "yaxis": "y"
        },
        {
         "hovertemplate": "isin=DE000BU2Z015<br>Duration=%{x}<br>Yield to Maturity=%{y}<extra></extra>",
         "legendgroup": "DE000BU2Z015",
         "marker": {
          "color": "#FFA15A",
          "symbol": "circle"
         },
         "mode": "markers",
         "name": "DE000BU2Z015",
         "orientation": "v",
         "showlegend": true,
         "type": "scatter",
         "x": [
          8.02866
         ],
         "xaxis": "x",
         "y": [
          2.35144
         ],
         "yaxis": "y"
        },
        {
         "hovertemplate": "isin=DE0001135226<br>Duration=%{x}<br>Yield to Maturity=%{y}<extra></extra>",
         "legendgroup": "DE0001135226",
         "marker": {
          "color": "#19d3f3",
          "symbol": "circle"
         },
         "mode": "markers",
         "name": "DE0001135226",
         "orientation": "v",
         "showlegend": true,
         "type": "scatter",
         "x": [
          8.33824
         ],
         "xaxis": "x",
         "y": [
          2.42182
         ],
         "yaxis": "y"
        },
        {
         "hovertemplate": "isin=DE000BU2Z023<br>Duration=%{x}<br>Yield to Maturity=%{y}<extra></extra>",
         "legendgroup": "DE000BU2Z023",
         "marker": {
          "color": "#FF6692",
          "symbol": "circle"
         },
         "mode": "markers",
         "name": "DE000BU2Z023",
         "orientation": "v",
         "showlegend": true,
         "type": "scatter",
         "x": [
          8.66091
         ],
         "xaxis": "x",
         "y": [
          2.38408
         ],
         "yaxis": "y"
        },
        {
         "hovertemplate": "isin=DE000BU2Z031<br>Duration=%{x}<br>Yield to Maturity=%{y}<extra></extra>",
         "legendgroup": "DE000BU2Z031",
         "marker": {
          "color": "#B6E880",
          "symbol": "circle"
         },
         "mode": "markers",
         "name": "DE000BU2Z031",
         "orientation": "v",
         "showlegend": true,
         "type": "scatter",
         "x": [
          9.0257
         ],
         "xaxis": "x",
         "y": [
          2.39471
         ],
         "yaxis": "y"
        },
        {
         "hovertemplate": "isin=DE0001135275<br>Duration=%{x}<br>Yield to Maturity=%{y}<extra></extra>",
         "legendgroup": "DE0001135275",
         "marker": {
          "color": "#FF97FF",
          "symbol": "circle"
         },
         "mode": "markers",
         "name": "DE0001135275",
         "orientation": "v",
         "showlegend": true,
         "type": "scatter",
         "x": [
          10.07231
         ],
         "xaxis": "x",
         "y": [
          2.5343
         ],
         "yaxis": "y"
        },
        {
         "hovertemplate": "isin=DE0001102515<br>Duration=%{x}<br>Yield to Maturity=%{y}<extra></extra>",
         "legendgroup": "DE0001102515",
         "marker": {
          "color": "#FECB52",
          "symbol": "circle"
         },
         "mode": "markers",
         "name": "DE0001102515",
         "orientation": "v",
         "showlegend": true,
         "type": "scatter",
         "x": [
          10.82821
         ],
         "xaxis": "x",
         "y": [
          2.45786
         ],
         "yaxis": "y"
        },
        {
         "hovertemplate": "isin=DE0001135325<br>Duration=%{x}<br>Yield to Maturity=%{y}<extra></extra>",
         "legendgroup": "DE0001135325",
         "marker": {
          "color": "#636efa",
          "symbol": "circle"
         },
         "mode": "markers",
         "name": "DE0001135325",
         "orientation": "v",
         "showlegend": true,
         "type": "scatter",
         "x": [
          11.71784
         ],
         "xaxis": "x",
         "y": [
          2.60077
         ],
         "yaxis": "y"
        },
        {
         "hovertemplate": "isin=DE0001102549<br>Duration=%{x}<br>Yield to Maturity=%{y}<extra></extra>",
         "legendgroup": "DE0001102549",
         "marker": {
          "color": "#EF553B",
          "symbol": "circle"
         },
         "mode": "markers",
         "name": "DE0001102549",
         "orientation": "v",
         "showlegend": true,
         "type": "scatter",
         "x": [
          11.83025
         ],
         "xaxis": "x",
         "y": [
          2.50244
         ],
         "yaxis": "y"
        },
        {
         "hovertemplate": "isin=DE0001135366<br>Duration=%{x}<br>Yield to Maturity=%{y}<extra></extra>",
         "legendgroup": "DE0001135366",
         "marker": {
          "color": "#00cc96",
          "symbol": "circle"
         },
         "mode": "markers",
         "name": "DE0001135366",
         "orientation": "v",
         "showlegend": true,
         "type": "scatter",
         "x": [
          12.09292
         ],
         "xaxis": "x",
         "y": [
          2.60917
         ],
         "yaxis": "y"
        },
        {
         "hovertemplate": "isin=DE0001102598<br>Duration=%{x}<br>Yield to Maturity=%{y}<extra></extra>",
         "legendgroup": "DE0001102598",
         "marker": {
          "color": "#ab63fa",
          "symbol": "circle"
         },
         "mode": "markers",
         "name": "DE0001102598",
         "orientation": "v",
         "showlegend": true,
         "type": "scatter",
         "x": [
          12.84314
         ],
         "xaxis": "x",
         "y": [
          2.59486
         ],
         "yaxis": "y"
        },
        {
         "hovertemplate": "isin=DE000BU2F009<br>Duration=%{x}<br>Yield to Maturity=%{y}<extra></extra>",
         "legendgroup": "DE000BU2F009",
         "marker": {
          "color": "#FFA15A",
          "symbol": "circle"
         },
         "mode": "markers",
         "name": "DE000BU2F009",
         "orientation": "v",
         "showlegend": true,
         "type": "scatter",
         "x": [
          13.77505
         ],
         "xaxis": "x",
         "y": [
          2.6338
         ],
         "yaxis": "y"
        },
        {
         "hovertemplate": "isin=DE0001135432<br>Duration=%{x}<br>Yield to Maturity=%{y}<extra></extra>",
         "legendgroup": "DE0001135432",
         "marker": {
          "color": "#19d3f3",
          "symbol": "circle"
         },
         "mode": "markers",
         "name": "DE0001135432",
         "orientation": "v",
         "showlegend": true,
         "type": "scatter",
         "x": [
          14.06554
         ],
         "xaxis": "x",
         "y": [
          2.63422
         ],
         "yaxis": "y"
        },
        {
         "hovertemplate": "isin=DE0001135481<br>Duration=%{x}<br>Yield to Maturity=%{y}<extra></extra>",
         "legendgroup": "DE0001135481",
         "marker": {
          "color": "#FF6692",
          "symbol": "circle"
         },
         "mode": "markers",
         "name": "DE0001135481",
         "orientation": "v",
         "showlegend": true,
         "type": "scatter",
         "x": [
          15.88885
         ],
         "xaxis": "x",
         "y": [
          2.65173
         ],
         "yaxis": "y"
        },
        {
         "hovertemplate": "isin=DE0001102341<br>Duration=%{x}<br>Yield to Maturity=%{y}<extra></extra>",
         "legendgroup": "DE0001102341",
         "marker": {
          "color": "#B6E880",
          "symbol": "circle"
         },
         "mode": "markers",
         "name": "DE0001102341",
         "orientation": "v",
         "showlegend": true,
         "type": "scatter",
         "x": [
          16.76985
         ],
         "xaxis": "x",
         "y": [
          2.64303
         ],
         "yaxis": "y"
        },
        {
         "hovertemplate": "isin=DE0001102432<br>Duration=%{x}<br>Yield to Maturity=%{y}<extra></extra>",
         "legendgroup": "DE0001102432",
         "marker": {
          "color": "#FF97FF",
          "symbol": "circle"
         },
         "mode": "markers",
         "name": "DE0001102432",
         "orientation": "v",
         "showlegend": true,
         "type": "scatter",
         "x": [
          20.05054
         ],
         "xaxis": "x",
         "y": [
          2.61488
         ],
         "yaxis": "y"
        },
        {
         "hovertemplate": "isin=DE000BU2D004<br>Duration=%{x}<br>Yield to Maturity=%{y}<extra></extra>",
         "legendgroup": "DE000BU2D004",
         "marker": {
          "color": "#FECB52",
          "symbol": "circle"
         },
         "mode": "markers",
         "name": "DE000BU2D004",
         "orientation": "v",
         "showlegend": true,
         "type": "scatter",
         "x": [
          21.47382
         ],
         "xaxis": "x",
         "y": [
          2.55933
         ],
         "yaxis": "y"
        },
        {
         "hovertemplate": "isin=DE0001102614<br>Duration=%{x}<br>Yield to Maturity=%{y}<extra></extra>",
         "legendgroup": "DE0001102614",
         "marker": {
          "color": "#636efa",
          "symbol": "circle"
         },
         "mode": "markers",
         "name": "DE0001102614",
         "orientation": "v",
         "showlegend": true,
         "type": "scatter",
         "x": [
          21.76527
         ],
         "xaxis": "x",
         "y": [
          2.61069
         ],
         "yaxis": "y"
        },
        {
         "hovertemplate": "isin=DE0001030757<br>Duration=%{x}<br>Yield to Maturity=%{y}<extra></extra>",
         "legendgroup": "DE0001030757",
         "marker": {
          "color": "#EF553B",
          "symbol": "circle"
         },
         "mode": "markers",
         "name": "DE0001030757",
         "orientation": "v",
         "showlegend": true,
         "type": "scatter",
         "x": [
          21.77209
         ],
         "xaxis": "x",
         "y": [
          2.60362
         ],
         "yaxis": "y"
        },
        {
         "hovertemplate": "isin=DE0001102481<br>Duration=%{x}<br>Yield to Maturity=%{y}<extra></extra>",
         "legendgroup": "DE0001102481",
         "marker": {
          "color": "#00cc96",
          "symbol": "circle"
         },
         "mode": "markers",
         "name": "DE0001102481",
         "orientation": "v",
         "showlegend": true,
         "type": "scatter",
         "x": [
          26.08074
         ],
         "xaxis": "x",
         "y": [
          2.58297
         ],
         "yaxis": "y"
        },
        {
         "hovertemplate": "isin=DE0001030724<br>Duration=%{x}<br>Yield to Maturity=%{y}<extra></extra>",
         "legendgroup": "DE0001030724",
         "marker": {
          "color": "#ab63fa",
          "symbol": "circle"
         },
         "mode": "markers",
         "name": "DE0001030724",
         "orientation": "v",
         "showlegend": true,
         "type": "scatter",
         "x": [
          26.08076
         ],
         "xaxis": "x",
         "y": [
          2.56869
         ],
         "yaxis": "y"
        },
        {
         "hovertemplate": "isin=DE0001102572<br>Duration=%{x}<br>Yield to Maturity=%{y}<extra></extra>",
         "legendgroup": "DE0001102572",
         "marker": {
          "color": "#FFA15A",
          "symbol": "circle"
         },
         "mode": "markers",
         "name": "DE0001102572",
         "orientation": "v",
         "showlegend": true,
         "type": "scatter",
         "x": [
          28.08212
         ],
         "xaxis": "x",
         "y": [
          2.56361
         ],
         "yaxis": "y"
        },
        {
         "marker": {
          "color": "red",
          "size": 12
         },
         "mode": "markers",
         "name": "Italian Bonds",
         "type": "scatter",
         "x": [
          0.04107,
          0.06023,
          0.06571,
          0.0794,
          0.08214,
          0.12868,
          0.12868,
          0.16153,
          0.20808,
          0.23272,
          0.24093,
          0.24641,
          0.3039,
          0.33128,
          0.33402,
          0.37235,
          0.37782,
          0.41068,
          0.41615,
          0.49829,
          0.5065,
          0.54668,
          0.58316,
          0.60233,
          0.61223,
          0.64613,
          0.65982,
          0.68987,
          0.74196,
          0.7447,
          0.81314,
          0.82597,
          0.82683,
          0.87237,
          0.90897,
          0.95368,
          0.99384,
          1.0724,
          1.09514,
          1.09514,
          1.1783,
          1.22656,
          1.24298,
          1.31476,
          1.3622,
          1.46201,
          1.47471,
          1.48909,
          1.53917,
          1.55966,
          1.56879,
          1.57402,
          1.64545,
          1.692,
          1.70842,
          1.74127,
          1.80698,
          1.85139,
          1.96471,
          2.04244,
          2.06434,
          2.07388,
          2.09172,
          2.13434,
          2.14921,
          2.2423,
          2.29432,
          2.34479,
          2.4773,
          2.47788,
          2.5681,
          2.64476,
          2.66563,
          2.77019,
          2.78423,
          2.79326,
          2.80356,
          2.87192,
          2.93504,
          2.99916,
          3.06365,
          3.11347,
          3.14032,
          3.24035,
          3.24162,
          3.29363,
          3.40613,
          3.48497,
          3.54707,
          3.55486,
          3.64408,
          3.64456,
          3.64682,
          3.68515,
          3.70306,
          3.72801,
          3.7479,
          3.89049,
          3.96028,
          3.96167,
          4.0575,
          4.12931,
          4.13142,
          4.13513,
          4.23272,
          4.53126,
          4.5461,
          4.56947,
          4.58042,
          4.60512,
          4.61171,
          4.63792,
          4.65242,
          4.68007,
          4.6872,
          4.73101,
          4.73402,
          4.85893,
          4.93313,
          4.97741,
          5.05681,
          5.09273,
          5.14168,
          5.23203,
          5.29774,
          5.35662,
          5.47675,
          5.6345,
          5.63615,
          5.64545,
          5.71103,
          5.84363,
          5.8566,
          6.046,
          6.05613,
          6.141,
          6.15743,
          6.23135,
          6.27522,
          6.36436,
          6.39288,
          6.40657,
          6.48541,
          6.63655,
          6.7856,
          6.78987,
          6.85797,
          6.86548,
          6.97878,
          7.1038,
          7.11189,
          7.13642,
          7.15674,
          7.18518,
          7.22519,
          7.23066,
          7.3748,
          7.54979,
          7.56335,
          7.73109,
          7.73169,
          7.74812,
          7.8305,
          7.84507,
          7.93854,
          7.97604,
          8.0575,
          8.09086,
          8.10368,
          8.22724,
          8.23272,
          8.36565,
          8.63792,
          8.73101,
          8.82542,
          8.87864,
          8.98015,
          9.18823,
          9.23203,
          9.69199,
          9.73032,
          9.84177,
          9.9822,
          10.141,
          10.23135,
          10.30527,
          10.34915,
          10.42652,
          10.51824,
          10.72142,
          10.7755,
          10.85939,
          10.97878,
          11.14031,
          11.22245,
          11.32444,
          11.34142,
          11.34966,
          11.42506,
          11.47433,
          11.69914,
          11.72347,
          11.9781,
          12.13033,
          12.2245,
          12.47638,
          12.72279,
          12.85421,
          12.98015,
          12.99465,
          13.2571,
          13.27309,
          13.77687,
          13.84345,
          13.9691,
          13.9822,
          14.45625,
          14.47502,
          14.76522,
          14.77619,
          14.9079,
          14.98152,
          15.24149,
          15.32649,
          15.48528,
          15.65624,
          15.82826,
          16.06492,
          16.29569,
          16.56776,
          16.94502,
          17.48665,
          17.88251,
          19.20587,
          19.7974,
          19.82898,
          20.70364,
          21.76593,
          21.91941,
          22.26696,
          24.2546,
          24.5128,
          27.64684,
          29.77139
         ],
         "y": [
          3.16794,
          4.51016,
          3.39285,
          3.43771,
          3.1826,
          3.41893,
          2.87444,
          3.26092,
          3.37356,
          3.57452,
          3.26033,
          3.45726,
          5.69197,
          3.54684,
          3.47676,
          3.55701,
          3.40961,
          3.48759,
          3.37037,
          3.46076,
          3.79789,
          3.30605,
          3.49245,
          3.87163,
          3.47912,
          3.78848,
          3.47543,
          3.44166,
          3.68612,
          3.41547,
          3.68412,
          3.28581,
          3.37991,
          3.28429,
          3.39602,
          3.29509,
          3.37497,
          3.29297,
          3.56938,
          3.63723,
          3.31022,
          3.73937,
          3.5949,
          3.16516,
          3.14202,
          3.55082,
          3.19448,
          3.22023,
          3.14538,
          3.18374,
          3.51336,
          5.10312,
          3.40005,
          3.14802,
          3.11273,
          3.55662,
          3.48903,
          3.08205,
          3.07718,
          3.08605,
          3.4498,
          3.10058,
          3.17545,
          3.07522,
          3.46223,
          3.52104,
          3.04477,
          3.03761,
          3.08244,
          3.05246,
          3.43947,
          3.41537,
          3.06039,
          3.50255,
          3.56649,
          3.04958,
          3.38108,
          3.11398,
          3.07099,
          3.06837,
          3.44375,
          3.05535,
          3.39043,
          3.08323,
          3.5206,
          2.9908,
          3.07932,
          3.1083,
          3.77953,
          5.3825,
          3.6495,
          3.09026,
          3.46543,
          3.59934,
          3.61141,
          3.13531,
          3.1365,
          3.66584,
          3.09712,
          3.19558,
          3.3804,
          3.18682,
          2.93651,
          3.11906,
          3.54512,
          3.15453,
          3.72663,
          3.51104,
          3.40013,
          3.23053,
          3.20788,
          3.50017,
          3.19476,
          3.20185,
          3.75988,
          3.57664,
          3.70436,
          4.93826,
          3.2741,
          3.46617,
          3.47345,
          3.24431,
          3.53148,
          3.61095,
          3.29483,
          3.33509,
          3.27734,
          3.27847,
          3.36809,
          3.74059,
          3.35888,
          3.3252,
          3.39908,
          3.35908,
          3.61159,
          3.64719,
          3.51346,
          3.732,
          3.44594,
          3.40452,
          3.85298,
          3.68206,
          3.37801,
          3.68705,
          4.36906,
          3.32581,
          3.58073,
          3.39544,
          3.6103,
          3.42075,
          3.42758,
          4.13193,
          3.72478,
          5.18248,
          3.95528,
          3.80468,
          3.57694,
          3.52027,
          3.4685,
          3.64279,
          3.8449,
          3.79612,
          4.23202,
          3.7431,
          3.67471,
          3.6965,
          3.85266,
          5.64812,
          3.57176,
          4.03211,
          3.90793,
          3.71465,
          3.91561,
          3.99343,
          3.73503,
          3.76027,
          3.88386,
          3.95723,
          4.04024,
          4.01688,
          4.15095,
          3.82904,
          3.82647,
          4.09109,
          4.18049,
          3.45733,
          3.92216,
          3.82589,
          3.80607,
          4.12251,
          4.05805,
          3.96751,
          4.15946,
          4.20157,
          4.13312,
          4.06763,
          3.9711,
          4.09289,
          4.81239,
          4.21731,
          3.85837,
          4.14255,
          4.21722,
          4.04794,
          4.17833,
          4.25674,
          4.18714,
          4.00694,
          4.19209,
          4.19565,
          4.18296,
          4.27651,
          4.36774,
          4.06441,
          4.51409,
          4.15065,
          5.92975,
          4.43418,
          4.49293,
          4.42904,
          5.99792,
          4.23101,
          4.15786,
          4.00247,
          4.29005,
          4.18128,
          4.21665,
          4.14324,
          4.95805,
          4.31302,
          4.08748,
          4.22732,
          4.17785,
          4.16342,
          5.1075,
          4.07048,
          4.26352,
          4.5713,
          4.11299,
          4.54039,
          4.59928,
          3.97069,
          4.49195,
          4.903
         ]
        }
       ],
       "layout": {
        "legend": {
         "title": {
          "text": "isin"
         },
         "tracegroupgap": 0
        },
        "template": {
         "data": {
          "bar": [
           {
            "error_x": {
             "color": "#2a3f5f"
            },
            "error_y": {
             "color": "#2a3f5f"
            },
            "marker": {
             "line": {
              "color": "#E5ECF6",
              "width": 0.5
             },
             "pattern": {
              "fillmode": "overlay",
              "size": 10,
              "solidity": 0.2
             }
            },
            "type": "bar"
           }
          ],
          "barpolar": [
           {
            "marker": {
             "line": {
              "color": "#E5ECF6",
              "width": 0.5
             },
             "pattern": {
              "fillmode": "overlay",
              "size": 10,
              "solidity": 0.2
             }
            },
            "type": "barpolar"
           }
          ],
          "carpet": [
           {
            "aaxis": {
             "endlinecolor": "#2a3f5f",
             "gridcolor": "white",
             "linecolor": "white",
             "minorgridcolor": "white",
             "startlinecolor": "#2a3f5f"
            },
            "baxis": {
             "endlinecolor": "#2a3f5f",
             "gridcolor": "white",
             "linecolor": "white",
             "minorgridcolor": "white",
             "startlinecolor": "#2a3f5f"
            },
            "type": "carpet"
           }
          ],
          "choropleth": [
           {
            "colorbar": {
             "outlinewidth": 0,
             "ticks": ""
            },
            "type": "choropleth"
           }
          ],
          "contour": [
           {
            "colorbar": {
             "outlinewidth": 0,
             "ticks": ""
            },
            "colorscale": [
             [
              0,
              "#0d0887"
             ],
             [
              0.1111111111111111,
              "#46039f"
             ],
             [
              0.2222222222222222,
              "#7201a8"
             ],
             [
              0.3333333333333333,
              "#9c179e"
             ],
             [
              0.4444444444444444,
              "#bd3786"
             ],
             [
              0.5555555555555556,
              "#d8576b"
             ],
             [
              0.6666666666666666,
              "#ed7953"
             ],
             [
              0.7777777777777778,
              "#fb9f3a"
             ],
             [
              0.8888888888888888,
              "#fdca26"
             ],
             [
              1,
              "#f0f921"
             ]
            ],
            "type": "contour"
           }
          ],
          "contourcarpet": [
           {
            "colorbar": {
             "outlinewidth": 0,
             "ticks": ""
            },
            "type": "contourcarpet"
           }
          ],
          "heatmap": [
           {
            "colorbar": {
             "outlinewidth": 0,
             "ticks": ""
            },
            "colorscale": [
             [
              0,
              "#0d0887"
             ],
             [
              0.1111111111111111,
              "#46039f"
             ],
             [
              0.2222222222222222,
              "#7201a8"
             ],
             [
              0.3333333333333333,
              "#9c179e"
             ],
             [
              0.4444444444444444,
              "#bd3786"
             ],
             [
              0.5555555555555556,
              "#d8576b"
             ],
             [
              0.6666666666666666,
              "#ed7953"
             ],
             [
              0.7777777777777778,
              "#fb9f3a"
             ],
             [
              0.8888888888888888,
              "#fdca26"
             ],
             [
              1,
              "#f0f921"
             ]
            ],
            "type": "heatmap"
           }
          ],
          "heatmapgl": [
           {
            "colorbar": {
             "outlinewidth": 0,
             "ticks": ""
            },
            "colorscale": [
             [
              0,
              "#0d0887"
             ],
             [
              0.1111111111111111,
              "#46039f"
             ],
             [
              0.2222222222222222,
              "#7201a8"
             ],
             [
              0.3333333333333333,
              "#9c179e"
             ],
             [
              0.4444444444444444,
              "#bd3786"
             ],
             [
              0.5555555555555556,
              "#d8576b"
             ],
             [
              0.6666666666666666,
              "#ed7953"
             ],
             [
              0.7777777777777778,
              "#fb9f3a"
             ],
             [
              0.8888888888888888,
              "#fdca26"
             ],
             [
              1,
              "#f0f921"
             ]
            ],
            "type": "heatmapgl"
           }
          ],
          "histogram": [
           {
            "marker": {
             "pattern": {
              "fillmode": "overlay",
              "size": 10,
              "solidity": 0.2
             }
            },
            "type": "histogram"
           }
          ],
          "histogram2d": [
           {
            "colorbar": {
             "outlinewidth": 0,
             "ticks": ""
            },
            "colorscale": [
             [
              0,
              "#0d0887"
             ],
             [
              0.1111111111111111,
              "#46039f"
             ],
             [
              0.2222222222222222,
              "#7201a8"
             ],
             [
              0.3333333333333333,
              "#9c179e"
             ],
             [
              0.4444444444444444,
              "#bd3786"
             ],
             [
              0.5555555555555556,
              "#d8576b"
             ],
             [
              0.6666666666666666,
              "#ed7953"
             ],
             [
              0.7777777777777778,
              "#fb9f3a"
             ],
             [
              0.8888888888888888,
              "#fdca26"
             ],
             [
              1,
              "#f0f921"
             ]
            ],
            "type": "histogram2d"
           }
          ],
          "histogram2dcontour": [
           {
            "colorbar": {
             "outlinewidth": 0,
             "ticks": ""
            },
            "colorscale": [
             [
              0,
              "#0d0887"
             ],
             [
              0.1111111111111111,
              "#46039f"
             ],
             [
              0.2222222222222222,
              "#7201a8"
             ],
             [
              0.3333333333333333,
              "#9c179e"
             ],
             [
              0.4444444444444444,
              "#bd3786"
             ],
             [
              0.5555555555555556,
              "#d8576b"
             ],
             [
              0.6666666666666666,
              "#ed7953"
             ],
             [
              0.7777777777777778,
              "#fb9f3a"
             ],
             [
              0.8888888888888888,
              "#fdca26"
             ],
             [
              1,
              "#f0f921"
             ]
            ],
            "type": "histogram2dcontour"
           }
          ],
          "mesh3d": [
           {
            "colorbar": {
             "outlinewidth": 0,
             "ticks": ""
            },
            "type": "mesh3d"
           }
          ],
          "parcoords": [
           {
            "line": {
             "colorbar": {
              "outlinewidth": 0,
              "ticks": ""
             }
            },
            "type": "parcoords"
           }
          ],
          "pie": [
           {
            "automargin": true,
            "type": "pie"
           }
          ],
          "scatter": [
           {
            "fillpattern": {
             "fillmode": "overlay",
             "size": 10,
             "solidity": 0.2
            },
            "type": "scatter"
           }
          ],
          "scatter3d": [
           {
            "line": {
             "colorbar": {
              "outlinewidth": 0,
              "ticks": ""
             }
            },
            "marker": {
             "colorbar": {
              "outlinewidth": 0,
              "ticks": ""
             }
            },
            "type": "scatter3d"
           }
          ],
          "scattercarpet": [
           {
            "marker": {
             "colorbar": {
              "outlinewidth": 0,
              "ticks": ""
             }
            },
            "type": "scattercarpet"
           }
          ],
          "scattergeo": [
           {
            "marker": {
             "colorbar": {
              "outlinewidth": 0,
              "ticks": ""
             }
            },
            "type": "scattergeo"
           }
          ],
          "scattergl": [
           {
            "marker": {
             "colorbar": {
              "outlinewidth": 0,
              "ticks": ""
             }
            },
            "type": "scattergl"
           }
          ],
          "scattermapbox": [
           {
            "marker": {
             "colorbar": {
              "outlinewidth": 0,
              "ticks": ""
             }
            },
            "type": "scattermapbox"
           }
          ],
          "scatterpolar": [
           {
            "marker": {
             "colorbar": {
              "outlinewidth": 0,
              "ticks": ""
             }
            },
            "type": "scatterpolar"
           }
          ],
          "scatterpolargl": [
           {
            "marker": {
             "colorbar": {
              "outlinewidth": 0,
              "ticks": ""
             }
            },
            "type": "scatterpolargl"
           }
          ],
          "scatterternary": [
           {
            "marker": {
             "colorbar": {
              "outlinewidth": 0,
              "ticks": ""
             }
            },
            "type": "scatterternary"
           }
          ],
          "surface": [
           {
            "colorbar": {
             "outlinewidth": 0,
             "ticks": ""
            },
            "colorscale": [
             [
              0,
              "#0d0887"
             ],
             [
              0.1111111111111111,
              "#46039f"
             ],
             [
              0.2222222222222222,
              "#7201a8"
             ],
             [
              0.3333333333333333,
              "#9c179e"
             ],
             [
              0.4444444444444444,
              "#bd3786"
             ],
             [
              0.5555555555555556,
              "#d8576b"
             ],
             [
              0.6666666666666666,
              "#ed7953"
             ],
             [
              0.7777777777777778,
              "#fb9f3a"
             ],
             [
              0.8888888888888888,
              "#fdca26"
             ],
             [
              1,
              "#f0f921"
             ]
            ],
            "type": "surface"
           }
          ],
          "table": [
           {
            "cells": {
             "fill": {
              "color": "#EBF0F8"
             },
             "line": {
              "color": "white"
             }
            },
            "header": {
             "fill": {
              "color": "#C8D4E3"
             },
             "line": {
              "color": "white"
             }
            },
            "type": "table"
           }
          ]
         },
         "layout": {
          "annotationdefaults": {
           "arrowcolor": "#2a3f5f",
           "arrowhead": 0,
           "arrowwidth": 1
          },
          "autotypenumbers": "strict",
          "coloraxis": {
           "colorbar": {
            "outlinewidth": 0,
            "ticks": ""
           }
          },
          "colorscale": {
           "diverging": [
            [
             0,
             "#8e0152"
            ],
            [
             0.1,
             "#c51b7d"
            ],
            [
             0.2,
             "#de77ae"
            ],
            [
             0.3,
             "#f1b6da"
            ],
            [
             0.4,
             "#fde0ef"
            ],
            [
             0.5,
             "#f7f7f7"
            ],
            [
             0.6,
             "#e6f5d0"
            ],
            [
             0.7,
             "#b8e186"
            ],
            [
             0.8,
             "#7fbc41"
            ],
            [
             0.9,
             "#4d9221"
            ],
            [
             1,
             "#276419"
            ]
           ],
           "sequential": [
            [
             0,
             "#0d0887"
            ],
            [
             0.1111111111111111,
             "#46039f"
            ],
            [
             0.2222222222222222,
             "#7201a8"
            ],
            [
             0.3333333333333333,
             "#9c179e"
            ],
            [
             0.4444444444444444,
             "#bd3786"
            ],
            [
             0.5555555555555556,
             "#d8576b"
            ],
            [
             0.6666666666666666,
             "#ed7953"
            ],
            [
             0.7777777777777778,
             "#fb9f3a"
            ],
            [
             0.8888888888888888,
             "#fdca26"
            ],
            [
             1,
             "#f0f921"
            ]
           ],
           "sequentialminus": [
            [
             0,
             "#0d0887"
            ],
            [
             0.1111111111111111,
             "#46039f"
            ],
            [
             0.2222222222222222,
             "#7201a8"
            ],
            [
             0.3333333333333333,
             "#9c179e"
            ],
            [
             0.4444444444444444,
             "#bd3786"
            ],
            [
             0.5555555555555556,
             "#d8576b"
            ],
            [
             0.6666666666666666,
             "#ed7953"
            ],
            [
             0.7777777777777778,
             "#fb9f3a"
            ],
            [
             0.8888888888888888,
             "#fdca26"
            ],
            [
             1,
             "#f0f921"
            ]
           ]
          },
          "colorway": [
           "#636efa",
           "#EF553B",
           "#00cc96",
           "#ab63fa",
           "#FFA15A",
           "#19d3f3",
           "#FF6692",
           "#B6E880",
           "#FF97FF",
           "#FECB52"
          ],
          "font": {
           "color": "#2a3f5f"
          },
          "geo": {
           "bgcolor": "white",
           "lakecolor": "white",
           "landcolor": "#E5ECF6",
           "showlakes": true,
           "showland": true,
           "subunitcolor": "white"
          },
          "hoverlabel": {
           "align": "left"
          },
          "hovermode": "closest",
          "mapbox": {
           "style": "light"
          },
          "paper_bgcolor": "white",
          "plot_bgcolor": "#E5ECF6",
          "polar": {
           "angularaxis": {
            "gridcolor": "white",
            "linecolor": "white",
            "ticks": ""
           },
           "bgcolor": "#E5ECF6",
           "radialaxis": {
            "gridcolor": "white",
            "linecolor": "white",
            "ticks": ""
           }
          },
          "scene": {
           "xaxis": {
            "backgroundcolor": "#E5ECF6",
            "gridcolor": "white",
            "gridwidth": 2,
            "linecolor": "white",
            "showbackground": true,
            "ticks": "",
            "zerolinecolor": "white"
           },
           "yaxis": {
            "backgroundcolor": "#E5ECF6",
            "gridcolor": "white",
            "gridwidth": 2,
            "linecolor": "white",
            "showbackground": true,
            "ticks": "",
            "zerolinecolor": "white"
           },
           "zaxis": {
            "backgroundcolor": "#E5ECF6",
            "gridcolor": "white",
            "gridwidth": 2,
            "linecolor": "white",
            "showbackground": true,
            "ticks": "",
            "zerolinecolor": "white"
           }
          },
          "shapedefaults": {
           "line": {
            "color": "#2a3f5f"
           }
          },
          "ternary": {
           "aaxis": {
            "gridcolor": "white",
            "linecolor": "white",
            "ticks": ""
           },
           "baxis": {
            "gridcolor": "white",
            "linecolor": "white",
            "ticks": ""
           },
           "bgcolor": "#E5ECF6",
           "caxis": {
            "gridcolor": "white",
            "linecolor": "white",
            "ticks": ""
           }
          },
          "title": {
           "x": 0.05
          },
          "xaxis": {
           "automargin": true,
           "gridcolor": "white",
           "linecolor": "white",
           "ticks": "",
           "title": {
            "standoff": 15
           },
           "zerolinecolor": "white",
           "zerolinewidth": 2
          },
          "yaxis": {
           "automargin": true,
           "gridcolor": "white",
           "linecolor": "white",
           "ticks": "",
           "title": {
            "standoff": 15
           },
           "zerolinecolor": "white",
           "zerolinewidth": 2
          }
         }
        },
        "title": {
         "text": "Yield Curve Comparison for German and Italian Bonds"
        },
        "xaxis": {
         "anchor": "y",
         "domain": [
          0,
          1
         ],
         "title": {
          "text": "Duration"
         }
        },
        "yaxis": {
         "anchor": "x",
         "domain": [
          0,
          1
         ],
         "title": {
          "text": "Yield to Maturity"
         }
        }
       }
      },
      "text/html": [
       "<div>                            <div id=\"a3def742-e4e9-42d1-bb28-d86bd52ec561\" class=\"plotly-graph-div\" style=\"height:525px; width:100%;\"></div>            <script type=\"text/javascript\">                require([\"plotly\"], function(Plotly) {                    window.PLOTLYENV=window.PLOTLYENV || {};                                    if (document.getElementById(\"a3def742-e4e9-42d1-bb28-d86bd52ec561\")) {                    Plotly.newPlot(                        \"a3def742-e4e9-42d1-bb28-d86bd52ec561\",                        [{\"hovertemplate\":\"isin=DE000BU0E071\\u003cbr\\u003eDuration=%{x}\\u003cbr\\u003eYield to Maturity=%{y}\\u003cextra\\u003e\\u003c\\u002fextra\\u003e\",\"legendgroup\":\"DE000BU0E071\",\"marker\":{\"color\":\"#636efa\",\"symbol\":\"circle\"},\"mode\":\"markers\",\"name\":\"DE000BU0E071\",\"orientation\":\"v\",\"showlegend\":true,\"x\":[0.01369],\"xaxis\":\"x\",\"y\":[0.68833],\"yaxis\":\"y\",\"type\":\"scatter\"},{\"hovertemplate\":\"isin=DE0001102366\\u003cbr\\u003eDuration=%{x}\\u003cbr\\u003eYield to Maturity=%{y}\\u003cextra\\u003e\\u003c\\u002fextra\\u003e\",\"legendgroup\":\"DE0001102366\",\"marker\":{\"color\":\"#EF553B\",\"symbol\":\"circle\"},\"mode\":\"markers\",\"name\":\"DE0001102366\",\"orientation\":\"v\",\"showlegend\":true,\"x\":[0.08214],\"xaxis\":\"x\",\"y\":[3.56978],\"yaxis\":\"y\",\"type\":\"scatter\"},{\"hovertemplate\":\"isin=DE000BU0E089\\u003cbr\\u003eDuration=%{x}\\u003cbr\\u003eYield to Maturity=%{y}\\u003cextra\\u003e\\u003c\\u002fextra\\u003e\",\"legendgroup\":\"DE000BU0E089\",\"marker\":{\"color\":\"#00cc96\",\"symbol\":\"circle\"},\"mode\":\"markers\",\"name\":\"DE000BU0E089\",\"orientation\":\"v\",\"showlegend\":true,\"x\":[0.1013],\"xaxis\":\"x\",\"y\":[3.29638],\"yaxis\":\"y\",\"type\":\"scatter\"},{\"hovertemplate\":\"isin=DE0001104891\\u003cbr\\u003eDuration=%{x}\\u003cbr\\u003eYield to Maturity=%{y}\\u003cextra\\u003e\\u003c\\u002fextra\\u003e\",\"legendgroup\":\"DE0001104891\",\"marker\":{\"color\":\"#ab63fa\",\"symbol\":\"circle\"},\"mode\":\"markers\",\"name\":\"DE0001104891\",\"orientation\":\"v\",\"showlegend\":true,\"x\":[0.16153],\"xaxis\":\"x\",\"y\":[3.32024],\"yaxis\":\"y\",\"type\":\"scatter\"},{\"hovertemplate\":\"isin=DE000BU0E097\\u003cbr\\u003eDuration=%{x}\\u003cbr\\u003eYield to Maturity=%{y}\\u003cextra\\u003e\\u003c\\u002fextra\\u003e\",\"legendgroup\":\"DE000BU0E097\",\"marker\":{\"color\":\"#FFA15A\",\"symbol\":\"circle\"},\"mode\":\"markers\",\"name\":\"DE000BU0E097\",\"orientation\":\"v\",\"showlegend\":true,\"x\":[0.17522],\"xaxis\":\"x\",\"y\":[3.43479],\"yaxis\":\"y\",\"type\":\"scatter\"},{\"hovertemplate\":\"isin=DE000BU0E105\\u003cbr\\u003eDuration=%{x}\\u003cbr\\u003eYield to Maturity=%{y}\\u003cextra\\u003e\\u003c\\u002fextra\\u003e\",\"legendgroup\":\"DE000BU0E105\",\"marker\":{\"color\":\"#19d3f3\",\"symbol\":\"circle\"},\"mode\":\"markers\",\"name\":\"DE000BU0E105\",\"orientation\":\"v\",\"showlegend\":true,\"x\":[0.25188],\"xaxis\":\"x\",\"y\":[3.38913],\"yaxis\":\"y\",\"type\":\"scatter\"},{\"hovertemplate\":\"isin=DE0001141802\\u003cbr\\u003eDuration=%{x}\\u003cbr\\u003eYield to Maturity=%{y}\\u003cextra\\u003e\\u003c\\u002fextra\\u003e\",\"legendgroup\":\"DE0001141802\",\"marker\":{\"color\":\"#FF6692\",\"symbol\":\"circle\"},\"mode\":\"markers\",\"name\":\"DE0001141802\",\"orientation\":\"v\",\"showlegend\":true,\"x\":[0.25736],\"xaxis\":\"x\",\"y\":[3.29155],\"yaxis\":\"y\",\"type\":\"scatter\"},{\"hovertemplate\":\"isin=DE000BU0E113\\u003cbr\\u003eDuration=%{x}\\u003cbr\\u003eYield to Maturity=%{y}\\u003cextra\\u003e\\u003c\\u002fextra\\u003e\",\"legendgroup\":\"DE000BU0E113\",\"marker\":{\"color\":\"#B6E880\",\"symbol\":\"circle\"},\"mode\":\"markers\",\"name\":\"DE000BU0E113\",\"orientation\":\"v\",\"showlegend\":true,\"x\":[0.34771],\"xaxis\":\"x\",\"y\":[3.41258],\"yaxis\":\"y\",\"type\":\"scatter\"},{\"hovertemplate\":\"isin=DE000BU0E121\\u003cbr\\u003eDuration=%{x}\\u003cbr\\u003eYield to Maturity=%{y}\\u003cextra\\u003e\\u003c\\u002fextra\\u003e\",\"legendgroup\":\"DE000BU0E121\",\"marker\":{\"color\":\"#FF97FF\",\"symbol\":\"circle\"},\"mode\":\"markers\",\"name\":\"DE000BU0E121\",\"orientation\":\"v\",\"showlegend\":true,\"x\":[0.4052],\"xaxis\":\"x\",\"y\":[3.39664],\"yaxis\":\"y\",\"type\":\"scatter\"},{\"hovertemplate\":\"isin=DE0001104909\\u003cbr\\u003eDuration=%{x}\\u003cbr\\u003eYield to Maturity=%{y}\\u003cextra\\u003e\\u003c\\u002fextra\\u003e\",\"legendgroup\":\"DE0001104909\",\"marker\":{\"color\":\"#FECB52\",\"symbol\":\"circle\"},\"mode\":\"markers\",\"name\":\"DE0001104909\",\"orientation\":\"v\",\"showlegend\":true,\"x\":[0.40794],\"xaxis\":\"x\",\"y\":[3.21103],\"yaxis\":\"y\",\"type\":\"scatter\"},{\"hovertemplate\":\"isin=DE000BU0E139\\u003cbr\\u003eDuration=%{x}\\u003cbr\\u003eYield to Maturity=%{y}\\u003cextra\\u003e\\u003c\\u002fextra\\u003e\",\"legendgroup\":\"DE000BU0E139\",\"marker\":{\"color\":\"#636efa\",\"symbol\":\"circle\"},\"mode\":\"markers\",\"name\":\"DE000BU0E139\",\"orientation\":\"v\",\"showlegend\":true,\"x\":[0.50103],\"xaxis\":\"x\",\"y\":[3.35548],\"yaxis\":\"y\",\"type\":\"scatter\"},{\"hovertemplate\":\"isin=DE0001102374\\u003cbr\\u003eDuration=%{x}\\u003cbr\\u003eYield to Maturity=%{y}\\u003cextra\\u003e\\u003c\\u002fextra\\u003e\",\"legendgroup\":\"DE0001102374\",\"marker\":{\"color\":\"#EF553B\",\"symbol\":\"circle\"},\"mode\":\"markers\",\"name\":\"DE0001102374\",\"orientation\":\"v\",\"showlegend\":true,\"x\":[0.5859],\"xaxis\":\"x\",\"y\":[3.21349],\"yaxis\":\"y\",\"type\":\"scatter\"},{\"hovertemplate\":\"isin=DE000BU0E147\\u003cbr\\u003eDuration=%{x}\\u003cbr\\u003eYield to Maturity=%{y}\\u003cextra\\u003e\\u003c\\u002fextra\\u003e\",\"legendgroup\":\"DE000BU0E147\",\"marker\":{\"color\":\"#00cc96\",\"symbol\":\"circle\"},\"mode\":\"markers\",\"name\":\"DE000BU0E147\",\"orientation\":\"v\",\"showlegend\":true,\"x\":[0.6078],\"xaxis\":\"x\",\"y\":[3.29303],\"yaxis\":\"y\",\"type\":\"scatter\"},{\"hovertemplate\":\"isin=DE000BU22007\\u003cbr\\u003eDuration=%{x}\\u003cbr\\u003eYield to Maturity=%{y}\\u003cextra\\u003e\\u003c\\u002fextra\\u003e\",\"legendgroup\":\"DE000BU22007\",\"marker\":{\"color\":\"#ab63fa\",\"symbol\":\"circle\"},\"mode\":\"markers\",\"name\":\"DE000BU22007\",\"orientation\":\"v\",\"showlegend\":true,\"x\":[0.65708],\"xaxis\":\"x\",\"y\":[3.1987],\"yaxis\":\"y\",\"type\":\"scatter\"},{\"hovertemplate\":\"isin=DE000BU0E154\\u003cbr\\u003eDuration=%{x}\\u003cbr\\u003eYield to Maturity=%{y}\\u003cextra\\u003e\\u003c\\u002fextra\\u003e\",\"legendgroup\":\"DE000BU0E154\",\"marker\":{\"color\":\"#FFA15A\",\"symbol\":\"circle\"},\"mode\":\"markers\",\"name\":\"DE000BU0E154\",\"orientation\":\"v\",\"showlegend\":true,\"x\":[0.67351],\"xaxis\":\"x\",\"y\":[3.31103],\"yaxis\":\"y\",\"type\":\"scatter\"},{\"hovertemplate\":\"isin=DE0001141810\\u003cbr\\u003eDuration=%{x}\\u003cbr\\u003eYield to Maturity=%{y}\\u003cextra\\u003e\\u003c\\u002fextra\\u003e\",\"legendgroup\":\"DE0001141810\",\"marker\":{\"color\":\"#19d3f3\",\"symbol\":\"circle\"},\"mode\":\"markers\",\"name\":\"DE0001141810\",\"orientation\":\"v\",\"showlegend\":true,\"x\":[0.73648],\"xaxis\":\"x\",\"y\":[3.23856],\"yaxis\":\"y\",\"type\":\"scatter\"},{\"hovertemplate\":\"isin=DE000BU0E162\\u003cbr\\u003eDuration=%{x}\\u003cbr\\u003eYield to Maturity=%{y}\\u003cextra\\u003e\\u003c\\u002fextra\\u003e\",\"legendgroup\":\"DE000BU0E162\",\"marker\":{\"color\":\"#FF6692\",\"symbol\":\"circle\"},\"mode\":\"markers\",\"name\":\"DE000BU0E162\",\"orientation\":\"v\",\"showlegend\":true,\"x\":[0.75017],\"xaxis\":\"x\",\"y\":[3.28424],\"yaxis\":\"y\",\"type\":\"scatter\"},{\"hovertemplate\":\"isin=DE000BU0E170\\u003cbr\\u003eDuration=%{x}\\u003cbr\\u003eYield to Maturity=%{y}\\u003cextra\\u003e\\u003c\\u002fextra\\u003e\",\"legendgroup\":\"DE000BU0E170\",\"marker\":{\"color\":\"#B6E880\",\"symbol\":\"circle\"},\"mode\":\"markers\",\"name\":\"DE000BU0E170\",\"orientation\":\"v\",\"showlegend\":true,\"x\":[0.82683],\"xaxis\":\"x\",\"y\":[3.25026],\"yaxis\":\"y\",\"type\":\"scatter\"},{\"hovertemplate\":\"isin=DE000BU22015\\u003cbr\\u003eDuration=%{x}\\u003cbr\\u003eYield to Maturity=%{y}\\u003cextra\\u003e\\u003c\\u002fextra\\u003e\",\"legendgroup\":\"DE000BU22015\",\"marker\":{\"color\":\"#FF97FF\",\"symbol\":\"circle\"},\"mode\":\"markers\",\"name\":\"DE000BU22015\",\"orientation\":\"v\",\"showlegend\":true,\"x\":[0.90623],\"xaxis\":\"x\",\"y\":[3.14943],\"yaxis\":\"y\",\"type\":\"scatter\"},{\"hovertemplate\":\"isin=DE000BU0E188\\u003cbr\\u003eDuration=%{x}\\u003cbr\\u003eYield to Maturity=%{y}\\u003cextra\\u003e\\u003c\\u002fextra\\u003e\",\"legendgroup\":\"DE000BU0E188\",\"marker\":{\"color\":\"#FECB52\",\"symbol\":\"circle\"},\"mode\":\"markers\",\"name\":\"DE000BU0E188\",\"orientation\":\"v\",\"showlegend\":true,\"x\":[0.92266],\"xaxis\":\"x\",\"y\":[3.15463],\"yaxis\":\"y\",\"type\":\"scatter\"},{\"hovertemplate\":\"isin=DE000BU0E196\\u003cbr\\u003eDuration=%{x}\\u003cbr\\u003eYield to Maturity=%{y}\\u003cextra\\u003e\\u003c\\u002fextra\\u003e\",\"legendgroup\":\"DE000BU0E196\",\"marker\":{\"color\":\"#636efa\",\"symbol\":\"circle\"},\"mode\":\"markers\",\"name\":\"DE000BU0E196\",\"orientation\":\"v\",\"showlegend\":true,\"x\":[1.00205],\"xaxis\":\"x\",\"y\":[3.18846],\"yaxis\":\"y\",\"type\":\"scatter\"},{\"hovertemplate\":\"isin=DE0001102382\\u003cbr\\u003eDuration=%{x}\\u003cbr\\u003eYield to Maturity=%{y}\\u003cextra\\u003e\\u003c\\u002fextra\\u003e\",\"legendgroup\":\"DE0001102382\",\"marker\":{\"color\":\"#EF553B\",\"symbol\":\"circle\"},\"mode\":\"markers\",\"name\":\"DE0001102382\",\"orientation\":\"v\",\"showlegend\":true,\"x\":[1.07136],\"xaxis\":\"x\",\"y\":[3.0103],\"yaxis\":\"y\",\"type\":\"scatter\"},{\"hovertemplate\":\"isin=DE000BU22023\\u003cbr\\u003eDuration=%{x}\\u003cbr\\u003eYield to Maturity=%{y}\\u003cextra\\u003e\\u003c\\u002fextra\\u003e\",\"legendgroup\":\"DE000BU22023\",\"marker\":{\"color\":\"#00cc96\",\"symbol\":\"circle\"},\"mode\":\"markers\",\"name\":\"DE000BU22023\",\"orientation\":\"v\",\"showlegend\":true,\"x\":[1.14465],\"xaxis\":\"x\",\"y\":[2.53371],\"yaxis\":\"y\",\"type\":\"scatter\"},{\"hovertemplate\":\"isin=DE0001030716\\u003cbr\\u003eDuration=%{x}\\u003cbr\\u003eYield to Maturity=%{y}\\u003cextra\\u003e\\u003c\\u002fextra\\u003e\",\"legendgroup\":\"DE0001030716\",\"marker\":{\"color\":\"#ab63fa\",\"symbol\":\"circle\"},\"mode\":\"markers\",\"name\":\"DE0001030716\",\"orientation\":\"v\",\"showlegend\":true,\"x\":[1.23477],\"xaxis\":\"x\",\"y\":[2.92131],\"yaxis\":\"y\",\"type\":\"scatter\"},{\"hovertemplate\":\"isin=DE0001141828\\u003cbr\\u003eDuration=%{x}\\u003cbr\\u003eYield to Maturity=%{y}\\u003cextra\\u003e\\u003c\\u002fextra\\u003e\",\"legendgroup\":\"DE0001141828\",\"marker\":{\"color\":\"#FFA15A\",\"symbol\":\"circle\"},\"mode\":\"markers\",\"name\":\"DE0001141828\",\"orientation\":\"v\",\"showlegend\":true,\"x\":[1.23477],\"xaxis\":\"x\",\"y\":[2.90145],\"yaxis\":\"y\",\"type\":\"scatter\"},{\"hovertemplate\":\"isin=DE000BU22031\\u003cbr\\u003eDuration=%{x}\\u003cbr\\u003eYield to Maturity=%{y}\\u003cextra\\u003e\\u003c\\u002fextra\\u003e\",\"legendgroup\":\"DE000BU22031\",\"marker\":{\"color\":\"#19d3f3\",\"symbol\":\"circle\"},\"mode\":\"markers\",\"name\":\"DE000BU22031\",\"orientation\":\"v\",\"showlegend\":true,\"x\":[1.37735],\"xaxis\":\"x\",\"y\":[2.6152],\"yaxis\":\"y\",\"type\":\"scatter\"},{\"hovertemplate\":\"isin=DE0001102390\\u003cbr\\u003eDuration=%{x}\\u003cbr\\u003eYield to Maturity=%{y}\\u003cextra\\u003e\\u003c\\u002fextra\\u003e\",\"legendgroup\":\"DE0001102390\",\"marker\":{\"color\":\"#FF6692\",\"symbol\":\"circle\"},\"mode\":\"markers\",\"name\":\"DE0001102390\",\"orientation\":\"v\",\"showlegend\":true,\"x\":[1.58013],\"xaxis\":\"x\",\"y\":[2.78162],\"yaxis\":\"y\",\"type\":\"scatter\"},{\"hovertemplate\":\"isin=DE000BU22049\\u003cbr\\u003eDuration=%{x}\\u003cbr\\u003eYield to Maturity=%{y}\\u003cextra\\u003e\\u003c\\u002fextra\\u003e\",\"legendgroup\":\"DE000BU22049\",\"marker\":{\"color\":\"#B6E880\",\"symbol\":\"circle\"},\"mode\":\"markers\",\"name\":\"DE000BU22049\",\"orientation\":\"v\",\"showlegend\":true,\"x\":[1.64842],\"xaxis\":\"x\",\"y\":[2.62682],\"yaxis\":\"y\",\"type\":\"scatter\"},{\"hovertemplate\":\"isin=DE0001141836\\u003cbr\\u003eDuration=%{x}\\u003cbr\\u003eYield to Maturity=%{y}\\u003cextra\\u003e\\u003c\\u002fextra\\u003e\",\"legendgroup\":\"DE0001141836\",\"marker\":{\"color\":\"#FF97FF\",\"symbol\":\"circle\"},\"mode\":\"markers\",\"name\":\"DE0001141836\",\"orientation\":\"v\",\"showlegend\":true,\"x\":[1.73306],\"xaxis\":\"x\",\"y\":[2.75699],\"yaxis\":\"y\",\"type\":\"scatter\"},{\"hovertemplate\":\"isin=DE000BU22056\\u003cbr\\u003eDuration=%{x}\\u003cbr\\u003eYield to Maturity=%{y}\\u003cextra\\u003e\\u003c\\u002fextra\\u003e\",\"legendgroup\":\"DE000BU22056\",\"marker\":{\"color\":\"#FECB52\",\"symbol\":\"circle\"},\"mode\":\"markers\",\"name\":\"DE000BU22056\",\"orientation\":\"v\",\"showlegend\":true,\"x\":[1.89391],\"xaxis\":\"x\",\"y\":[2.50953],\"yaxis\":\"y\",\"type\":\"scatter\"},{\"hovertemplate\":\"isin=DE0001102408\\u003cbr\\u003eDuration=%{x}\\u003cbr\\u003eYield to Maturity=%{y}\\u003cextra\\u003e\\u003c\\u002fextra\\u003e\",\"legendgroup\":\"DE0001102408\",\"marker\":{\"color\":\"#636efa\",\"symbol\":\"circle\"},\"mode\":\"markers\",\"name\":\"DE0001102408\",\"orientation\":\"v\",\"showlegend\":true,\"x\":[2.08077],\"xaxis\":\"x\",\"y\":[2.63084],\"yaxis\":\"y\",\"type\":\"scatter\"},{\"hovertemplate\":\"isin=DE0001141844\\u003cbr\\u003eDuration=%{x}\\u003cbr\\u003eYield to Maturity=%{y}\\u003cextra\\u003e\\u003c\\u002fextra\\u003e\",\"legendgroup\":\"DE0001141844\",\"marker\":{\"color\":\"#EF553B\",\"symbol\":\"circle\"},\"mode\":\"markers\",\"name\":\"DE0001141844\",\"orientation\":\"v\",\"showlegend\":true,\"x\":[2.23135],\"xaxis\":\"x\",\"y\":[2.21455],\"yaxis\":\"y\",\"type\":\"scatter\"},{\"hovertemplate\":\"isin=DE0001102416\\u003cbr\\u003eDuration=%{x}\\u003cbr\\u003eYield to Maturity=%{y}\\u003cextra\\u003e\\u003c\\u002fextra\\u003e\",\"legendgroup\":\"DE0001102416\",\"marker\":{\"color\":\"#00cc96\",\"symbol\":\"circle\"},\"mode\":\"markers\",\"name\":\"DE0001102416\",\"orientation\":\"v\",\"showlegend\":true,\"x\":[2.57677],\"xaxis\":\"x\",\"y\":[2.5539],\"yaxis\":\"y\",\"type\":\"scatter\"},{\"hovertemplate\":\"isin=DE0001141851\\u003cbr\\u003eDuration=%{x}\\u003cbr\\u003eYield to Maturity=%{y}\\u003cextra\\u003e\\u003c\\u002fextra\\u003e\",\"legendgroup\":\"DE0001141851\",\"marker\":{\"color\":\"#ab63fa\",\"symbol\":\"circle\"},\"mode\":\"markers\",\"name\":\"DE0001141851\",\"orientation\":\"v\",\"showlegend\":true,\"x\":[2.7488],\"xaxis\":\"x\",\"y\":[2.53343],\"yaxis\":\"y\",\"type\":\"scatter\"},{\"hovertemplate\":\"isin=DE0001135044\\u003cbr\\u003eDuration=%{x}\\u003cbr\\u003eYield to Maturity=%{y}\\u003cextra\\u003e\\u003c\\u002fextra\\u003e\",\"legendgroup\":\"DE0001135044\",\"marker\":{\"color\":\"#FFA15A\",\"symbol\":\"circle\"},\"mode\":\"markers\",\"name\":\"DE0001135044\",\"orientation\":\"v\",\"showlegend\":true,\"x\":[2.79574],\"xaxis\":\"x\",\"y\":[2.54712],\"yaxis\":\"y\",\"type\":\"scatter\"},{\"hovertemplate\":\"isin=DE0001102424\\u003cbr\\u003eDuration=%{x}\\u003cbr\\u003eYield to Maturity=%{y}\\u003cextra\\u003e\\u003c\\u002fextra\\u003e\",\"legendgroup\":\"DE0001102424\",\"marker\":{\"color\":\"#19d3f3\",\"symbol\":\"circle\"},\"mode\":\"markers\",\"name\":\"DE0001102424\",\"orientation\":\"v\",\"showlegend\":true,\"x\":[3.04899],\"xaxis\":\"x\",\"y\":[2.47014],\"yaxis\":\"y\",\"type\":\"scatter\"},{\"hovertemplate\":\"isin=DE0001141869\\u003cbr\\u003eDuration=%{x}\\u003cbr\\u003eYield to Maturity=%{y}\\u003cextra\\u003e\\u003c\\u002fextra\\u003e\",\"legendgroup\":\"DE0001141869\",\"marker\":{\"color\":\"#FF6692\",\"symbol\":\"circle\"},\"mode\":\"markers\",\"name\":\"DE0001141869\",\"orientation\":\"v\",\"showlegend\":true,\"x\":[3.16879],\"xaxis\":\"x\",\"y\":[2.47132],\"yaxis\":\"y\",\"type\":\"scatter\"},{\"hovertemplate\":\"isin=DE0001030740\\u003cbr\\u003eDuration=%{x}\\u003cbr\\u003eYield to Maturity=%{y}\\u003cextra\\u003e\\u003c\\u002fextra\\u003e\",\"legendgroup\":\"DE0001030740\",\"marker\":{\"color\":\"#B6E880\",\"symbol\":\"circle\"},\"mode\":\"markers\",\"name\":\"DE0001030740\",\"orientation\":\"v\",\"showlegend\":true,\"x\":[3.1688],\"xaxis\":\"x\",\"y\":[2.46368],\"yaxis\":\"y\",\"type\":\"scatter\"},{\"hovertemplate\":\"isin=DE0001135069\\u003cbr\\u003eDuration=%{x}\\u003cbr\\u003eYield to Maturity=%{y}\\u003cextra\\u003e\\u003c\\u002fextra\\u003e\",\"legendgroup\":\"DE0001135069\",\"marker\":{\"color\":\"#FF97FF\",\"symbol\":\"circle\"},\"mode\":\"markers\",\"name\":\"DE0001135069\",\"orientation\":\"v\",\"showlegend\":true,\"x\":[3.17937],\"xaxis\":\"x\",\"y\":[2.46983],\"yaxis\":\"y\",\"type\":\"scatter\"},{\"hovertemplate\":\"isin=DE0001102523\\u003cbr\\u003eDuration=%{x}\\u003cbr\\u003eYield to Maturity=%{y}\\u003cextra\\u003e\\u003c\\u002fextra\\u003e\",\"legendgroup\":\"DE0001102523\",\"marker\":{\"color\":\"#FECB52\",\"symbol\":\"circle\"},\"mode\":\"markers\",\"name\":\"DE0001102523\",\"orientation\":\"v\",\"showlegend\":true,\"x\":[3.33196],\"xaxis\":\"x\",\"y\":[2.46925],\"yaxis\":\"y\",\"type\":\"scatter\"},{\"hovertemplate\":\"isin=DE0001102440\\u003cbr\\u003eDuration=%{x}\\u003cbr\\u003eYield to Maturity=%{y}\\u003cextra\\u003e\\u003c\\u002fextra\\u003e\",\"legendgroup\":\"DE0001102440\",\"marker\":{\"color\":\"#636efa\",\"symbol\":\"circle\"},\"mode\":\"markers\",\"name\":\"DE0001102440\",\"orientation\":\"v\",\"showlegend\":true,\"x\":[3.55278],\"xaxis\":\"x\",\"y\":[2.42708],\"yaxis\":\"y\",\"type\":\"scatter\"},{\"hovertemplate\":\"isin=DE000BU25000\\u003cbr\\u003eDuration=%{x}\\u003cbr\\u003eYield to Maturity=%{y}\\u003cextra\\u003e\\u003c\\u002fextra\\u003e\",\"legendgroup\":\"DE000BU25000\",\"marker\":{\"color\":\"#EF553B\",\"symbol\":\"circle\"},\"mode\":\"markers\",\"name\":\"DE000BU25000\",\"orientation\":\"v\",\"showlegend\":true,\"x\":[3.61459],\"xaxis\":\"x\",\"y\":[2.43273],\"yaxis\":\"y\",\"type\":\"scatter\"},{\"hovertemplate\":\"isin=DE0001135085\\u003cbr\\u003eDuration=%{x}\\u003cbr\\u003eYield to Maturity=%{y}\\u003cextra\\u003e\\u003c\\u002fextra\\u003e\",\"legendgroup\":\"DE0001135085\",\"marker\":{\"color\":\"#00cc96\",\"symbol\":\"circle\"},\"mode\":\"markers\",\"name\":\"DE0001135085\",\"orientation\":\"v\",\"showlegend\":true,\"x\":[3.71511],\"xaxis\":\"x\",\"y\":[2.43214],\"yaxis\":\"y\",\"type\":\"scatter\"},{\"hovertemplate\":\"isin=DE000BU25018\\u003cbr\\u003eDuration=%{x}\\u003cbr\\u003eYield to Maturity=%{y}\\u003cextra\\u003e\\u003c\\u002fextra\\u003e\",\"legendgroup\":\"DE000BU25018\",\"marker\":{\"color\":\"#ab63fa\",\"symbol\":\"circle\"},\"mode\":\"markers\",\"name\":\"DE000BU25018\",\"orientation\":\"v\",\"showlegend\":true,\"x\":[4.03219],\"xaxis\":\"x\",\"y\":[2.21883],\"yaxis\":\"y\",\"type\":\"scatter\"},{\"hovertemplate\":\"isin=DE0001102457\\u003cbr\\u003eDuration=%{x}\\u003cbr\\u003eYield to Maturity=%{y}\\u003cextra\\u003e\\u003c\\u002fextra\\u003e\",\"legendgroup\":\"DE0001102457\",\"marker\":{\"color\":\"#FFA15A\",\"symbol\":\"circle\"},\"mode\":\"markers\",\"name\":\"DE0001102457\",\"orientation\":\"v\",\"showlegend\":true,\"x\":[4.05565],\"xaxis\":\"x\",\"y\":[2.3682],\"yaxis\":\"y\",\"type\":\"scatter\"},{\"hovertemplate\":\"isin=DE0001102556\\u003cbr\\u003eDuration=%{x}\\u003cbr\\u003eYield to Maturity=%{y}\\u003cextra\\u003e\\u003c\\u002fextra\\u003e\",\"legendgroup\":\"DE0001102556\",\"marker\":{\"color\":\"#19d3f3\",\"symbol\":\"circle\"},\"mode\":\"markers\",\"name\":\"DE0001102556\",\"orientation\":\"v\",\"showlegend\":true,\"x\":[4.33402],\"xaxis\":\"x\",\"y\":[2.36333],\"yaxis\":\"y\",\"type\":\"scatter\"},{\"hovertemplate\":\"isin=DE000BU35025\\u003cbr\\u003eDuration=%{x}\\u003cbr\\u003eYield to Maturity=%{y}\\u003cextra\\u003e\\u003c\\u002fextra\\u003e\",\"legendgroup\":\"DE000BU35025\",\"marker\":{\"color\":\"#FF6692\",\"symbol\":\"circle\"},\"mode\":\"markers\",\"name\":\"DE000BU35025\",\"orientation\":\"v\",\"showlegend\":true,\"x\":[4.53663],\"xaxis\":\"x\",\"y\":[2.29059],\"yaxis\":\"y\",\"type\":\"scatter\"},{\"hovertemplate\":\"isin=DE000BU25026\\u003cbr\\u003eDuration=%{x}\\u003cbr\\u003eYield to Maturity=%{y}\\u003cextra\\u003e\\u003c\\u002fextra\\u003e\",\"legendgroup\":\"DE000BU25026\",\"marker\":{\"color\":\"#B6E880\",\"symbol\":\"circle\"},\"mode\":\"markers\",\"name\":\"DE000BU25026\",\"orientation\":\"v\",\"showlegend\":true,\"x\":[4.53663],\"xaxis\":\"x\",\"y\":[2.29149],\"yaxis\":\"y\",\"type\":\"scatter\"},{\"hovertemplate\":\"isin=DE0001102465\\u003cbr\\u003eDuration=%{x}\\u003cbr\\u003eYield to Maturity=%{y}\\u003cextra\\u003e\\u003c\\u002fextra\\u003e\",\"legendgroup\":\"DE0001102465\",\"marker\":{\"color\":\"#FF97FF\",\"symbol\":\"circle\"},\"mode\":\"markers\",\"name\":\"DE0001102465\",\"orientation\":\"v\",\"showlegend\":true,\"x\":[4.55943],\"xaxis\":\"x\",\"y\":[2.34356],\"yaxis\":\"y\",\"type\":\"scatter\"},{\"hovertemplate\":\"isin=DE0001135143\\u003cbr\\u003eDuration=%{x}\\u003cbr\\u003eYield to Maturity=%{y}\\u003cextra\\u003e\\u003c\\u002fextra\\u003e\",\"legendgroup\":\"DE0001135143\",\"marker\":{\"color\":\"#FECB52\",\"symbol\":\"circle\"},\"mode\":\"markers\",\"name\":\"DE0001135143\",\"orientation\":\"v\",\"showlegend\":true,\"x\":[4.73889],\"xaxis\":\"x\",\"y\":[2.38022],\"yaxis\":\"y\",\"type\":\"scatter\"},{\"hovertemplate\":\"isin=DE0001102622\\u003cbr\\u003eDuration=%{x}\\u003cbr\\u003eYield to Maturity=%{y}\\u003cextra\\u003e\\u003c\\u002fextra\\u003e\",\"legendgroup\":\"DE0001102622\",\"marker\":{\"color\":\"#636efa\",\"symbol\":\"circle\"},\"mode\":\"markers\",\"name\":\"DE0001102622\",\"orientation\":\"v\",\"showlegend\":true,\"x\":[5.03011],\"xaxis\":\"x\",\"y\":[2.40172],\"yaxis\":\"y\",\"type\":\"scatter\"},{\"hovertemplate\":\"isin=DE0001102473\\u003cbr\\u003eDuration=%{x}\\u003cbr\\u003eYield to Maturity=%{y}\\u003cextra\\u003e\\u003c\\u002fextra\\u003e\",\"legendgroup\":\"DE0001102473\",\"marker\":{\"color\":\"#EF553B\",\"symbol\":\"circle\"},\"mode\":\"markers\",\"name\":\"DE0001102473\",\"orientation\":\"v\",\"showlegend\":true,\"x\":[5.08145],\"xaxis\":\"x\",\"y\":[2.33906],\"yaxis\":\"y\",\"type\":\"scatter\"},{\"hovertemplate\":\"isin=DE0001135176\\u003cbr\\u003eDuration=%{x}\\u003cbr\\u003eYield to Maturity=%{y}\\u003cextra\\u003e\\u003c\\u002fextra\\u003e\",\"legendgroup\":\"DE0001135176\",\"marker\":{\"color\":\"#00cc96\",\"symbol\":\"circle\"},\"mode\":\"markers\",\"name\":\"DE0001135176\",\"orientation\":\"v\",\"showlegend\":true,\"x\":[5.56306],\"xaxis\":\"x\",\"y\":[2.42394],\"yaxis\":\"y\",\"type\":\"scatter\"},{\"hovertemplate\":\"isin=DE0001102499\\u003cbr\\u003eDuration=%{x}\\u003cbr\\u003eYield to Maturity=%{y}\\u003cextra\\u003e\\u003c\\u002fextra\\u003e\",\"legendgroup\":\"DE0001102499\",\"marker\":{\"color\":\"#ab63fa\",\"symbol\":\"circle\"},\"mode\":\"markers\",\"name\":\"DE0001102499\",\"orientation\":\"v\",\"showlegend\":true,\"x\":[5.58522],\"xaxis\":\"x\",\"y\":[2.3335],\"yaxis\":\"y\",\"type\":\"scatter\"},{\"hovertemplate\":\"isin=DE000BU27006\\u003cbr\\u003eDuration=%{x}\\u003cbr\\u003eYield to Maturity=%{y}\\u003cextra\\u003e\\u003c\\u002fextra\\u003e\",\"legendgroup\":\"DE000BU27006\",\"marker\":{\"color\":\"#FFA15A\",\"symbol\":\"circle\"},\"mode\":\"markers\",\"name\":\"DE000BU27006\",\"orientation\":\"v\",\"showlegend\":true,\"x\":[5.8619],\"xaxis\":\"x\",\"y\":[2.25727],\"yaxis\":\"y\",\"type\":\"scatter\"},{\"hovertemplate\":\"isin=DE0001102507\\u003cbr\\u003eDuration=%{x}\\u003cbr\\u003eYield to Maturity=%{y}\\u003cextra\\u003e\\u003c\\u002fextra\\u003e\",\"legendgroup\":\"DE0001102507\",\"marker\":{\"color\":\"#19d3f3\",\"symbol\":\"circle\"},\"mode\":\"markers\",\"name\":\"DE0001102507\",\"orientation\":\"v\",\"showlegend\":true,\"x\":[6.08077],\"xaxis\":\"x\",\"y\":[2.31808],\"yaxis\":\"y\",\"type\":\"scatter\"},{\"hovertemplate\":\"isin=DE0001030708\\u003cbr\\u003eDuration=%{x}\\u003cbr\\u003eYield to Maturity=%{y}\\u003cextra\\u003e\\u003c\\u002fextra\\u003e\",\"legendgroup\":\"DE0001030708\",\"marker\":{\"color\":\"#FF6692\",\"symbol\":\"circle\"},\"mode\":\"markers\",\"name\":\"DE0001030708\",\"orientation\":\"v\",\"showlegend\":true,\"x\":[6.08077],\"xaxis\":\"x\",\"y\":[2.30561],\"yaxis\":\"y\",\"type\":\"scatter\"},{\"hovertemplate\":\"isin=DE0001102531\\u003cbr\\u003eDuration=%{x}\\u003cbr\\u003eYield to Maturity=%{y}\\u003cextra\\u003e\\u003c\\u002fextra\\u003e\",\"legendgroup\":\"DE0001102531\",\"marker\":{\"color\":\"#B6E880\",\"symbol\":\"circle\"},\"mode\":\"markers\",\"name\":\"DE0001102531\",\"orientation\":\"v\",\"showlegend\":true,\"x\":[6.58453],\"xaxis\":\"x\",\"y\":[2.32242],\"yaxis\":\"y\",\"type\":\"scatter\"},{\"hovertemplate\":\"isin=DE0001030732\\u003cbr\\u003eDuration=%{x}\\u003cbr\\u003eYield to Maturity=%{y}\\u003cextra\\u003e\\u003c\\u002fextra\\u003e\",\"legendgroup\":\"DE0001030732\",\"marker\":{\"color\":\"#FF97FF\",\"symbol\":\"circle\"},\"mode\":\"markers\",\"name\":\"DE0001030732\",\"orientation\":\"v\",\"showlegend\":true,\"x\":[7.08008],\"xaxis\":\"x\",\"y\":[2.314],\"yaxis\":\"y\",\"type\":\"scatter\"},{\"hovertemplate\":\"isin=DE0001102564\\u003cbr\\u003eDuration=%{x}\\u003cbr\\u003eYield to Maturity=%{y}\\u003cextra\\u003e\\u003c\\u002fextra\\u003e\",\"legendgroup\":\"DE0001102564\",\"marker\":{\"color\":\"#FECB52\",\"symbol\":\"circle\"},\"mode\":\"markers\",\"name\":\"DE0001102564\",\"orientation\":\"v\",\"showlegend\":true,\"x\":[7.08008],\"xaxis\":\"x\",\"y\":[2.30364],\"yaxis\":\"y\",\"type\":\"scatter\"},{\"hovertemplate\":\"isin=DE0001102606\\u003cbr\\u003eDuration=%{x}\\u003cbr\\u003eYield to Maturity=%{y}\\u003cextra\\u003e\\u003c\\u002fextra\\u003e\",\"legendgroup\":\"DE0001102606\",\"marker\":{\"color\":\"#636efa\",\"symbol\":\"circle\"},\"mode\":\"markers\",\"name\":\"DE0001102606\",\"orientation\":\"v\",\"showlegend\":true,\"x\":[7.48437],\"xaxis\":\"x\",\"y\":[2.3305],\"yaxis\":\"y\",\"type\":\"scatter\"},{\"hovertemplate\":\"isin=DE0001102580\\u003cbr\\u003eDuration=%{x}\\u003cbr\\u003eYield to Maturity=%{y}\\u003cextra\\u003e\\u003c\\u002fextra\\u003e\",\"legendgroup\":\"DE0001102580\",\"marker\":{\"color\":\"#EF553B\",\"symbol\":\"circle\"},\"mode\":\"markers\",\"name\":\"DE0001102580\",\"orientation\":\"v\",\"showlegend\":true,\"x\":[7.58385],\"xaxis\":\"x\",\"y\":[2.32387],\"yaxis\":\"y\",\"type\":\"scatter\"},{\"hovertemplate\":\"isin=DE000BU2Z007\\u003cbr\\u003eDuration=%{x}\\u003cbr\\u003eYield to Maturity=%{y}\\u003cextra\\u003e\\u003c\\u002fextra\\u003e\",\"legendgroup\":\"DE000BU2Z007\",\"marker\":{\"color\":\"#00cc96\",\"symbol\":\"circle\"},\"mode\":\"markers\",\"name\":\"DE000BU2Z007\",\"orientation\":\"v\",\"showlegend\":true,\"x\":[7.81495],\"xaxis\":\"x\",\"y\":[2.36519],\"yaxis\":\"y\",\"type\":\"scatter\"},{\"hovertemplate\":\"isin=DE000BU3Z005\\u003cbr\\u003eDuration=%{x}\\u003cbr\\u003eYield to Maturity=%{y}\\u003cextra\\u003e\\u003c\\u002fextra\\u003e\",\"legendgroup\":\"DE000BU3Z005\",\"marker\":{\"color\":\"#ab63fa\",\"symbol\":\"circle\"},\"mode\":\"markers\",\"name\":\"DE000BU3Z005\",\"orientation\":\"v\",\"showlegend\":true,\"x\":[7.81551],\"xaxis\":\"x\",\"y\":[2.35038],\"yaxis\":\"y\",\"type\":\"scatter\"},{\"hovertemplate\":\"isin=DE000BU2Z015\\u003cbr\\u003eDuration=%{x}\\u003cbr\\u003eYield to Maturity=%{y}\\u003cextra\\u003e\\u003c\\u002fextra\\u003e\",\"legendgroup\":\"DE000BU2Z015\",\"marker\":{\"color\":\"#FFA15A\",\"symbol\":\"circle\"},\"mode\":\"markers\",\"name\":\"DE000BU2Z015\",\"orientation\":\"v\",\"showlegend\":true,\"x\":[8.02866],\"xaxis\":\"x\",\"y\":[2.35144],\"yaxis\":\"y\",\"type\":\"scatter\"},{\"hovertemplate\":\"isin=DE0001135226\\u003cbr\\u003eDuration=%{x}\\u003cbr\\u003eYield to Maturity=%{y}\\u003cextra\\u003e\\u003c\\u002fextra\\u003e\",\"legendgroup\":\"DE0001135226\",\"marker\":{\"color\":\"#19d3f3\",\"symbol\":\"circle\"},\"mode\":\"markers\",\"name\":\"DE0001135226\",\"orientation\":\"v\",\"showlegend\":true,\"x\":[8.33824],\"xaxis\":\"x\",\"y\":[2.42182],\"yaxis\":\"y\",\"type\":\"scatter\"},{\"hovertemplate\":\"isin=DE000BU2Z023\\u003cbr\\u003eDuration=%{x}\\u003cbr\\u003eYield to Maturity=%{y}\\u003cextra\\u003e\\u003c\\u002fextra\\u003e\",\"legendgroup\":\"DE000BU2Z023\",\"marker\":{\"color\":\"#FF6692\",\"symbol\":\"circle\"},\"mode\":\"markers\",\"name\":\"DE000BU2Z023\",\"orientation\":\"v\",\"showlegend\":true,\"x\":[8.66091],\"xaxis\":\"x\",\"y\":[2.38408],\"yaxis\":\"y\",\"type\":\"scatter\"},{\"hovertemplate\":\"isin=DE000BU2Z031\\u003cbr\\u003eDuration=%{x}\\u003cbr\\u003eYield to Maturity=%{y}\\u003cextra\\u003e\\u003c\\u002fextra\\u003e\",\"legendgroup\":\"DE000BU2Z031\",\"marker\":{\"color\":\"#B6E880\",\"symbol\":\"circle\"},\"mode\":\"markers\",\"name\":\"DE000BU2Z031\",\"orientation\":\"v\",\"showlegend\":true,\"x\":[9.0257],\"xaxis\":\"x\",\"y\":[2.39471],\"yaxis\":\"y\",\"type\":\"scatter\"},{\"hovertemplate\":\"isin=DE0001135275\\u003cbr\\u003eDuration=%{x}\\u003cbr\\u003eYield to Maturity=%{y}\\u003cextra\\u003e\\u003c\\u002fextra\\u003e\",\"legendgroup\":\"DE0001135275\",\"marker\":{\"color\":\"#FF97FF\",\"symbol\":\"circle\"},\"mode\":\"markers\",\"name\":\"DE0001135275\",\"orientation\":\"v\",\"showlegend\":true,\"x\":[10.07231],\"xaxis\":\"x\",\"y\":[2.5343],\"yaxis\":\"y\",\"type\":\"scatter\"},{\"hovertemplate\":\"isin=DE0001102515\\u003cbr\\u003eDuration=%{x}\\u003cbr\\u003eYield to Maturity=%{y}\\u003cextra\\u003e\\u003c\\u002fextra\\u003e\",\"legendgroup\":\"DE0001102515\",\"marker\":{\"color\":\"#FECB52\",\"symbol\":\"circle\"},\"mode\":\"markers\",\"name\":\"DE0001102515\",\"orientation\":\"v\",\"showlegend\":true,\"x\":[10.82821],\"xaxis\":\"x\",\"y\":[2.45786],\"yaxis\":\"y\",\"type\":\"scatter\"},{\"hovertemplate\":\"isin=DE0001135325\\u003cbr\\u003eDuration=%{x}\\u003cbr\\u003eYield to Maturity=%{y}\\u003cextra\\u003e\\u003c\\u002fextra\\u003e\",\"legendgroup\":\"DE0001135325\",\"marker\":{\"color\":\"#636efa\",\"symbol\":\"circle\"},\"mode\":\"markers\",\"name\":\"DE0001135325\",\"orientation\":\"v\",\"showlegend\":true,\"x\":[11.71784],\"xaxis\":\"x\",\"y\":[2.60077],\"yaxis\":\"y\",\"type\":\"scatter\"},{\"hovertemplate\":\"isin=DE0001102549\\u003cbr\\u003eDuration=%{x}\\u003cbr\\u003eYield to Maturity=%{y}\\u003cextra\\u003e\\u003c\\u002fextra\\u003e\",\"legendgroup\":\"DE0001102549\",\"marker\":{\"color\":\"#EF553B\",\"symbol\":\"circle\"},\"mode\":\"markers\",\"name\":\"DE0001102549\",\"orientation\":\"v\",\"showlegend\":true,\"x\":[11.83025],\"xaxis\":\"x\",\"y\":[2.50244],\"yaxis\":\"y\",\"type\":\"scatter\"},{\"hovertemplate\":\"isin=DE0001135366\\u003cbr\\u003eDuration=%{x}\\u003cbr\\u003eYield to Maturity=%{y}\\u003cextra\\u003e\\u003c\\u002fextra\\u003e\",\"legendgroup\":\"DE0001135366\",\"marker\":{\"color\":\"#00cc96\",\"symbol\":\"circle\"},\"mode\":\"markers\",\"name\":\"DE0001135366\",\"orientation\":\"v\",\"showlegend\":true,\"x\":[12.09292],\"xaxis\":\"x\",\"y\":[2.60917],\"yaxis\":\"y\",\"type\":\"scatter\"},{\"hovertemplate\":\"isin=DE0001102598\\u003cbr\\u003eDuration=%{x}\\u003cbr\\u003eYield to Maturity=%{y}\\u003cextra\\u003e\\u003c\\u002fextra\\u003e\",\"legendgroup\":\"DE0001102598\",\"marker\":{\"color\":\"#ab63fa\",\"symbol\":\"circle\"},\"mode\":\"markers\",\"name\":\"DE0001102598\",\"orientation\":\"v\",\"showlegend\":true,\"x\":[12.84314],\"xaxis\":\"x\",\"y\":[2.59486],\"yaxis\":\"y\",\"type\":\"scatter\"},{\"hovertemplate\":\"isin=DE000BU2F009\\u003cbr\\u003eDuration=%{x}\\u003cbr\\u003eYield to Maturity=%{y}\\u003cextra\\u003e\\u003c\\u002fextra\\u003e\",\"legendgroup\":\"DE000BU2F009\",\"marker\":{\"color\":\"#FFA15A\",\"symbol\":\"circle\"},\"mode\":\"markers\",\"name\":\"DE000BU2F009\",\"orientation\":\"v\",\"showlegend\":true,\"x\":[13.77505],\"xaxis\":\"x\",\"y\":[2.6338],\"yaxis\":\"y\",\"type\":\"scatter\"},{\"hovertemplate\":\"isin=DE0001135432\\u003cbr\\u003eDuration=%{x}\\u003cbr\\u003eYield to Maturity=%{y}\\u003cextra\\u003e\\u003c\\u002fextra\\u003e\",\"legendgroup\":\"DE0001135432\",\"marker\":{\"color\":\"#19d3f3\",\"symbol\":\"circle\"},\"mode\":\"markers\",\"name\":\"DE0001135432\",\"orientation\":\"v\",\"showlegend\":true,\"x\":[14.06554],\"xaxis\":\"x\",\"y\":[2.63422],\"yaxis\":\"y\",\"type\":\"scatter\"},{\"hovertemplate\":\"isin=DE0001135481\\u003cbr\\u003eDuration=%{x}\\u003cbr\\u003eYield to Maturity=%{y}\\u003cextra\\u003e\\u003c\\u002fextra\\u003e\",\"legendgroup\":\"DE0001135481\",\"marker\":{\"color\":\"#FF6692\",\"symbol\":\"circle\"},\"mode\":\"markers\",\"name\":\"DE0001135481\",\"orientation\":\"v\",\"showlegend\":true,\"x\":[15.88885],\"xaxis\":\"x\",\"y\":[2.65173],\"yaxis\":\"y\",\"type\":\"scatter\"},{\"hovertemplate\":\"isin=DE0001102341\\u003cbr\\u003eDuration=%{x}\\u003cbr\\u003eYield to Maturity=%{y}\\u003cextra\\u003e\\u003c\\u002fextra\\u003e\",\"legendgroup\":\"DE0001102341\",\"marker\":{\"color\":\"#B6E880\",\"symbol\":\"circle\"},\"mode\":\"markers\",\"name\":\"DE0001102341\",\"orientation\":\"v\",\"showlegend\":true,\"x\":[16.76985],\"xaxis\":\"x\",\"y\":[2.64303],\"yaxis\":\"y\",\"type\":\"scatter\"},{\"hovertemplate\":\"isin=DE0001102432\\u003cbr\\u003eDuration=%{x}\\u003cbr\\u003eYield to Maturity=%{y}\\u003cextra\\u003e\\u003c\\u002fextra\\u003e\",\"legendgroup\":\"DE0001102432\",\"marker\":{\"color\":\"#FF97FF\",\"symbol\":\"circle\"},\"mode\":\"markers\",\"name\":\"DE0001102432\",\"orientation\":\"v\",\"showlegend\":true,\"x\":[20.05054],\"xaxis\":\"x\",\"y\":[2.61488],\"yaxis\":\"y\",\"type\":\"scatter\"},{\"hovertemplate\":\"isin=DE000BU2D004\\u003cbr\\u003eDuration=%{x}\\u003cbr\\u003eYield to Maturity=%{y}\\u003cextra\\u003e\\u003c\\u002fextra\\u003e\",\"legendgroup\":\"DE000BU2D004\",\"marker\":{\"color\":\"#FECB52\",\"symbol\":\"circle\"},\"mode\":\"markers\",\"name\":\"DE000BU2D004\",\"orientation\":\"v\",\"showlegend\":true,\"x\":[21.47382],\"xaxis\":\"x\",\"y\":[2.55933],\"yaxis\":\"y\",\"type\":\"scatter\"},{\"hovertemplate\":\"isin=DE0001102614\\u003cbr\\u003eDuration=%{x}\\u003cbr\\u003eYield to Maturity=%{y}\\u003cextra\\u003e\\u003c\\u002fextra\\u003e\",\"legendgroup\":\"DE0001102614\",\"marker\":{\"color\":\"#636efa\",\"symbol\":\"circle\"},\"mode\":\"markers\",\"name\":\"DE0001102614\",\"orientation\":\"v\",\"showlegend\":true,\"x\":[21.76527],\"xaxis\":\"x\",\"y\":[2.61069],\"yaxis\":\"y\",\"type\":\"scatter\"},{\"hovertemplate\":\"isin=DE0001030757\\u003cbr\\u003eDuration=%{x}\\u003cbr\\u003eYield to Maturity=%{y}\\u003cextra\\u003e\\u003c\\u002fextra\\u003e\",\"legendgroup\":\"DE0001030757\",\"marker\":{\"color\":\"#EF553B\",\"symbol\":\"circle\"},\"mode\":\"markers\",\"name\":\"DE0001030757\",\"orientation\":\"v\",\"showlegend\":true,\"x\":[21.77209],\"xaxis\":\"x\",\"y\":[2.60362],\"yaxis\":\"y\",\"type\":\"scatter\"},{\"hovertemplate\":\"isin=DE0001102481\\u003cbr\\u003eDuration=%{x}\\u003cbr\\u003eYield to Maturity=%{y}\\u003cextra\\u003e\\u003c\\u002fextra\\u003e\",\"legendgroup\":\"DE0001102481\",\"marker\":{\"color\":\"#00cc96\",\"symbol\":\"circle\"},\"mode\":\"markers\",\"name\":\"DE0001102481\",\"orientation\":\"v\",\"showlegend\":true,\"x\":[26.08074],\"xaxis\":\"x\",\"y\":[2.58297],\"yaxis\":\"y\",\"type\":\"scatter\"},{\"hovertemplate\":\"isin=DE0001030724\\u003cbr\\u003eDuration=%{x}\\u003cbr\\u003eYield to Maturity=%{y}\\u003cextra\\u003e\\u003c\\u002fextra\\u003e\",\"legendgroup\":\"DE0001030724\",\"marker\":{\"color\":\"#ab63fa\",\"symbol\":\"circle\"},\"mode\":\"markers\",\"name\":\"DE0001030724\",\"orientation\":\"v\",\"showlegend\":true,\"x\":[26.08076],\"xaxis\":\"x\",\"y\":[2.56869],\"yaxis\":\"y\",\"type\":\"scatter\"},{\"hovertemplate\":\"isin=DE0001102572\\u003cbr\\u003eDuration=%{x}\\u003cbr\\u003eYield to Maturity=%{y}\\u003cextra\\u003e\\u003c\\u002fextra\\u003e\",\"legendgroup\":\"DE0001102572\",\"marker\":{\"color\":\"#FFA15A\",\"symbol\":\"circle\"},\"mode\":\"markers\",\"name\":\"DE0001102572\",\"orientation\":\"v\",\"showlegend\":true,\"x\":[28.08212],\"xaxis\":\"x\",\"y\":[2.56361],\"yaxis\":\"y\",\"type\":\"scatter\"},{\"marker\":{\"color\":\"red\",\"size\":12},\"mode\":\"markers\",\"name\":\"Italian Bonds\",\"x\":[0.04107,0.06023,0.06571,0.0794,0.08214,0.12868,0.12868,0.16153,0.20808,0.23272,0.24093,0.24641,0.3039,0.33128,0.33402,0.37235,0.37782,0.41068,0.41615,0.49829,0.5065,0.54668,0.58316,0.60233,0.61223,0.64613,0.65982,0.68987,0.74196,0.7447,0.81314,0.82597,0.82683,0.87237,0.90897,0.95368,0.99384,1.0724,1.09514,1.09514,1.1783,1.22656,1.24298,1.31476,1.3622,1.46201,1.47471,1.48909,1.53917,1.55966,1.56879,1.57402,1.64545,1.692,1.70842,1.74127,1.80698,1.85139,1.96471,2.04244,2.06434,2.07388,2.09172,2.13434,2.14921,2.2423,2.29432,2.34479,2.4773,2.47788,2.5681,2.64476,2.66563,2.77019,2.78423,2.79326,2.80356,2.87192,2.93504,2.99916,3.06365,3.11347,3.14032,3.24035,3.24162,3.29363,3.40613,3.48497,3.54707,3.55486,3.64408,3.64456,3.64682,3.68515,3.70306,3.72801,3.7479,3.89049,3.96028,3.96167,4.0575,4.12931,4.13142,4.13513,4.23272,4.53126,4.5461,4.56947,4.58042,4.60512,4.61171,4.63792,4.65242,4.68007,4.6872,4.73101,4.73402,4.85893,4.93313,4.97741,5.05681,5.09273,5.14168,5.23203,5.29774,5.35662,5.47675,5.6345,5.63615,5.64545,5.71103,5.84363,5.8566,6.046,6.05613,6.141,6.15743,6.23135,6.27522,6.36436,6.39288,6.40657,6.48541,6.63655,6.7856,6.78987,6.85797,6.86548,6.97878,7.1038,7.11189,7.13642,7.15674,7.18518,7.22519,7.23066,7.3748,7.54979,7.56335,7.73109,7.73169,7.74812,7.8305,7.84507,7.93854,7.97604,8.0575,8.09086,8.10368,8.22724,8.23272,8.36565,8.63792,8.73101,8.82542,8.87864,8.98015,9.18823,9.23203,9.69199,9.73032,9.84177,9.9822,10.141,10.23135,10.30527,10.34915,10.42652,10.51824,10.72142,10.7755,10.85939,10.97878,11.14031,11.22245,11.32444,11.34142,11.34966,11.42506,11.47433,11.69914,11.72347,11.9781,12.13033,12.2245,12.47638,12.72279,12.85421,12.98015,12.99465,13.2571,13.27309,13.77687,13.84345,13.9691,13.9822,14.45625,14.47502,14.76522,14.77619,14.9079,14.98152,15.24149,15.32649,15.48528,15.65624,15.82826,16.06492,16.29569,16.56776,16.94502,17.48665,17.88251,19.20587,19.7974,19.82898,20.70364,21.76593,21.91941,22.26696,24.2546,24.5128,27.64684,29.77139],\"y\":[3.16794,4.51016,3.39285,3.43771,3.1826,3.41893,2.87444,3.26092,3.37356,3.57452,3.26033,3.45726,5.69197,3.54684,3.47676,3.55701,3.40961,3.48759,3.37037,3.46076,3.79789,3.30605,3.49245,3.87163,3.47912,3.78848,3.47543,3.44166,3.68612,3.41547,3.68412,3.28581,3.37991,3.28429,3.39602,3.29509,3.37497,3.29297,3.56938,3.63723,3.31022,3.73937,3.5949,3.16516,3.14202,3.55082,3.19448,3.22023,3.14538,3.18374,3.51336,5.10312,3.40005,3.14802,3.11273,3.55662,3.48903,3.08205,3.07718,3.08605,3.4498,3.10058,3.17545,3.07522,3.46223,3.52104,3.04477,3.03761,3.08244,3.05246,3.43947,3.41537,3.06039,3.50255,3.56649,3.04958,3.38108,3.11398,3.07099,3.06837,3.44375,3.05535,3.39043,3.08323,3.5206,2.9908,3.07932,3.1083,3.77953,5.3825,3.6495,3.09026,3.46543,3.59934,3.61141,3.13531,3.1365,3.66584,3.09712,3.19558,3.3804,3.18682,2.93651,3.11906,3.54512,3.15453,3.72663,3.51104,3.40013,3.23053,3.20788,3.50017,3.19476,3.20185,3.75988,3.57664,3.70436,4.93826,3.2741,3.46617,3.47345,3.24431,3.53148,3.61095,3.29483,3.33509,3.27734,3.27847,3.36809,3.74059,3.35888,3.3252,3.39908,3.35908,3.61159,3.64719,3.51346,3.732,3.44594,3.40452,3.85298,3.68206,3.37801,3.68705,4.36906,3.32581,3.58073,3.39544,3.6103,3.42075,3.42758,4.13193,3.72478,5.18248,3.95528,3.80468,3.57694,3.52027,3.4685,3.64279,3.8449,3.79612,4.23202,3.7431,3.67471,3.6965,3.85266,5.64812,3.57176,4.03211,3.90793,3.71465,3.91561,3.99343,3.73503,3.76027,3.88386,3.95723,4.04024,4.01688,4.15095,3.82904,3.82647,4.09109,4.18049,3.45733,3.92216,3.82589,3.80607,4.12251,4.05805,3.96751,4.15946,4.20157,4.13312,4.06763,3.9711,4.09289,4.81239,4.21731,3.85837,4.14255,4.21722,4.04794,4.17833,4.25674,4.18714,4.00694,4.19209,4.19565,4.18296,4.27651,4.36774,4.06441,4.51409,4.15065,5.92975,4.43418,4.49293,4.42904,5.99792,4.23101,4.15786,4.00247,4.29005,4.18128,4.21665,4.14324,4.95805,4.31302,4.08748,4.22732,4.17785,4.16342,5.1075,4.07048,4.26352,4.5713,4.11299,4.54039,4.59928,3.97069,4.49195,4.903],\"type\":\"scatter\"}],                        {\"template\":{\"data\":{\"histogram2dcontour\":[{\"type\":\"histogram2dcontour\",\"colorbar\":{\"outlinewidth\":0,\"ticks\":\"\"},\"colorscale\":[[0.0,\"#0d0887\"],[0.1111111111111111,\"#46039f\"],[0.2222222222222222,\"#7201a8\"],[0.3333333333333333,\"#9c179e\"],[0.4444444444444444,\"#bd3786\"],[0.5555555555555556,\"#d8576b\"],[0.6666666666666666,\"#ed7953\"],[0.7777777777777778,\"#fb9f3a\"],[0.8888888888888888,\"#fdca26\"],[1.0,\"#f0f921\"]]}],\"choropleth\":[{\"type\":\"choropleth\",\"colorbar\":{\"outlinewidth\":0,\"ticks\":\"\"}}],\"histogram2d\":[{\"type\":\"histogram2d\",\"colorbar\":{\"outlinewidth\":0,\"ticks\":\"\"},\"colorscale\":[[0.0,\"#0d0887\"],[0.1111111111111111,\"#46039f\"],[0.2222222222222222,\"#7201a8\"],[0.3333333333333333,\"#9c179e\"],[0.4444444444444444,\"#bd3786\"],[0.5555555555555556,\"#d8576b\"],[0.6666666666666666,\"#ed7953\"],[0.7777777777777778,\"#fb9f3a\"],[0.8888888888888888,\"#fdca26\"],[1.0,\"#f0f921\"]]}],\"heatmap\":[{\"type\":\"heatmap\",\"colorbar\":{\"outlinewidth\":0,\"ticks\":\"\"},\"colorscale\":[[0.0,\"#0d0887\"],[0.1111111111111111,\"#46039f\"],[0.2222222222222222,\"#7201a8\"],[0.3333333333333333,\"#9c179e\"],[0.4444444444444444,\"#bd3786\"],[0.5555555555555556,\"#d8576b\"],[0.6666666666666666,\"#ed7953\"],[0.7777777777777778,\"#fb9f3a\"],[0.8888888888888888,\"#fdca26\"],[1.0,\"#f0f921\"]]}],\"heatmapgl\":[{\"type\":\"heatmapgl\",\"colorbar\":{\"outlinewidth\":0,\"ticks\":\"\"},\"colorscale\":[[0.0,\"#0d0887\"],[0.1111111111111111,\"#46039f\"],[0.2222222222222222,\"#7201a8\"],[0.3333333333333333,\"#9c179e\"],[0.4444444444444444,\"#bd3786\"],[0.5555555555555556,\"#d8576b\"],[0.6666666666666666,\"#ed7953\"],[0.7777777777777778,\"#fb9f3a\"],[0.8888888888888888,\"#fdca26\"],[1.0,\"#f0f921\"]]}],\"contourcarpet\":[{\"type\":\"contourcarpet\",\"colorbar\":{\"outlinewidth\":0,\"ticks\":\"\"}}],\"contour\":[{\"type\":\"contour\",\"colorbar\":{\"outlinewidth\":0,\"ticks\":\"\"},\"colorscale\":[[0.0,\"#0d0887\"],[0.1111111111111111,\"#46039f\"],[0.2222222222222222,\"#7201a8\"],[0.3333333333333333,\"#9c179e\"],[0.4444444444444444,\"#bd3786\"],[0.5555555555555556,\"#d8576b\"],[0.6666666666666666,\"#ed7953\"],[0.7777777777777778,\"#fb9f3a\"],[0.8888888888888888,\"#fdca26\"],[1.0,\"#f0f921\"]]}],\"surface\":[{\"type\":\"surface\",\"colorbar\":{\"outlinewidth\":0,\"ticks\":\"\"},\"colorscale\":[[0.0,\"#0d0887\"],[0.1111111111111111,\"#46039f\"],[0.2222222222222222,\"#7201a8\"],[0.3333333333333333,\"#9c179e\"],[0.4444444444444444,\"#bd3786\"],[0.5555555555555556,\"#d8576b\"],[0.6666666666666666,\"#ed7953\"],[0.7777777777777778,\"#fb9f3a\"],[0.8888888888888888,\"#fdca26\"],[1.0,\"#f0f921\"]]}],\"mesh3d\":[{\"type\":\"mesh3d\",\"colorbar\":{\"outlinewidth\":0,\"ticks\":\"\"}}],\"scatter\":[{\"fillpattern\":{\"fillmode\":\"overlay\",\"size\":10,\"solidity\":0.2},\"type\":\"scatter\"}],\"parcoords\":[{\"type\":\"parcoords\",\"line\":{\"colorbar\":{\"outlinewidth\":0,\"ticks\":\"\"}}}],\"scatterpolargl\":[{\"type\":\"scatterpolargl\",\"marker\":{\"colorbar\":{\"outlinewidth\":0,\"ticks\":\"\"}}}],\"bar\":[{\"error_x\":{\"color\":\"#2a3f5f\"},\"error_y\":{\"color\":\"#2a3f5f\"},\"marker\":{\"line\":{\"color\":\"#E5ECF6\",\"width\":0.5},\"pattern\":{\"fillmode\":\"overlay\",\"size\":10,\"solidity\":0.2}},\"type\":\"bar\"}],\"scattergeo\":[{\"type\":\"scattergeo\",\"marker\":{\"colorbar\":{\"outlinewidth\":0,\"ticks\":\"\"}}}],\"scatterpolar\":[{\"type\":\"scatterpolar\",\"marker\":{\"colorbar\":{\"outlinewidth\":0,\"ticks\":\"\"}}}],\"histogram\":[{\"marker\":{\"pattern\":{\"fillmode\":\"overlay\",\"size\":10,\"solidity\":0.2}},\"type\":\"histogram\"}],\"scattergl\":[{\"type\":\"scattergl\",\"marker\":{\"colorbar\":{\"outlinewidth\":0,\"ticks\":\"\"}}}],\"scatter3d\":[{\"type\":\"scatter3d\",\"line\":{\"colorbar\":{\"outlinewidth\":0,\"ticks\":\"\"}},\"marker\":{\"colorbar\":{\"outlinewidth\":0,\"ticks\":\"\"}}}],\"scattermapbox\":[{\"type\":\"scattermapbox\",\"marker\":{\"colorbar\":{\"outlinewidth\":0,\"ticks\":\"\"}}}],\"scatterternary\":[{\"type\":\"scatterternary\",\"marker\":{\"colorbar\":{\"outlinewidth\":0,\"ticks\":\"\"}}}],\"scattercarpet\":[{\"type\":\"scattercarpet\",\"marker\":{\"colorbar\":{\"outlinewidth\":0,\"ticks\":\"\"}}}],\"carpet\":[{\"aaxis\":{\"endlinecolor\":\"#2a3f5f\",\"gridcolor\":\"white\",\"linecolor\":\"white\",\"minorgridcolor\":\"white\",\"startlinecolor\":\"#2a3f5f\"},\"baxis\":{\"endlinecolor\":\"#2a3f5f\",\"gridcolor\":\"white\",\"linecolor\":\"white\",\"minorgridcolor\":\"white\",\"startlinecolor\":\"#2a3f5f\"},\"type\":\"carpet\"}],\"table\":[{\"cells\":{\"fill\":{\"color\":\"#EBF0F8\"},\"line\":{\"color\":\"white\"}},\"header\":{\"fill\":{\"color\":\"#C8D4E3\"},\"line\":{\"color\":\"white\"}},\"type\":\"table\"}],\"barpolar\":[{\"marker\":{\"line\":{\"color\":\"#E5ECF6\",\"width\":0.5},\"pattern\":{\"fillmode\":\"overlay\",\"size\":10,\"solidity\":0.2}},\"type\":\"barpolar\"}],\"pie\":[{\"automargin\":true,\"type\":\"pie\"}]},\"layout\":{\"autotypenumbers\":\"strict\",\"colorway\":[\"#636efa\",\"#EF553B\",\"#00cc96\",\"#ab63fa\",\"#FFA15A\",\"#19d3f3\",\"#FF6692\",\"#B6E880\",\"#FF97FF\",\"#FECB52\"],\"font\":{\"color\":\"#2a3f5f\"},\"hovermode\":\"closest\",\"hoverlabel\":{\"align\":\"left\"},\"paper_bgcolor\":\"white\",\"plot_bgcolor\":\"#E5ECF6\",\"polar\":{\"bgcolor\":\"#E5ECF6\",\"angularaxis\":{\"gridcolor\":\"white\",\"linecolor\":\"white\",\"ticks\":\"\"},\"radialaxis\":{\"gridcolor\":\"white\",\"linecolor\":\"white\",\"ticks\":\"\"}},\"ternary\":{\"bgcolor\":\"#E5ECF6\",\"aaxis\":{\"gridcolor\":\"white\",\"linecolor\":\"white\",\"ticks\":\"\"},\"baxis\":{\"gridcolor\":\"white\",\"linecolor\":\"white\",\"ticks\":\"\"},\"caxis\":{\"gridcolor\":\"white\",\"linecolor\":\"white\",\"ticks\":\"\"}},\"coloraxis\":{\"colorbar\":{\"outlinewidth\":0,\"ticks\":\"\"}},\"colorscale\":{\"sequential\":[[0.0,\"#0d0887\"],[0.1111111111111111,\"#46039f\"],[0.2222222222222222,\"#7201a8\"],[0.3333333333333333,\"#9c179e\"],[0.4444444444444444,\"#bd3786\"],[0.5555555555555556,\"#d8576b\"],[0.6666666666666666,\"#ed7953\"],[0.7777777777777778,\"#fb9f3a\"],[0.8888888888888888,\"#fdca26\"],[1.0,\"#f0f921\"]],\"sequentialminus\":[[0.0,\"#0d0887\"],[0.1111111111111111,\"#46039f\"],[0.2222222222222222,\"#7201a8\"],[0.3333333333333333,\"#9c179e\"],[0.4444444444444444,\"#bd3786\"],[0.5555555555555556,\"#d8576b\"],[0.6666666666666666,\"#ed7953\"],[0.7777777777777778,\"#fb9f3a\"],[0.8888888888888888,\"#fdca26\"],[1.0,\"#f0f921\"]],\"diverging\":[[0,\"#8e0152\"],[0.1,\"#c51b7d\"],[0.2,\"#de77ae\"],[0.3,\"#f1b6da\"],[0.4,\"#fde0ef\"],[0.5,\"#f7f7f7\"],[0.6,\"#e6f5d0\"],[0.7,\"#b8e186\"],[0.8,\"#7fbc41\"],[0.9,\"#4d9221\"],[1,\"#276419\"]]},\"xaxis\":{\"gridcolor\":\"white\",\"linecolor\":\"white\",\"ticks\":\"\",\"title\":{\"standoff\":15},\"zerolinecolor\":\"white\",\"automargin\":true,\"zerolinewidth\":2},\"yaxis\":{\"gridcolor\":\"white\",\"linecolor\":\"white\",\"ticks\":\"\",\"title\":{\"standoff\":15},\"zerolinecolor\":\"white\",\"automargin\":true,\"zerolinewidth\":2},\"scene\":{\"xaxis\":{\"backgroundcolor\":\"#E5ECF6\",\"gridcolor\":\"white\",\"linecolor\":\"white\",\"showbackground\":true,\"ticks\":\"\",\"zerolinecolor\":\"white\",\"gridwidth\":2},\"yaxis\":{\"backgroundcolor\":\"#E5ECF6\",\"gridcolor\":\"white\",\"linecolor\":\"white\",\"showbackground\":true,\"ticks\":\"\",\"zerolinecolor\":\"white\",\"gridwidth\":2},\"zaxis\":{\"backgroundcolor\":\"#E5ECF6\",\"gridcolor\":\"white\",\"linecolor\":\"white\",\"showbackground\":true,\"ticks\":\"\",\"zerolinecolor\":\"white\",\"gridwidth\":2}},\"shapedefaults\":{\"line\":{\"color\":\"#2a3f5f\"}},\"annotationdefaults\":{\"arrowcolor\":\"#2a3f5f\",\"arrowhead\":0,\"arrowwidth\":1},\"geo\":{\"bgcolor\":\"white\",\"landcolor\":\"#E5ECF6\",\"subunitcolor\":\"white\",\"showland\":true,\"showlakes\":true,\"lakecolor\":\"white\"},\"title\":{\"x\":0.05},\"mapbox\":{\"style\":\"light\"}}},\"xaxis\":{\"anchor\":\"y\",\"domain\":[0.0,1.0],\"title\":{\"text\":\"Duration\"}},\"yaxis\":{\"anchor\":\"x\",\"domain\":[0.0,1.0],\"title\":{\"text\":\"Yield to Maturity\"}},\"legend\":{\"title\":{\"text\":\"isin\"},\"tracegroupgap\":0},\"title\":{\"text\":\"Yield Curve Comparison for German and Italian Bonds\"}},                        {\"responsive\": true}                    ).then(function(){\n",
       "                            \n",
       "var gd = document.getElementById('a3def742-e4e9-42d1-bb28-d86bd52ec561');\n",
       "var x = new MutationObserver(function (mutations, observer) {{\n",
       "        var display = window.getComputedStyle(gd).display;\n",
       "        if (!display || display === 'none') {{\n",
       "            console.log([gd, 'removed!']);\n",
       "            Plotly.purge(gd);\n",
       "            observer.disconnect();\n",
       "        }}\n",
       "}});\n",
       "\n",
       "// Listen for the removal of the full notebook cells\n",
       "var notebookContainer = gd.closest('#notebook-container');\n",
       "if (notebookContainer) {{\n",
       "    x.observe(notebookContainer, {childList: true});\n",
       "}}\n",
       "\n",
       "// Listen for the clearing of the current output cell\n",
       "var outputEl = gd.closest('.output');\n",
       "if (outputEl) {{\n",
       "    x.observe(outputEl, {childList: true});\n",
       "}}\n",
       "\n",
       "                        })                };                });            </script>        </div>"
      ]
     },
     "metadata": {},
     "output_type": "display_data"
    },
    {
     "data": {
      "application/vnd.plotly.v1+json": {
       "config": {
        "plotlyServerURL": "https://plot.ly"
       },
       "data": [
        {
         "hovertemplate": "isin=DE000BU0E071<br>Duration=%{x}<br>Bond price=%{y}<extra></extra>",
         "legendgroup": "DE000BU0E071",
         "marker": {
          "color": "#636efa",
          "symbol": "circle"
         },
         "mode": "markers",
         "name": "DE000BU0E071",
         "orientation": "v",
         "showlegend": true,
         "type": "scatter",
         "x": [
          0.01369
         ],
         "xaxis": "x",
         "y": [
          99.99061
         ],
         "yaxis": "y"
        },
        {
         "hovertemplate": "isin=DE0001102366<br>Duration=%{x}<br>Bond price=%{y}<extra></extra>",
         "legendgroup": "DE0001102366",
         "marker": {
          "color": "#EF553B",
          "symbol": "circle"
         },
         "mode": "markers",
         "name": "DE0001102366",
         "orientation": "v",
         "showlegend": true,
         "type": "scatter",
         "x": [
          0.08214
         ],
         "xaxis": "x",
         "y": [
          99.79
         ],
         "yaxis": "y"
        },
        {
         "hovertemplate": "isin=DE000BU0E089<br>Duration=%{x}<br>Bond price=%{y}<extra></extra>",
         "legendgroup": "DE000BU0E089",
         "marker": {
          "color": "#00cc96",
          "symbol": "circle"
         },
         "mode": "markers",
         "name": "DE000BU0E089",
         "orientation": "v",
         "showlegend": true,
         "type": "scatter",
         "x": [
          0.1013
         ],
         "xaxis": "x",
         "y": [
          99.672
         ],
         "yaxis": "y"
        },
        {
         "hovertemplate": "isin=DE0001104891<br>Duration=%{x}<br>Bond price=%{y}<extra></extra>",
         "legendgroup": "DE0001104891",
         "marker": {
          "color": "#ab63fa",
          "symbol": "circle"
         },
         "mode": "markers",
         "name": "DE0001104891",
         "orientation": "v",
         "showlegend": true,
         "type": "scatter",
         "x": [
          0.16153
         ],
         "xaxis": "x",
         "y": [
          99.535
         ],
         "yaxis": "y"
        },
        {
         "hovertemplate": "isin=DE000BU0E097<br>Duration=%{x}<br>Bond price=%{y}<extra></extra>",
         "legendgroup": "DE000BU0E097",
         "marker": {
          "color": "#FFA15A",
          "symbol": "circle"
         },
         "mode": "markers",
         "name": "DE000BU0E097",
         "orientation": "v",
         "showlegend": true,
         "type": "scatter",
         "x": [
          0.17522
         ],
         "xaxis": "x",
         "y": [
          99.41
         ],
         "yaxis": "y"
        },
        {
         "hovertemplate": "isin=DE000BU0E105<br>Duration=%{x}<br>Bond price=%{y}<extra></extra>",
         "legendgroup": "DE000BU0E105",
         "marker": {
          "color": "#19d3f3",
          "symbol": "circle"
         },
         "mode": "markers",
         "name": "DE000BU0E105",
         "orientation": "v",
         "showlegend": true,
         "type": "scatter",
         "x": [
          0.25188
         ],
         "xaxis": "x",
         "y": [
          99.164
         ],
         "yaxis": "y"
        },
        {
         "hovertemplate": "isin=DE0001141802<br>Duration=%{x}<br>Bond price=%{y}<extra></extra>",
         "legendgroup": "DE0001141802",
         "marker": {
          "color": "#FF6692",
          "symbol": "circle"
         },
         "mode": "markers",
         "name": "DE0001141802",
         "orientation": "v",
         "showlegend": true,
         "type": "scatter",
         "x": [
          0.25736
         ],
         "xaxis": "x",
         "y": [
          99.17
         ],
         "yaxis": "y"
        },
        {
         "hovertemplate": "isin=DE000BU0E113<br>Duration=%{x}<br>Bond price=%{y}<extra></extra>",
         "legendgroup": "DE000BU0E113",
         "marker": {
          "color": "#B6E880",
          "symbol": "circle"
         },
         "mode": "markers",
         "name": "DE000BU0E113",
         "orientation": "v",
         "showlegend": true,
         "type": "scatter",
         "x": [
          0.34771
         ],
         "xaxis": "x",
         "y": [
          98.84
         ],
         "yaxis": "y"
        },
        {
         "hovertemplate": "isin=DE000BU0E121<br>Duration=%{x}<br>Bond price=%{y}<extra></extra>",
         "legendgroup": "DE000BU0E121",
         "marker": {
          "color": "#FF97FF",
          "symbol": "circle"
         },
         "mode": "markers",
         "name": "DE000BU0E121",
         "orientation": "v",
         "showlegend": true,
         "type": "scatter",
         "x": [
          0.4052
         ],
         "xaxis": "x",
         "y": [
          98.65565
         ],
         "yaxis": "y"
        },
        {
         "hovertemplate": "isin=DE0001104909<br>Duration=%{x}<br>Bond price=%{y}<extra></extra>",
         "legendgroup": "DE0001104909",
         "marker": {
          "color": "#FECB52",
          "symbol": "circle"
         },
         "mode": "markers",
         "name": "DE0001104909",
         "orientation": "v",
         "showlegend": true,
         "type": "scatter",
         "x": [
          0.40794
         ],
         "xaxis": "x",
         "y": [
          99.583
         ],
         "yaxis": "y"
        },
        {
         "hovertemplate": "isin=DE000BU0E139<br>Duration=%{x}<br>Bond price=%{y}<extra></extra>",
         "legendgroup": "DE000BU0E139",
         "marker": {
          "color": "#636efa",
          "symbol": "circle"
         },
         "mode": "markers",
         "name": "DE000BU0E139",
         "orientation": "v",
         "showlegend": true,
         "type": "scatter",
         "x": [
          0.50103
         ],
         "xaxis": "x",
         "y": [
          98.36
         ],
         "yaxis": "y"
        },
        {
         "hovertemplate": "isin=DE0001102374<br>Duration=%{x}<br>Bond price=%{y}<extra></extra>",
         "legendgroup": "DE0001102374",
         "marker": {
          "color": "#EF553B",
          "symbol": "circle"
         },
         "mode": "markers",
         "name": "DE0001102374",
         "orientation": "v",
         "showlegend": true,
         "type": "scatter",
         "x": [
          0.5859
         ],
         "xaxis": "x",
         "y": [
          98.445
         ],
         "yaxis": "y"
        },
        {
         "hovertemplate": "isin=DE000BU0E147<br>Duration=%{x}<br>Bond price=%{y}<extra></extra>",
         "legendgroup": "DE000BU0E147",
         "marker": {
          "color": "#00cc96",
          "symbol": "circle"
         },
         "mode": "markers",
         "name": "DE000BU0E147",
         "orientation": "v",
         "showlegend": true,
         "type": "scatter",
         "x": [
          0.6078
         ],
         "xaxis": "x",
         "y": [
          98.05
         ],
         "yaxis": "y"
        },
        {
         "hovertemplate": "isin=DE000BU22007<br>Duration=%{x}<br>Bond price=%{y}<extra></extra>",
         "legendgroup": "DE000BU22007",
         "marker": {
          "color": "#ab63fa",
          "symbol": "circle"
         },
         "mode": "markers",
         "name": "DE000BU22007",
         "orientation": "v",
         "showlegend": true,
         "type": "scatter",
         "x": [
          0.65708
         ],
         "xaxis": "x",
         "y": [
          99.547
         ],
         "yaxis": "y"
        },
        {
         "hovertemplate": "isin=DE000BU0E154<br>Duration=%{x}<br>Bond price=%{y}<extra></extra>",
         "legendgroup": "DE000BU0E154",
         "marker": {
          "color": "#FFA15A",
          "symbol": "circle"
         },
         "mode": "markers",
         "name": "DE000BU0E154",
         "orientation": "v",
         "showlegend": true,
         "type": "scatter",
         "x": [
          0.67351
         ],
         "xaxis": "x",
         "y": [
          97.83
         ],
         "yaxis": "y"
        },
        {
         "hovertemplate": "isin=DE0001141810<br>Duration=%{x}<br>Bond price=%{y}<extra></extra>",
         "legendgroup": "DE0001141810",
         "marker": {
          "color": "#19d3f3",
          "symbol": "circle"
         },
         "mode": "markers",
         "name": "DE0001141810",
         "orientation": "v",
         "showlegend": true,
         "type": "scatter",
         "x": [
          0.73648
         ],
         "xaxis": "x",
         "y": [
          97.68
         ],
         "yaxis": "y"
        },
        {
         "hovertemplate": "isin=DE000BU0E162<br>Duration=%{x}<br>Bond price=%{y}<extra></extra>",
         "legendgroup": "DE000BU0E162",
         "marker": {
          "color": "#FF6692",
          "symbol": "circle"
         },
         "mode": "markers",
         "name": "DE000BU0E162",
         "orientation": "v",
         "showlegend": true,
         "type": "scatter",
         "x": [
          0.75017
         ],
         "xaxis": "x",
         "y": [
          97.605
         ],
         "yaxis": "y"
        },
        {
         "hovertemplate": "isin=DE000BU0E170<br>Duration=%{x}<br>Bond price=%{y}<extra></extra>",
         "legendgroup": "DE000BU0E170",
         "marker": {
          "color": "#B6E880",
          "symbol": "circle"
         },
         "mode": "markers",
         "name": "DE000BU0E170",
         "orientation": "v",
         "showlegend": true,
         "type": "scatter",
         "x": [
          0.82683
         ],
         "xaxis": "x",
         "y": [
          97.39
         ],
         "yaxis": "y"
        },
        {
         "hovertemplate": "isin=DE000BU22015<br>Duration=%{x}<br>Bond price=%{y}<extra></extra>",
         "legendgroup": "DE000BU22015",
         "marker": {
          "color": "#FF97FF",
          "symbol": "circle"
         },
         "mode": "markers",
         "name": "DE000BU22015",
         "orientation": "v",
         "showlegend": true,
         "type": "scatter",
         "x": [
          0.90623
         ],
         "xaxis": "x",
         "y": [
          99.687
         ],
         "yaxis": "y"
        },
        {
         "hovertemplate": "isin=DE000BU0E188<br>Duration=%{x}<br>Bond price=%{y}<extra></extra>",
         "legendgroup": "DE000BU0E188",
         "marker": {
          "color": "#FECB52",
          "symbol": "circle"
         },
         "mode": "markers",
         "name": "DE000BU0E188",
         "orientation": "v",
         "showlegend": true,
         "type": "scatter",
         "x": [
          0.92266
         ],
         "xaxis": "x",
         "y": [
          97.175
         ],
         "yaxis": "y"
        },
        {
         "hovertemplate": "isin=DE000BU0E196<br>Duration=%{x}<br>Bond price=%{y}<extra></extra>",
         "legendgroup": "DE000BU0E196",
         "marker": {
          "color": "#636efa",
          "symbol": "circle"
         },
         "mode": "markers",
         "name": "DE000BU0E196",
         "orientation": "v",
         "showlegend": true,
         "type": "scatter",
         "x": [
          1.00205
         ],
         "xaxis": "x",
         "y": [
          96.90382
         ],
         "yaxis": "y"
        },
        {
         "hovertemplate": "isin=DE0001102382<br>Duration=%{x}<br>Bond price=%{y}<extra></extra>",
         "legendgroup": "DE0001102382",
         "marker": {
          "color": "#EF553B",
          "symbol": "circle"
         },
         "mode": "markers",
         "name": "DE0001102382",
         "orientation": "v",
         "showlegend": true,
         "type": "scatter",
         "x": [
          1.07136
         ],
         "xaxis": "x",
         "y": [
          97.89
         ],
         "yaxis": "y"
        },
        {
         "hovertemplate": "isin=DE000BU22023<br>Duration=%{x}<br>Bond price=%{y}<extra></extra>",
         "legendgroup": "DE000BU22023",
         "marker": {
          "color": "#00cc96",
          "symbol": "circle"
         },
         "mode": "markers",
         "name": "DE000BU22023",
         "orientation": "v",
         "showlegend": true,
         "type": "scatter",
         "x": [
          1.14465
         ],
         "xaxis": "x",
         "y": [
          100.135
         ],
         "yaxis": "y"
        },
        {
         "hovertemplate": "isin=DE0001030716<br>Duration=%{x}<br>Bond price=%{y}<extra></extra>",
         "legendgroup": "DE0001030716",
         "marker": {
          "color": "#ab63fa",
          "symbol": "circle"
         },
         "mode": "markers",
         "name": "DE0001030716",
         "orientation": "v",
         "showlegend": true,
         "type": "scatter",
         "x": [
          1.23477
         ],
         "xaxis": "x",
         "y": [
          96.507
         ],
         "yaxis": "y"
        },
        {
         "hovertemplate": "isin=DE0001141828<br>Duration=%{x}<br>Bond price=%{y}<extra></extra>",
         "legendgroup": "DE0001141828",
         "marker": {
          "color": "#FFA15A",
          "symbol": "circle"
         },
         "mode": "markers",
         "name": "DE0001141828",
         "orientation": "v",
         "showlegend": true,
         "type": "scatter",
         "x": [
          1.23477
         ],
         "xaxis": "x",
         "y": [
          96.53
         ],
         "yaxis": "y"
        },
        {
         "hovertemplate": "isin=DE000BU22031<br>Duration=%{x}<br>Bond price=%{y}<extra></extra>",
         "legendgroup": "DE000BU22031",
         "marker": {
          "color": "#19d3f3",
          "symbol": "circle"
         },
         "mode": "markers",
         "name": "DE000BU22031",
         "orientation": "v",
         "showlegend": true,
         "type": "scatter",
         "x": [
          1.37735
         ],
         "xaxis": "x",
         "y": [
          100.19
         ],
         "yaxis": "y"
        },
        {
         "hovertemplate": "isin=DE0001102390<br>Duration=%{x}<br>Bond price=%{y}<extra></extra>",
         "legendgroup": "DE0001102390",
         "marker": {
          "color": "#FF6692",
          "symbol": "circle"
         },
         "mode": "markers",
         "name": "DE0001102390",
         "orientation": "v",
         "showlegend": true,
         "type": "scatter",
         "x": [
          1.58013
         ],
         "xaxis": "x",
         "y": [
          96.505
         ],
         "yaxis": "y"
        },
        {
         "hovertemplate": "isin=DE000BU22049<br>Duration=%{x}<br>Bond price=%{y}<extra></extra>",
         "legendgroup": "DE000BU22049",
         "marker": {
          "color": "#B6E880",
          "symbol": "circle"
         },
         "mode": "markers",
         "name": "DE000BU22049",
         "orientation": "v",
         "showlegend": true,
         "type": "scatter",
         "x": [
          1.64842
         ],
         "xaxis": "x",
         "y": [
          99.46
         ],
         "yaxis": "y"
        },
        {
         "hovertemplate": "isin=DE0001141836<br>Duration=%{x}<br>Bond price=%{y}<extra></extra>",
         "legendgroup": "DE0001141836",
         "marker": {
          "color": "#FF97FF",
          "symbol": "circle"
         },
         "mode": "markers",
         "name": "DE0001141836",
         "orientation": "v",
         "showlegend": true,
         "type": "scatter",
         "x": [
          1.73306
         ],
         "xaxis": "x",
         "y": [
          95.396
         ],
         "yaxis": "y"
        },
        {
         "hovertemplate": "isin=DE000BU22056<br>Duration=%{x}<br>Bond price=%{y}<extra></extra>",
         "legendgroup": "DE000BU22056",
         "marker": {
          "color": "#FECB52",
          "symbol": "circle"
         },
         "mode": "markers",
         "name": "DE000BU22056",
         "orientation": "v",
         "showlegend": true,
         "type": "scatter",
         "x": [
          1.89391
         ],
         "xaxis": "x",
         "y": [
          100.295
         ],
         "yaxis": "y"
        },
        {
         "hovertemplate": "isin=DE0001102408<br>Duration=%{x}<br>Bond price=%{y}<extra></extra>",
         "legendgroup": "DE0001102408",
         "marker": {
          "color": "#636efa",
          "symbol": "circle"
         },
         "mode": "markers",
         "name": "DE0001102408",
         "orientation": "v",
         "showlegend": true,
         "type": "scatter",
         "x": [
          2.08077
         ],
         "xaxis": "x",
         "y": [
          94.74
         ],
         "yaxis": "y"
        },
        {
         "hovertemplate": "isin=DE0001141844<br>Duration=%{x}<br>Bond price=%{y}<extra></extra>",
         "legendgroup": "DE0001141844",
         "marker": {
          "color": "#EF553B",
          "symbol": "circle"
         },
         "mode": "markers",
         "name": "DE0001141844",
         "orientation": "v",
         "showlegend": true,
         "type": "scatter",
         "x": [
          2.23135
         ],
         "xaxis": "x",
         "y": [
          95.23
         ],
         "yaxis": "y"
        },
        {
         "hovertemplate": "isin=DE0001102416<br>Duration=%{x}<br>Bond price=%{y}<extra></extra>",
         "legendgroup": "DE0001102416",
         "marker": {
          "color": "#00cc96",
          "symbol": "circle"
         },
         "mode": "markers",
         "name": "DE0001102416",
         "orientation": "v",
         "showlegend": true,
         "type": "scatter",
         "x": [
          2.57677
         ],
         "xaxis": "x",
         "y": [
          94.306
         ],
         "yaxis": "y"
        },
        {
         "hovertemplate": "isin=DE0001141851<br>Duration=%{x}<br>Bond price=%{y}<extra></extra>",
         "legendgroup": "DE0001141851",
         "marker": {
          "color": "#ab63fa",
          "symbol": "circle"
         },
         "mode": "markers",
         "name": "DE0001141851",
         "orientation": "v",
         "showlegend": true,
         "type": "scatter",
         "x": [
          2.7488
         ],
         "xaxis": "x",
         "y": [
          93.354
         ],
         "yaxis": "y"
        },
        {
         "hovertemplate": "isin=DE0001135044<br>Duration=%{x}<br>Bond price=%{y}<extra></extra>",
         "legendgroup": "DE0001135044",
         "marker": {
          "color": "#FFA15A",
          "symbol": "circle"
         },
         "mode": "markers",
         "name": "DE0001135044",
         "orientation": "v",
         "showlegend": true,
         "type": "scatter",
         "x": [
          2.79574
         ],
         "xaxis": "x",
         "y": [
          111.16
         ],
         "yaxis": "y"
        },
        {
         "hovertemplate": "isin=DE0001102424<br>Duration=%{x}<br>Bond price=%{y}<extra></extra>",
         "legendgroup": "DE0001102424",
         "marker": {
          "color": "#19d3f3",
          "symbol": "circle"
         },
         "mode": "markers",
         "name": "DE0001102424",
         "orientation": "v",
         "showlegend": true,
         "type": "scatter",
         "x": [
          3.04899
         ],
         "xaxis": "x",
         "y": [
          94.225
         ],
         "yaxis": "y"
        },
        {
         "hovertemplate": "isin=DE0001141869<br>Duration=%{x}<br>Bond price=%{y}<extra></extra>",
         "legendgroup": "DE0001141869",
         "marker": {
          "color": "#FF6692",
          "symbol": "circle"
         },
         "mode": "markers",
         "name": "DE0001141869",
         "orientation": "v",
         "showlegend": true,
         "type": "scatter",
         "x": [
          3.16879
         ],
         "xaxis": "x",
         "y": [
          96.385
         ],
         "yaxis": "y"
        },
        {
         "hovertemplate": "isin=DE0001030740<br>Duration=%{x}<br>Bond price=%{y}<extra></extra>",
         "legendgroup": "DE0001030740",
         "marker": {
          "color": "#B6E880",
          "symbol": "circle"
         },
         "mode": "markers",
         "name": "DE0001030740",
         "orientation": "v",
         "showlegend": true,
         "type": "scatter",
         "x": [
          3.1688
         ],
         "xaxis": "x",
         "y": [
          96.408
         ],
         "yaxis": "y"
        },
        {
         "hovertemplate": "isin=DE0001135069<br>Duration=%{x}<br>Bond price=%{y}<extra></extra>",
         "legendgroup": "DE0001135069",
         "marker": {
          "color": "#FF97FF",
          "symbol": "circle"
         },
         "mode": "markers",
         "name": "DE0001135069",
         "orientation": "v",
         "showlegend": true,
         "type": "scatter",
         "x": [
          3.17937
         ],
         "xaxis": "x",
         "y": [
          110.337
         ],
         "yaxis": "y"
        },
        {
         "hovertemplate": "isin=DE0001102523<br>Duration=%{x}<br>Bond price=%{y}<extra></extra>",
         "legendgroup": "DE0001102523",
         "marker": {
          "color": "#FECB52",
          "symbol": "circle"
         },
         "mode": "markers",
         "name": "DE0001102523",
         "orientation": "v",
         "showlegend": true,
         "type": "scatter",
         "x": [
          3.33196
         ],
         "xaxis": "x",
         "y": [
          92.194
         ],
         "yaxis": "y"
        },
        {
         "hovertemplate": "isin=DE0001102440<br>Duration=%{x}<br>Bond price=%{y}<extra></extra>",
         "legendgroup": "DE0001102440",
         "marker": {
          "color": "#636efa",
          "symbol": "circle"
         },
         "mode": "markers",
         "name": "DE0001102440",
         "orientation": "v",
         "showlegend": true,
         "type": "scatter",
         "x": [
          3.55278
         ],
         "xaxis": "x",
         "y": [
          93.458
         ],
         "yaxis": "y"
        },
        {
         "hovertemplate": "isin=DE000BU25000<br>Duration=%{x}<br>Bond price=%{y}<extra></extra>",
         "legendgroup": "DE000BU25000",
         "marker": {
          "color": "#EF553B",
          "symbol": "circle"
         },
         "mode": "markers",
         "name": "DE000BU25000",
         "orientation": "v",
         "showlegend": true,
         "type": "scatter",
         "x": [
          3.61459
         ],
         "xaxis": "x",
         "y": [
          99.17
         ],
         "yaxis": "y"
        },
        {
         "hovertemplate": "isin=DE0001135085<br>Duration=%{x}<br>Bond price=%{y}<extra></extra>",
         "legendgroup": "DE0001135085",
         "marker": {
          "color": "#00cc96",
          "symbol": "circle"
         },
         "mode": "markers",
         "name": "DE0001135085",
         "orientation": "v",
         "showlegend": true,
         "type": "scatter",
         "x": [
          3.71511
         ],
         "xaxis": "x",
         "y": [
          108.662
         ],
         "yaxis": "y"
        },
        {
         "hovertemplate": "isin=DE000BU25018<br>Duration=%{x}<br>Bond price=%{y}<extra></extra>",
         "legendgroup": "DE000BU25018",
         "marker": {
          "color": "#ab63fa",
          "symbol": "circle"
         },
         "mode": "markers",
         "name": "DE000BU25018",
         "orientation": "v",
         "showlegend": true,
         "type": "scatter",
         "x": [
          4.03219
         ],
         "xaxis": "x",
         "y": [
          99.893
         ],
         "yaxis": "y"
        },
        {
         "hovertemplate": "isin=DE0001102457<br>Duration=%{x}<br>Bond price=%{y}<extra></extra>",
         "legendgroup": "DE0001102457",
         "marker": {
          "color": "#FFA15A",
          "symbol": "circle"
         },
         "mode": "markers",
         "name": "DE0001102457",
         "orientation": "v",
         "showlegend": true,
         "type": "scatter",
         "x": [
          4.05565
         ],
         "xaxis": "x",
         "y": [
          91.849
         ],
         "yaxis": "y"
        },
        {
         "hovertemplate": "isin=DE0001102556<br>Duration=%{x}<br>Bond price=%{y}<extra></extra>",
         "legendgroup": "DE0001102556",
         "marker": {
          "color": "#19d3f3",
          "symbol": "circle"
         },
         "mode": "markers",
         "name": "DE0001102556",
         "orientation": "v",
         "showlegend": true,
         "type": "scatter",
         "x": [
          4.33402
         ],
         "xaxis": "x",
         "y": [
          90.372
         ],
         "yaxis": "y"
        },
        {
         "hovertemplate": "isin=DE000BU35025<br>Duration=%{x}<br>Bond price=%{y}<extra></extra>",
         "legendgroup": "DE000BU35025",
         "marker": {
          "color": "#FF6692",
          "symbol": "circle"
         },
         "mode": "markers",
         "name": "DE000BU35025",
         "orientation": "v",
         "showlegend": true,
         "type": "scatter",
         "x": [
          4.53663
         ],
         "xaxis": "x",
         "y": [
          98.658
         ],
         "yaxis": "y"
        },
        {
         "hovertemplate": "isin=DE000BU25026<br>Duration=%{x}<br>Bond price=%{y}<extra></extra>",
         "legendgroup": "DE000BU25026",
         "marker": {
          "color": "#B6E880",
          "symbol": "circle"
         },
         "mode": "markers",
         "name": "DE000BU25026",
         "orientation": "v",
         "showlegend": true,
         "type": "scatter",
         "x": [
          4.53663
         ],
         "xaxis": "x",
         "y": [
          98.654
         ],
         "yaxis": "y"
        },
        {
         "hovertemplate": "isin=DE0001102465<br>Duration=%{x}<br>Bond price=%{y}<extra></extra>",
         "legendgroup": "DE0001102465",
         "marker": {
          "color": "#FF97FF",
          "symbol": "circle"
         },
         "mode": "markers",
         "name": "DE0001102465",
         "orientation": "v",
         "showlegend": true,
         "type": "scatter",
         "x": [
          4.55943
         ],
         "xaxis": "x",
         "y": [
          90.9946
         ],
         "yaxis": "y"
        },
        {
         "hovertemplate": "isin=DE0001135143<br>Duration=%{x}<br>Bond price=%{y}<extra></extra>",
         "legendgroup": "DE0001135143",
         "marker": {
          "color": "#FECB52",
          "symbol": "circle"
         },
         "mode": "markers",
         "name": "DE0001135143",
         "orientation": "v",
         "showlegend": true,
         "type": "scatter",
         "x": [
          4.73889
         ],
         "xaxis": "x",
         "y": [
          119.59
         ],
         "yaxis": "y"
        },
        {
         "hovertemplate": "isin=DE0001102622<br>Duration=%{x}<br>Bond price=%{y}<extra></extra>",
         "legendgroup": "DE0001102622",
         "marker": {
          "color": "#636efa",
          "symbol": "circle"
         },
         "mode": "markers",
         "name": "DE0001102622",
         "orientation": "v",
         "showlegend": true,
         "type": "scatter",
         "x": [
          5.03011
         ],
         "xaxis": "x",
         "y": [
          98.495
         ],
         "yaxis": "y"
        },
        {
         "hovertemplate": "isin=DE0001102473<br>Duration=%{x}<br>Bond price=%{y}<extra></extra>",
         "legendgroup": "DE0001102473",
         "marker": {
          "color": "#EF553B",
          "symbol": "circle"
         },
         "mode": "markers",
         "name": "DE0001102473",
         "orientation": "v",
         "showlegend": true,
         "type": "scatter",
         "x": [
          5.08145
         ],
         "xaxis": "x",
         "y": [
          88.915
         ],
         "yaxis": "y"
        },
        {
         "hovertemplate": "isin=DE0001135176<br>Duration=%{x}<br>Bond price=%{y}<extra></extra>",
         "legendgroup": "DE0001135176",
         "marker": {
          "color": "#00cc96",
          "symbol": "circle"
         },
         "mode": "markers",
         "name": "DE0001135176",
         "orientation": "v",
         "showlegend": true,
         "type": "scatter",
         "x": [
          5.56306
         ],
         "xaxis": "x",
         "y": [
          118.183
         ],
         "yaxis": "y"
        },
        {
         "hovertemplate": "isin=DE0001102499<br>Duration=%{x}<br>Bond price=%{y}<extra></extra>",
         "legendgroup": "DE0001102499",
         "marker": {
          "color": "#ab63fa",
          "symbol": "circle"
         },
         "mode": "markers",
         "name": "DE0001102499",
         "orientation": "v",
         "showlegend": true,
         "type": "scatter",
         "x": [
          5.58522
         ],
         "xaxis": "x",
         "y": [
          87.912
         ],
         "yaxis": "y"
        },
        {
         "hovertemplate": "isin=DE000BU27006<br>Duration=%{x}<br>Bond price=%{y}<extra></extra>",
         "legendgroup": "DE000BU27006",
         "marker": {
          "color": "#FFA15A",
          "symbol": "circle"
         },
         "mode": "markers",
         "name": "DE000BU27006",
         "orientation": "v",
         "showlegend": true,
         "type": "scatter",
         "x": [
          5.8619
         ],
         "xaxis": "x",
         "y": [
          100.109
         ],
         "yaxis": "y"
        },
        {
         "hovertemplate": "isin=DE0001102507<br>Duration=%{x}<br>Bond price=%{y}<extra></extra>",
         "legendgroup": "DE0001102507",
         "marker": {
          "color": "#19d3f3",
          "symbol": "circle"
         },
         "mode": "markers",
         "name": "DE0001102507",
         "orientation": "v",
         "showlegend": true,
         "type": "scatter",
         "x": [
          6.08077
         ],
         "xaxis": "x",
         "y": [
          86.9925
         ],
         "yaxis": "y"
        },
        {
         "hovertemplate": "isin=DE0001030708<br>Duration=%{x}<br>Bond price=%{y}<extra></extra>",
         "legendgroup": "DE0001030708",
         "marker": {
          "color": "#FF6692",
          "symbol": "circle"
         },
         "mode": "markers",
         "name": "DE0001030708",
         "orientation": "v",
         "showlegend": true,
         "type": "scatter",
         "x": [
          6.08077
         ],
         "xaxis": "x",
         "y": [
          87.057
         ],
         "yaxis": "y"
        },
        {
         "hovertemplate": "isin=DE0001102531<br>Duration=%{x}<br>Bond price=%{y}<extra></extra>",
         "legendgroup": "DE0001102531",
         "marker": {
          "color": "#B6E880",
          "symbol": "circle"
         },
         "mode": "markers",
         "name": "DE0001102531",
         "orientation": "v",
         "showlegend": true,
         "type": "scatter",
         "x": [
          6.58453
         ],
         "xaxis": "x",
         "y": [
          85.97
         ],
         "yaxis": "y"
        },
        {
         "hovertemplate": "isin=DE0001030732<br>Duration=%{x}<br>Bond price=%{y}<extra></extra>",
         "legendgroup": "DE0001030732",
         "marker": {
          "color": "#FF97FF",
          "symbol": "circle"
         },
         "mode": "markers",
         "name": "DE0001030732",
         "orientation": "v",
         "showlegend": true,
         "type": "scatter",
         "x": [
          7.08008
         ],
         "xaxis": "x",
         "y": [
          85.047
         ],
         "yaxis": "y"
        },
        {
         "hovertemplate": "isin=DE0001102564<br>Duration=%{x}<br>Bond price=%{y}<extra></extra>",
         "legendgroup": "DE0001102564",
         "marker": {
          "color": "#FECB52",
          "symbol": "circle"
         },
         "mode": "markers",
         "name": "DE0001102564",
         "orientation": "v",
         "showlegend": true,
         "type": "scatter",
         "x": [
          7.08008
         ],
         "xaxis": "x",
         "y": [
          85.108
         ],
         "yaxis": "y"
        },
        {
         "hovertemplate": "isin=DE0001102606<br>Duration=%{x}<br>Bond price=%{y}<extra></extra>",
         "legendgroup": "DE0001102606",
         "marker": {
          "color": "#636efa",
          "symbol": "circle"
         },
         "mode": "markers",
         "name": "DE0001102606",
         "orientation": "v",
         "showlegend": true,
         "type": "scatter",
         "x": [
          7.48437
         ],
         "xaxis": "x",
         "y": [
          95.4
         ],
         "yaxis": "y"
        },
        {
         "hovertemplate": "isin=DE0001102580<br>Duration=%{x}<br>Bond price=%{y}<extra></extra>",
         "legendgroup": "DE0001102580",
         "marker": {
          "color": "#EF553B",
          "symbol": "circle"
         },
         "mode": "markers",
         "name": "DE0001102580",
         "orientation": "v",
         "showlegend": true,
         "type": "scatter",
         "x": [
          7.58385
         ],
         "xaxis": "x",
         "y": [
          84.011
         ],
         "yaxis": "y"
        },
        {
         "hovertemplate": "isin=DE000BU2Z007<br>Duration=%{x}<br>Bond price=%{y}<extra></extra>",
         "legendgroup": "DE000BU2Z007",
         "marker": {
          "color": "#00cc96",
          "symbol": "circle"
         },
         "mode": "markers",
         "name": "DE000BU2Z007",
         "orientation": "v",
         "showlegend": true,
         "type": "scatter",
         "x": [
          7.81495
         ],
         "xaxis": "x",
         "y": [
          99.4804
         ],
         "yaxis": "y"
        },
        {
         "hovertemplate": "isin=DE000BU3Z005<br>Duration=%{x}<br>Bond price=%{y}<extra></extra>",
         "legendgroup": "DE000BU3Z005",
         "marker": {
          "color": "#ab63fa",
          "symbol": "circle"
         },
         "mode": "markers",
         "name": "DE000BU3Z005",
         "orientation": "v",
         "showlegend": true,
         "type": "scatter",
         "x": [
          7.81551
         ],
         "xaxis": "x",
         "y": [
          99.594
         ],
         "yaxis": "y"
        },
        {
         "hovertemplate": "isin=DE000BU2Z015<br>Duration=%{x}<br>Bond price=%{y}<extra></extra>",
         "legendgroup": "DE000BU2Z015",
         "marker": {
          "color": "#FFA15A",
          "symbol": "circle"
         },
         "mode": "markers",
         "name": "DE000BU2Z015",
         "orientation": "v",
         "showlegend": true,
         "type": "scatter",
         "x": [
          8.02866
         ],
         "xaxis": "x",
         "y": [
          101.783
         ],
         "yaxis": "y"
        },
        {
         "hovertemplate": "isin=DE0001135226<br>Duration=%{x}<br>Bond price=%{y}<extra></extra>",
         "legendgroup": "DE0001135226",
         "marker": {
          "color": "#19d3f3",
          "symbol": "circle"
         },
         "mode": "markers",
         "name": "DE0001135226",
         "orientation": "v",
         "showlegend": true,
         "type": "scatter",
         "x": [
          8.33824
         ],
         "xaxis": "x",
         "y": [
          120.399
         ],
         "yaxis": "y"
        },
        {
         "hovertemplate": "isin=DE000BU2Z023<br>Duration=%{x}<br>Bond price=%{y}<extra></extra>",
         "legendgroup": "DE000BU2Z023",
         "marker": {
          "color": "#FF6692",
          "symbol": "circle"
         },
         "mode": "markers",
         "name": "DE000BU2Z023",
         "orientation": "v",
         "showlegend": true,
         "type": "scatter",
         "x": [
          8.66091
         ],
         "xaxis": "x",
         "y": [
          98.221
         ],
         "yaxis": "y"
        },
        {
         "hovertemplate": "isin=DE000BU2Z031<br>Duration=%{x}<br>Bond price=%{y}<extra></extra>",
         "legendgroup": "DE000BU2Z031",
         "marker": {
          "color": "#B6E880",
          "symbol": "circle"
         },
         "mode": "markers",
         "name": "DE000BU2Z031",
         "orientation": "v",
         "showlegend": true,
         "type": "scatter",
         "x": [
          9.0257
         ],
         "xaxis": "x",
         "y": [
          101.5325
         ],
         "yaxis": "y"
        },
        {
         "hovertemplate": "isin=DE0001135275<br>Duration=%{x}<br>Bond price=%{y}<extra></extra>",
         "legendgroup": "DE0001135275",
         "marker": {
          "color": "#FF97FF",
          "symbol": "circle"
         },
         "mode": "markers",
         "name": "DE0001135275",
         "orientation": "v",
         "showlegend": true,
         "type": "scatter",
         "x": [
          10.07231
         ],
         "xaxis": "x",
         "y": [
          115.477
         ],
         "yaxis": "y"
        },
        {
         "hovertemplate": "isin=DE0001102515<br>Duration=%{x}<br>Bond price=%{y}<extra></extra>",
         "legendgroup": "DE0001102515",
         "marker": {
          "color": "#FECB52",
          "symbol": "circle"
         },
         "mode": "markers",
         "name": "DE0001102515",
         "orientation": "v",
         "showlegend": true,
         "type": "scatter",
         "x": [
          10.82821
         ],
         "xaxis": "x",
         "y": [
          76.88
         ],
         "yaxis": "y"
        },
        {
         "hovertemplate": "isin=DE0001135325<br>Duration=%{x}<br>Bond price=%{y}<extra></extra>",
         "legendgroup": "DE0001135325",
         "marker": {
          "color": "#636efa",
          "symbol": "circle"
         },
         "mode": "markers",
         "name": "DE0001135325",
         "orientation": "v",
         "showlegend": true,
         "type": "scatter",
         "x": [
          11.71784
         ],
         "xaxis": "x",
         "y": [
          120.234
         ],
         "yaxis": "y"
        },
        {
         "hovertemplate": "isin=DE0001102549<br>Duration=%{x}<br>Bond price=%{y}<extra></extra>",
         "legendgroup": "DE0001102549",
         "marker": {
          "color": "#EF553B",
          "symbol": "circle"
         },
         "mode": "markers",
         "name": "DE0001102549",
         "orientation": "v",
         "showlegend": true,
         "type": "scatter",
         "x": [
          11.83025
         ],
         "xaxis": "x",
         "y": [
          74.6469
         ],
         "yaxis": "y"
        },
        {
         "hovertemplate": "isin=DE0001135366<br>Duration=%{x}<br>Bond price=%{y}<extra></extra>",
         "legendgroup": "DE0001135366",
         "marker": {
          "color": "#00cc96",
          "symbol": "circle"
         },
         "mode": "markers",
         "name": "DE0001135366",
         "orientation": "v",
         "showlegend": true,
         "type": "scatter",
         "x": [
          12.09292
         ],
         "xaxis": "x",
         "y": [
          127.664
         ],
         "yaxis": "y"
        },
        {
         "hovertemplate": "isin=DE0001102598<br>Duration=%{x}<br>Bond price=%{y}<extra></extra>",
         "legendgroup": "DE0001102598",
         "marker": {
          "color": "#ab63fa",
          "symbol": "circle"
         },
         "mode": "markers",
         "name": "DE0001102598",
         "orientation": "v",
         "showlegend": true,
         "type": "scatter",
         "x": [
          12.84314
         ],
         "xaxis": "x",
         "y": [
          81.665
         ],
         "yaxis": "y"
        },
        {
         "hovertemplate": "isin=DE000BU2F009<br>Duration=%{x}<br>Bond price=%{y}<extra></extra>",
         "legendgroup": "DE000BU2F009",
         "marker": {
          "color": "#FFA15A",
          "symbol": "circle"
         },
         "mode": "markers",
         "name": "DE000BU2F009",
         "orientation": "v",
         "showlegend": true,
         "type": "scatter",
         "x": [
          13.77505
         ],
         "xaxis": "x",
         "y": [
          99.305
         ],
         "yaxis": "y"
        },
        {
         "hovertemplate": "isin=DE0001135432<br>Duration=%{x}<br>Bond price=%{y}<extra></extra>",
         "legendgroup": "DE0001135432",
         "marker": {
          "color": "#19d3f3",
          "symbol": "circle"
         },
         "mode": "markers",
         "name": "DE0001135432",
         "orientation": "v",
         "showlegend": true,
         "type": "scatter",
         "x": [
          14.06554
         ],
         "xaxis": "x",
         "y": [
          108.7252
         ],
         "yaxis": "y"
        },
        {
         "hovertemplate": "isin=DE0001135481<br>Duration=%{x}<br>Bond price=%{y}<extra></extra>",
         "legendgroup": "DE0001135481",
         "marker": {
          "color": "#FF6692",
          "symbol": "circle"
         },
         "mode": "markers",
         "name": "DE0001135481",
         "orientation": "v",
         "showlegend": true,
         "type": "scatter",
         "x": [
          15.88885
         ],
         "xaxis": "x",
         "y": [
          97.67
         ],
         "yaxis": "y"
        },
        {
         "hovertemplate": "isin=DE0001102341<br>Duration=%{x}<br>Bond price=%{y}<extra></extra>",
         "legendgroup": "DE0001102341",
         "marker": {
          "color": "#B6E880",
          "symbol": "circle"
         },
         "mode": "markers",
         "name": "DE0001102341",
         "orientation": "v",
         "showlegend": true,
         "type": "scatter",
         "x": [
          16.76985
         ],
         "xaxis": "x",
         "y": [
          97.627
         ],
         "yaxis": "y"
        },
        {
         "hovertemplate": "isin=DE0001102432<br>Duration=%{x}<br>Bond price=%{y}<extra></extra>",
         "legendgroup": "DE0001102432",
         "marker": {
          "color": "#FF97FF",
          "symbol": "circle"
         },
         "mode": "markers",
         "name": "DE0001102432",
         "orientation": "v",
         "showlegend": true,
         "type": "scatter",
         "x": [
          20.05054
         ],
         "xaxis": "x",
         "y": [
          75.834
         ],
         "yaxis": "y"
        },
        {
         "hovertemplate": "isin=DE000BU2D004<br>Duration=%{x}<br>Bond price=%{y}<extra></extra>",
         "legendgroup": "DE000BU2D004",
         "marker": {
          "color": "#FECB52",
          "symbol": "circle"
         },
         "mode": "markers",
         "name": "DE000BU2D004",
         "orientation": "v",
         "showlegend": true,
         "type": "scatter",
         "x": [
          21.47382
         ],
         "xaxis": "x",
         "y": [
          97.455
         ],
         "yaxis": "y"
        },
        {
         "hovertemplate": "isin=DE0001102614<br>Duration=%{x}<br>Bond price=%{y}<extra></extra>",
         "legendgroup": "DE0001102614",
         "marker": {
          "color": "#636efa",
          "symbol": "circle"
         },
         "mode": "markers",
         "name": "DE0001102614",
         "orientation": "v",
         "showlegend": true,
         "type": "scatter",
         "x": [
          21.76527
         ],
         "xaxis": "x",
         "y": [
          83.62
         ],
         "yaxis": "y"
        },
        {
         "hovertemplate": "isin=DE0001030757<br>Duration=%{x}<br>Bond price=%{y}<extra></extra>",
         "legendgroup": "DE0001030757",
         "marker": {
          "color": "#EF553B",
          "symbol": "circle"
         },
         "mode": "markers",
         "name": "DE0001030757",
         "orientation": "v",
         "showlegend": true,
         "type": "scatter",
         "x": [
          21.77209
         ],
         "xaxis": "x",
         "y": [
          83.748
         ],
         "yaxis": "y"
        },
        {
         "hovertemplate": "isin=DE0001102481<br>Duration=%{x}<br>Bond price=%{y}<extra></extra>",
         "legendgroup": "DE0001102481",
         "marker": {
          "color": "#00cc96",
          "symbol": "circle"
         },
         "mode": "markers",
         "name": "DE0001102481",
         "orientation": "v",
         "showlegend": true,
         "type": "scatter",
         "x": [
          26.08074
         ],
         "xaxis": "x",
         "y": [
          51.422
         ],
         "yaxis": "y"
        },
        {
         "hovertemplate": "isin=DE0001030724<br>Duration=%{x}<br>Bond price=%{y}<extra></extra>",
         "legendgroup": "DE0001030724",
         "marker": {
          "color": "#ab63fa",
          "symbol": "circle"
         },
         "mode": "markers",
         "name": "DE0001030724",
         "orientation": "v",
         "showlegend": true,
         "type": "scatter",
         "x": [
          26.08076
         ],
         "xaxis": "x",
         "y": [
          51.609
         ],
         "yaxis": "y"
        },
        {
         "hovertemplate": "isin=DE0001102572<br>Duration=%{x}<br>Bond price=%{y}<extra></extra>",
         "legendgroup": "DE0001102572",
         "marker": {
          "color": "#FFA15A",
          "symbol": "circle"
         },
         "mode": "markers",
         "name": "DE0001102572",
         "orientation": "v",
         "showlegend": true,
         "type": "scatter",
         "x": [
          28.08212
         ],
         "xaxis": "x",
         "y": [
          49.123
         ],
         "yaxis": "y"
        },
        {
         "marker": {
          "color": "red",
          "size": 12
         },
         "mode": "markers",
         "name": "Italian Bonds",
         "type": "scatter",
         "x": [
          0.04107,
          0.06023,
          0.06571,
          0.0794,
          0.08214,
          0.12868,
          0.12868,
          0.16153,
          0.20808,
          0.23272,
          0.24093,
          0.24641,
          0.3039,
          0.33128,
          0.33402,
          0.37235,
          0.37782,
          0.41068,
          0.41615,
          0.49829,
          0.5065,
          0.54668,
          0.58316,
          0.60233,
          0.61223,
          0.64613,
          0.65982,
          0.68987,
          0.74196,
          0.7447,
          0.81314,
          0.82597,
          0.82683,
          0.87237,
          0.90897,
          0.95368,
          0.99384,
          1.0724,
          1.09514,
          1.09514,
          1.1783,
          1.22656,
          1.24298,
          1.31476,
          1.3622,
          1.46201,
          1.47471,
          1.48909,
          1.53917,
          1.55966,
          1.56879,
          1.57402,
          1.64545,
          1.692,
          1.70842,
          1.74127,
          1.80698,
          1.85139,
          1.96471,
          2.04244,
          2.06434,
          2.07388,
          2.09172,
          2.13434,
          2.14921,
          2.2423,
          2.29432,
          2.34479,
          2.4773,
          2.47788,
          2.5681,
          2.64476,
          2.66563,
          2.77019,
          2.78423,
          2.79326,
          2.80356,
          2.87192,
          2.93504,
          2.99916,
          3.06365,
          3.11347,
          3.14032,
          3.24035,
          3.24162,
          3.29363,
          3.40613,
          3.48497,
          3.54707,
          3.55486,
          3.64408,
          3.64456,
          3.64682,
          3.68515,
          3.70306,
          3.72801,
          3.7479,
          3.89049,
          3.96028,
          3.96167,
          4.0575,
          4.12931,
          4.13142,
          4.13513,
          4.23272,
          4.53126,
          4.5461,
          4.56947,
          4.58042,
          4.60512,
          4.61171,
          4.63792,
          4.65242,
          4.68007,
          4.6872,
          4.73101,
          4.73402,
          4.85893,
          4.93313,
          4.97741,
          5.05681,
          5.09273,
          5.14168,
          5.23203,
          5.29774,
          5.35662,
          5.47675,
          5.6345,
          5.63615,
          5.64545,
          5.71103,
          5.84363,
          5.8566,
          6.046,
          6.05613,
          6.141,
          6.15743,
          6.23135,
          6.27522,
          6.36436,
          6.39288,
          6.40657,
          6.48541,
          6.63655,
          6.7856,
          6.78987,
          6.85797,
          6.86548,
          6.97878,
          7.1038,
          7.11189,
          7.13642,
          7.15674,
          7.18518,
          7.22519,
          7.23066,
          7.3748,
          7.54979,
          7.56335,
          7.73109,
          7.73169,
          7.74812,
          7.8305,
          7.84507,
          7.93854,
          7.97604,
          8.0575,
          8.09086,
          8.10368,
          8.22724,
          8.23272,
          8.36565,
          8.63792,
          8.73101,
          8.82542,
          8.87864,
          8.98015,
          9.18823,
          9.23203,
          9.69199,
          9.73032,
          9.84177,
          9.9822,
          10.141,
          10.23135,
          10.30527,
          10.34915,
          10.42652,
          10.51824,
          10.72142,
          10.7755,
          10.85939,
          10.97878,
          11.14031,
          11.22245,
          11.32444,
          11.34142,
          11.34966,
          11.42506,
          11.47433,
          11.69914,
          11.72347,
          11.9781,
          12.13033,
          12.2245,
          12.47638,
          12.72279,
          12.85421,
          12.98015,
          12.99465,
          13.2571,
          13.27309,
          13.77687,
          13.84345,
          13.9691,
          13.9822,
          14.45625,
          14.47502,
          14.76522,
          14.77619,
          14.9079,
          14.98152,
          15.24149,
          15.32649,
          15.48528,
          15.65624,
          15.82826,
          16.06492,
          16.29569,
          16.56776,
          16.94502,
          17.48665,
          17.88251,
          19.20587,
          19.7974,
          19.82898,
          20.70364,
          21.76593,
          21.91941,
          22.26696,
          24.2546,
          24.5128,
          27.64684,
          29.77139
         ],
         "y": [
          99.872,
          100.02,
          99.781,
          99.732,
          99.743,
          100.029,
          99.636,
          99.483,
          99.312,
          99.186,
          99.23,
          99.166,
          99.031,
          98.852,
          99.336,
          98.707,
          99.663,
          98.602,
          98.63,
          98.319,
          98.129702,
          98.421,
          98.018,
          97.738,
          100.949,
          97.626,
          97.771,
          99.994,
          97.35,
          97.53,
          97.101,
          98.531,
          97.289,
          98.491,
          97.01,
          98.672,
          96.755,
          97.82,
          96.232,
          96.163,
          100.361,
          95.597,
          95.705,
          99.161,
          98.499,
          95.02663,
          100.47,
          99.999,
          96.069,
          102.109,
          94.727,
          94.26,
          94.647,
          101.139,
          94.898,
          94.096,
          93.991,
          97.359,
          98.169,
          93.981,
          93.238,
          101.598,
          93.6703256,
          109.209,
          92.946,
          92.534,
          93.35,
          95.979,
          99.718,
          94.789,
          91.682,
          91.501,
          95,
          94.598,
          96.2,
          97.739,
          91.099,
          101.028,
          97.121,
          110.731,
          90.147,
          93.759,
          90.059,
          98.691,
          89.39,
          90.75,
          96.469,
          101.09,
          93.5745,
          102.19,
          87.755,
          90.31,
          88.317,
          87.78236,
          93.22,
          102.589,
          106.28,
          86.93,
          90.389,
          88.283437,
          87.381,
          103.921,
          88.73,
          98.791,
          86.29,
          88.631,
          91.7,
          85.412,
          85.8,
          100.659,
          98.269,
          85.252,
          99.209,
          110.011,
          84.11368,
          84.683,
          92.11,
          90.8,
          102.961,
          84.4,
          84.142,
          101.439,
          83.657,
          83.061,
          84.22,
          102.089,
          90.167,
          83.38,
          103.727,
          81.276,
          116.1,
          87.23,
          100.743,
          90.409,
          80.665,
          80.253,
          80.845932,
          79.587,
          100.21,
          104,
          78.53,
          79.322,
          85.39,
          78.64,
          84.9605,
          80.08,
          116.072,
          82.78,
          78.074,
          84.181,
          88.339,
          87.4095,
          76.972,
          101.82,
          75.558,
          76.338,
          106.401,
          92.855,
          82.951,
          105.781,
          74.699,
          74.925,
          84.2765,
          112,
          104.499,
          111.141,
          73.742,
          97.444,
          91.55,
          72.237,
          72.935,
          101.399,
          71.765,
          71.043,
          102.64,
          96.731,
          71.02244508,
          70.006,
          69.374,
          68.27,
          67.318,
          102.03,
          68.74,
          66.59,
          65.769,
          70.45,
          101.7,
          85.129,
          78.32,
          64.848,
          111,
          92.889,
          63.92779144,
          63.223,
          63.476,
          101.38,
          89.421,
          111.131,
          58.45,
          62.25184748,
          71.45,
          62.135,
          60.97039629,
          89.53,
          60.629,
          59.44643547,
          59.341,
          60.35,
          58.68162531,
          103.89,
          108.26,
          57.36,
          55.49,
          73.23,
          112.75,
          56.63,
          75.8,
          53.36447,
          52.261,
          52.71,
          72.78,
          53.75,
          87.5,
          54.800000000000004,
          52.18,
          89.68,
          94.99,
          79.47,
          45.45,
          103.85,
          64.43,
          48.48,
          73.23,
          67.35,
          37.3,
          61.77,
          42.1302092,
          37.798,
          74.37,
          37.205,
          33.6,
          61.77,
          29.677,
          24.05
         ]
        }
       ],
       "layout": {
        "legend": {
         "title": {
          "text": "isin"
         },
         "tracegroupgap": 0
        },
        "template": {
         "data": {
          "bar": [
           {
            "error_x": {
             "color": "#2a3f5f"
            },
            "error_y": {
             "color": "#2a3f5f"
            },
            "marker": {
             "line": {
              "color": "#E5ECF6",
              "width": 0.5
             },
             "pattern": {
              "fillmode": "overlay",
              "size": 10,
              "solidity": 0.2
             }
            },
            "type": "bar"
           }
          ],
          "barpolar": [
           {
            "marker": {
             "line": {
              "color": "#E5ECF6",
              "width": 0.5
             },
             "pattern": {
              "fillmode": "overlay",
              "size": 10,
              "solidity": 0.2
             }
            },
            "type": "barpolar"
           }
          ],
          "carpet": [
           {
            "aaxis": {
             "endlinecolor": "#2a3f5f",
             "gridcolor": "white",
             "linecolor": "white",
             "minorgridcolor": "white",
             "startlinecolor": "#2a3f5f"
            },
            "baxis": {
             "endlinecolor": "#2a3f5f",
             "gridcolor": "white",
             "linecolor": "white",
             "minorgridcolor": "white",
             "startlinecolor": "#2a3f5f"
            },
            "type": "carpet"
           }
          ],
          "choropleth": [
           {
            "colorbar": {
             "outlinewidth": 0,
             "ticks": ""
            },
            "type": "choropleth"
           }
          ],
          "contour": [
           {
            "colorbar": {
             "outlinewidth": 0,
             "ticks": ""
            },
            "colorscale": [
             [
              0,
              "#0d0887"
             ],
             [
              0.1111111111111111,
              "#46039f"
             ],
             [
              0.2222222222222222,
              "#7201a8"
             ],
             [
              0.3333333333333333,
              "#9c179e"
             ],
             [
              0.4444444444444444,
              "#bd3786"
             ],
             [
              0.5555555555555556,
              "#d8576b"
             ],
             [
              0.6666666666666666,
              "#ed7953"
             ],
             [
              0.7777777777777778,
              "#fb9f3a"
             ],
             [
              0.8888888888888888,
              "#fdca26"
             ],
             [
              1,
              "#f0f921"
             ]
            ],
            "type": "contour"
           }
          ],
          "contourcarpet": [
           {
            "colorbar": {
             "outlinewidth": 0,
             "ticks": ""
            },
            "type": "contourcarpet"
           }
          ],
          "heatmap": [
           {
            "colorbar": {
             "outlinewidth": 0,
             "ticks": ""
            },
            "colorscale": [
             [
              0,
              "#0d0887"
             ],
             [
              0.1111111111111111,
              "#46039f"
             ],
             [
              0.2222222222222222,
              "#7201a8"
             ],
             [
              0.3333333333333333,
              "#9c179e"
             ],
             [
              0.4444444444444444,
              "#bd3786"
             ],
             [
              0.5555555555555556,
              "#d8576b"
             ],
             [
              0.6666666666666666,
              "#ed7953"
             ],
             [
              0.7777777777777778,
              "#fb9f3a"
             ],
             [
              0.8888888888888888,
              "#fdca26"
             ],
             [
              1,
              "#f0f921"
             ]
            ],
            "type": "heatmap"
           }
          ],
          "heatmapgl": [
           {
            "colorbar": {
             "outlinewidth": 0,
             "ticks": ""
            },
            "colorscale": [
             [
              0,
              "#0d0887"
             ],
             [
              0.1111111111111111,
              "#46039f"
             ],
             [
              0.2222222222222222,
              "#7201a8"
             ],
             [
              0.3333333333333333,
              "#9c179e"
             ],
             [
              0.4444444444444444,
              "#bd3786"
             ],
             [
              0.5555555555555556,
              "#d8576b"
             ],
             [
              0.6666666666666666,
              "#ed7953"
             ],
             [
              0.7777777777777778,
              "#fb9f3a"
             ],
             [
              0.8888888888888888,
              "#fdca26"
             ],
             [
              1,
              "#f0f921"
             ]
            ],
            "type": "heatmapgl"
           }
          ],
          "histogram": [
           {
            "marker": {
             "pattern": {
              "fillmode": "overlay",
              "size": 10,
              "solidity": 0.2
             }
            },
            "type": "histogram"
           }
          ],
          "histogram2d": [
           {
            "colorbar": {
             "outlinewidth": 0,
             "ticks": ""
            },
            "colorscale": [
             [
              0,
              "#0d0887"
             ],
             [
              0.1111111111111111,
              "#46039f"
             ],
             [
              0.2222222222222222,
              "#7201a8"
             ],
             [
              0.3333333333333333,
              "#9c179e"
             ],
             [
              0.4444444444444444,
              "#bd3786"
             ],
             [
              0.5555555555555556,
              "#d8576b"
             ],
             [
              0.6666666666666666,
              "#ed7953"
             ],
             [
              0.7777777777777778,
              "#fb9f3a"
             ],
             [
              0.8888888888888888,
              "#fdca26"
             ],
             [
              1,
              "#f0f921"
             ]
            ],
            "type": "histogram2d"
           }
          ],
          "histogram2dcontour": [
           {
            "colorbar": {
             "outlinewidth": 0,
             "ticks": ""
            },
            "colorscale": [
             [
              0,
              "#0d0887"
             ],
             [
              0.1111111111111111,
              "#46039f"
             ],
             [
              0.2222222222222222,
              "#7201a8"
             ],
             [
              0.3333333333333333,
              "#9c179e"
             ],
             [
              0.4444444444444444,
              "#bd3786"
             ],
             [
              0.5555555555555556,
              "#d8576b"
             ],
             [
              0.6666666666666666,
              "#ed7953"
             ],
             [
              0.7777777777777778,
              "#fb9f3a"
             ],
             [
              0.8888888888888888,
              "#fdca26"
             ],
             [
              1,
              "#f0f921"
             ]
            ],
            "type": "histogram2dcontour"
           }
          ],
          "mesh3d": [
           {
            "colorbar": {
             "outlinewidth": 0,
             "ticks": ""
            },
            "type": "mesh3d"
           }
          ],
          "parcoords": [
           {
            "line": {
             "colorbar": {
              "outlinewidth": 0,
              "ticks": ""
             }
            },
            "type": "parcoords"
           }
          ],
          "pie": [
           {
            "automargin": true,
            "type": "pie"
           }
          ],
          "scatter": [
           {
            "fillpattern": {
             "fillmode": "overlay",
             "size": 10,
             "solidity": 0.2
            },
            "type": "scatter"
           }
          ],
          "scatter3d": [
           {
            "line": {
             "colorbar": {
              "outlinewidth": 0,
              "ticks": ""
             }
            },
            "marker": {
             "colorbar": {
              "outlinewidth": 0,
              "ticks": ""
             }
            },
            "type": "scatter3d"
           }
          ],
          "scattercarpet": [
           {
            "marker": {
             "colorbar": {
              "outlinewidth": 0,
              "ticks": ""
             }
            },
            "type": "scattercarpet"
           }
          ],
          "scattergeo": [
           {
            "marker": {
             "colorbar": {
              "outlinewidth": 0,
              "ticks": ""
             }
            },
            "type": "scattergeo"
           }
          ],
          "scattergl": [
           {
            "marker": {
             "colorbar": {
              "outlinewidth": 0,
              "ticks": ""
             }
            },
            "type": "scattergl"
           }
          ],
          "scattermapbox": [
           {
            "marker": {
             "colorbar": {
              "outlinewidth": 0,
              "ticks": ""
             }
            },
            "type": "scattermapbox"
           }
          ],
          "scatterpolar": [
           {
            "marker": {
             "colorbar": {
              "outlinewidth": 0,
              "ticks": ""
             }
            },
            "type": "scatterpolar"
           }
          ],
          "scatterpolargl": [
           {
            "marker": {
             "colorbar": {
              "outlinewidth": 0,
              "ticks": ""
             }
            },
            "type": "scatterpolargl"
           }
          ],
          "scatterternary": [
           {
            "marker": {
             "colorbar": {
              "outlinewidth": 0,
              "ticks": ""
             }
            },
            "type": "scatterternary"
           }
          ],
          "surface": [
           {
            "colorbar": {
             "outlinewidth": 0,
             "ticks": ""
            },
            "colorscale": [
             [
              0,
              "#0d0887"
             ],
             [
              0.1111111111111111,
              "#46039f"
             ],
             [
              0.2222222222222222,
              "#7201a8"
             ],
             [
              0.3333333333333333,
              "#9c179e"
             ],
             [
              0.4444444444444444,
              "#bd3786"
             ],
             [
              0.5555555555555556,
              "#d8576b"
             ],
             [
              0.6666666666666666,
              "#ed7953"
             ],
             [
              0.7777777777777778,
              "#fb9f3a"
             ],
             [
              0.8888888888888888,
              "#fdca26"
             ],
             [
              1,
              "#f0f921"
             ]
            ],
            "type": "surface"
           }
          ],
          "table": [
           {
            "cells": {
             "fill": {
              "color": "#EBF0F8"
             },
             "line": {
              "color": "white"
             }
            },
            "header": {
             "fill": {
              "color": "#C8D4E3"
             },
             "line": {
              "color": "white"
             }
            },
            "type": "table"
           }
          ]
         },
         "layout": {
          "annotationdefaults": {
           "arrowcolor": "#2a3f5f",
           "arrowhead": 0,
           "arrowwidth": 1
          },
          "autotypenumbers": "strict",
          "coloraxis": {
           "colorbar": {
            "outlinewidth": 0,
            "ticks": ""
           }
          },
          "colorscale": {
           "diverging": [
            [
             0,
             "#8e0152"
            ],
            [
             0.1,
             "#c51b7d"
            ],
            [
             0.2,
             "#de77ae"
            ],
            [
             0.3,
             "#f1b6da"
            ],
            [
             0.4,
             "#fde0ef"
            ],
            [
             0.5,
             "#f7f7f7"
            ],
            [
             0.6,
             "#e6f5d0"
            ],
            [
             0.7,
             "#b8e186"
            ],
            [
             0.8,
             "#7fbc41"
            ],
            [
             0.9,
             "#4d9221"
            ],
            [
             1,
             "#276419"
            ]
           ],
           "sequential": [
            [
             0,
             "#0d0887"
            ],
            [
             0.1111111111111111,
             "#46039f"
            ],
            [
             0.2222222222222222,
             "#7201a8"
            ],
            [
             0.3333333333333333,
             "#9c179e"
            ],
            [
             0.4444444444444444,
             "#bd3786"
            ],
            [
             0.5555555555555556,
             "#d8576b"
            ],
            [
             0.6666666666666666,
             "#ed7953"
            ],
            [
             0.7777777777777778,
             "#fb9f3a"
            ],
            [
             0.8888888888888888,
             "#fdca26"
            ],
            [
             1,
             "#f0f921"
            ]
           ],
           "sequentialminus": [
            [
             0,
             "#0d0887"
            ],
            [
             0.1111111111111111,
             "#46039f"
            ],
            [
             0.2222222222222222,
             "#7201a8"
            ],
            [
             0.3333333333333333,
             "#9c179e"
            ],
            [
             0.4444444444444444,
             "#bd3786"
            ],
            [
             0.5555555555555556,
             "#d8576b"
            ],
            [
             0.6666666666666666,
             "#ed7953"
            ],
            [
             0.7777777777777778,
             "#fb9f3a"
            ],
            [
             0.8888888888888888,
             "#fdca26"
            ],
            [
             1,
             "#f0f921"
            ]
           ]
          },
          "colorway": [
           "#636efa",
           "#EF553B",
           "#00cc96",
           "#ab63fa",
           "#FFA15A",
           "#19d3f3",
           "#FF6692",
           "#B6E880",
           "#FF97FF",
           "#FECB52"
          ],
          "font": {
           "color": "#2a3f5f"
          },
          "geo": {
           "bgcolor": "white",
           "lakecolor": "white",
           "landcolor": "#E5ECF6",
           "showlakes": true,
           "showland": true,
           "subunitcolor": "white"
          },
          "hoverlabel": {
           "align": "left"
          },
          "hovermode": "closest",
          "mapbox": {
           "style": "light"
          },
          "paper_bgcolor": "white",
          "plot_bgcolor": "#E5ECF6",
          "polar": {
           "angularaxis": {
            "gridcolor": "white",
            "linecolor": "white",
            "ticks": ""
           },
           "bgcolor": "#E5ECF6",
           "radialaxis": {
            "gridcolor": "white",
            "linecolor": "white",
            "ticks": ""
           }
          },
          "scene": {
           "xaxis": {
            "backgroundcolor": "#E5ECF6",
            "gridcolor": "white",
            "gridwidth": 2,
            "linecolor": "white",
            "showbackground": true,
            "ticks": "",
            "zerolinecolor": "white"
           },
           "yaxis": {
            "backgroundcolor": "#E5ECF6",
            "gridcolor": "white",
            "gridwidth": 2,
            "linecolor": "white",
            "showbackground": true,
            "ticks": "",
            "zerolinecolor": "white"
           },
           "zaxis": {
            "backgroundcolor": "#E5ECF6",
            "gridcolor": "white",
            "gridwidth": 2,
            "linecolor": "white",
            "showbackground": true,
            "ticks": "",
            "zerolinecolor": "white"
           }
          },
          "shapedefaults": {
           "line": {
            "color": "#2a3f5f"
           }
          },
          "ternary": {
           "aaxis": {
            "gridcolor": "white",
            "linecolor": "white",
            "ticks": ""
           },
           "baxis": {
            "gridcolor": "white",
            "linecolor": "white",
            "ticks": ""
           },
           "bgcolor": "#E5ECF6",
           "caxis": {
            "gridcolor": "white",
            "linecolor": "white",
            "ticks": ""
           }
          },
          "title": {
           "x": 0.05
          },
          "xaxis": {
           "automargin": true,
           "gridcolor": "white",
           "linecolor": "white",
           "ticks": "",
           "title": {
            "standoff": 15
           },
           "zerolinecolor": "white",
           "zerolinewidth": 2
          },
          "yaxis": {
           "automargin": true,
           "gridcolor": "white",
           "linecolor": "white",
           "ticks": "",
           "title": {
            "standoff": 15
           },
           "zerolinecolor": "white",
           "zerolinewidth": 2
          }
         }
        },
        "title": {
         "text": "Price Comparison for German and Italian Bonds"
        },
        "xaxis": {
         "anchor": "y",
         "domain": [
          0,
          1
         ],
         "title": {
          "text": "Duration"
         }
        },
        "yaxis": {
         "anchor": "x",
         "domain": [
          0,
          1
         ],
         "title": {
          "text": "Bond price"
         }
        }
       }
      },
      "text/html": [
       "<div>                            <div id=\"798d25ee-27af-44ce-b35e-69d1c65674ee\" class=\"plotly-graph-div\" style=\"height:525px; width:100%;\"></div>            <script type=\"text/javascript\">                require([\"plotly\"], function(Plotly) {                    window.PLOTLYENV=window.PLOTLYENV || {};                                    if (document.getElementById(\"798d25ee-27af-44ce-b35e-69d1c65674ee\")) {                    Plotly.newPlot(                        \"798d25ee-27af-44ce-b35e-69d1c65674ee\",                        [{\"hovertemplate\":\"isin=DE000BU0E071\\u003cbr\\u003eDuration=%{x}\\u003cbr\\u003eBond price=%{y}\\u003cextra\\u003e\\u003c\\u002fextra\\u003e\",\"legendgroup\":\"DE000BU0E071\",\"marker\":{\"color\":\"#636efa\",\"symbol\":\"circle\"},\"mode\":\"markers\",\"name\":\"DE000BU0E071\",\"orientation\":\"v\",\"showlegend\":true,\"x\":[0.01369],\"xaxis\":\"x\",\"y\":[99.99061],\"yaxis\":\"y\",\"type\":\"scatter\"},{\"hovertemplate\":\"isin=DE0001102366\\u003cbr\\u003eDuration=%{x}\\u003cbr\\u003eBond price=%{y}\\u003cextra\\u003e\\u003c\\u002fextra\\u003e\",\"legendgroup\":\"DE0001102366\",\"marker\":{\"color\":\"#EF553B\",\"symbol\":\"circle\"},\"mode\":\"markers\",\"name\":\"DE0001102366\",\"orientation\":\"v\",\"showlegend\":true,\"x\":[0.08214],\"xaxis\":\"x\",\"y\":[99.79],\"yaxis\":\"y\",\"type\":\"scatter\"},{\"hovertemplate\":\"isin=DE000BU0E089\\u003cbr\\u003eDuration=%{x}\\u003cbr\\u003eBond price=%{y}\\u003cextra\\u003e\\u003c\\u002fextra\\u003e\",\"legendgroup\":\"DE000BU0E089\",\"marker\":{\"color\":\"#00cc96\",\"symbol\":\"circle\"},\"mode\":\"markers\",\"name\":\"DE000BU0E089\",\"orientation\":\"v\",\"showlegend\":true,\"x\":[0.1013],\"xaxis\":\"x\",\"y\":[99.672],\"yaxis\":\"y\",\"type\":\"scatter\"},{\"hovertemplate\":\"isin=DE0001104891\\u003cbr\\u003eDuration=%{x}\\u003cbr\\u003eBond price=%{y}\\u003cextra\\u003e\\u003c\\u002fextra\\u003e\",\"legendgroup\":\"DE0001104891\",\"marker\":{\"color\":\"#ab63fa\",\"symbol\":\"circle\"},\"mode\":\"markers\",\"name\":\"DE0001104891\",\"orientation\":\"v\",\"showlegend\":true,\"x\":[0.16153],\"xaxis\":\"x\",\"y\":[99.535],\"yaxis\":\"y\",\"type\":\"scatter\"},{\"hovertemplate\":\"isin=DE000BU0E097\\u003cbr\\u003eDuration=%{x}\\u003cbr\\u003eBond price=%{y}\\u003cextra\\u003e\\u003c\\u002fextra\\u003e\",\"legendgroup\":\"DE000BU0E097\",\"marker\":{\"color\":\"#FFA15A\",\"symbol\":\"circle\"},\"mode\":\"markers\",\"name\":\"DE000BU0E097\",\"orientation\":\"v\",\"showlegend\":true,\"x\":[0.17522],\"xaxis\":\"x\",\"y\":[99.41],\"yaxis\":\"y\",\"type\":\"scatter\"},{\"hovertemplate\":\"isin=DE000BU0E105\\u003cbr\\u003eDuration=%{x}\\u003cbr\\u003eBond price=%{y}\\u003cextra\\u003e\\u003c\\u002fextra\\u003e\",\"legendgroup\":\"DE000BU0E105\",\"marker\":{\"color\":\"#19d3f3\",\"symbol\":\"circle\"},\"mode\":\"markers\",\"name\":\"DE000BU0E105\",\"orientation\":\"v\",\"showlegend\":true,\"x\":[0.25188],\"xaxis\":\"x\",\"y\":[99.164],\"yaxis\":\"y\",\"type\":\"scatter\"},{\"hovertemplate\":\"isin=DE0001141802\\u003cbr\\u003eDuration=%{x}\\u003cbr\\u003eBond price=%{y}\\u003cextra\\u003e\\u003c\\u002fextra\\u003e\",\"legendgroup\":\"DE0001141802\",\"marker\":{\"color\":\"#FF6692\",\"symbol\":\"circle\"},\"mode\":\"markers\",\"name\":\"DE0001141802\",\"orientation\":\"v\",\"showlegend\":true,\"x\":[0.25736],\"xaxis\":\"x\",\"y\":[99.17],\"yaxis\":\"y\",\"type\":\"scatter\"},{\"hovertemplate\":\"isin=DE000BU0E113\\u003cbr\\u003eDuration=%{x}\\u003cbr\\u003eBond price=%{y}\\u003cextra\\u003e\\u003c\\u002fextra\\u003e\",\"legendgroup\":\"DE000BU0E113\",\"marker\":{\"color\":\"#B6E880\",\"symbol\":\"circle\"},\"mode\":\"markers\",\"name\":\"DE000BU0E113\",\"orientation\":\"v\",\"showlegend\":true,\"x\":[0.34771],\"xaxis\":\"x\",\"y\":[98.84],\"yaxis\":\"y\",\"type\":\"scatter\"},{\"hovertemplate\":\"isin=DE000BU0E121\\u003cbr\\u003eDuration=%{x}\\u003cbr\\u003eBond price=%{y}\\u003cextra\\u003e\\u003c\\u002fextra\\u003e\",\"legendgroup\":\"DE000BU0E121\",\"marker\":{\"color\":\"#FF97FF\",\"symbol\":\"circle\"},\"mode\":\"markers\",\"name\":\"DE000BU0E121\",\"orientation\":\"v\",\"showlegend\":true,\"x\":[0.4052],\"xaxis\":\"x\",\"y\":[98.65565],\"yaxis\":\"y\",\"type\":\"scatter\"},{\"hovertemplate\":\"isin=DE0001104909\\u003cbr\\u003eDuration=%{x}\\u003cbr\\u003eBond price=%{y}\\u003cextra\\u003e\\u003c\\u002fextra\\u003e\",\"legendgroup\":\"DE0001104909\",\"marker\":{\"color\":\"#FECB52\",\"symbol\":\"circle\"},\"mode\":\"markers\",\"name\":\"DE0001104909\",\"orientation\":\"v\",\"showlegend\":true,\"x\":[0.40794],\"xaxis\":\"x\",\"y\":[99.583],\"yaxis\":\"y\",\"type\":\"scatter\"},{\"hovertemplate\":\"isin=DE000BU0E139\\u003cbr\\u003eDuration=%{x}\\u003cbr\\u003eBond price=%{y}\\u003cextra\\u003e\\u003c\\u002fextra\\u003e\",\"legendgroup\":\"DE000BU0E139\",\"marker\":{\"color\":\"#636efa\",\"symbol\":\"circle\"},\"mode\":\"markers\",\"name\":\"DE000BU0E139\",\"orientation\":\"v\",\"showlegend\":true,\"x\":[0.50103],\"xaxis\":\"x\",\"y\":[98.36],\"yaxis\":\"y\",\"type\":\"scatter\"},{\"hovertemplate\":\"isin=DE0001102374\\u003cbr\\u003eDuration=%{x}\\u003cbr\\u003eBond price=%{y}\\u003cextra\\u003e\\u003c\\u002fextra\\u003e\",\"legendgroup\":\"DE0001102374\",\"marker\":{\"color\":\"#EF553B\",\"symbol\":\"circle\"},\"mode\":\"markers\",\"name\":\"DE0001102374\",\"orientation\":\"v\",\"showlegend\":true,\"x\":[0.5859],\"xaxis\":\"x\",\"y\":[98.445],\"yaxis\":\"y\",\"type\":\"scatter\"},{\"hovertemplate\":\"isin=DE000BU0E147\\u003cbr\\u003eDuration=%{x}\\u003cbr\\u003eBond price=%{y}\\u003cextra\\u003e\\u003c\\u002fextra\\u003e\",\"legendgroup\":\"DE000BU0E147\",\"marker\":{\"color\":\"#00cc96\",\"symbol\":\"circle\"},\"mode\":\"markers\",\"name\":\"DE000BU0E147\",\"orientation\":\"v\",\"showlegend\":true,\"x\":[0.6078],\"xaxis\":\"x\",\"y\":[98.05],\"yaxis\":\"y\",\"type\":\"scatter\"},{\"hovertemplate\":\"isin=DE000BU22007\\u003cbr\\u003eDuration=%{x}\\u003cbr\\u003eBond price=%{y}\\u003cextra\\u003e\\u003c\\u002fextra\\u003e\",\"legendgroup\":\"DE000BU22007\",\"marker\":{\"color\":\"#ab63fa\",\"symbol\":\"circle\"},\"mode\":\"markers\",\"name\":\"DE000BU22007\",\"orientation\":\"v\",\"showlegend\":true,\"x\":[0.65708],\"xaxis\":\"x\",\"y\":[99.547],\"yaxis\":\"y\",\"type\":\"scatter\"},{\"hovertemplate\":\"isin=DE000BU0E154\\u003cbr\\u003eDuration=%{x}\\u003cbr\\u003eBond price=%{y}\\u003cextra\\u003e\\u003c\\u002fextra\\u003e\",\"legendgroup\":\"DE000BU0E154\",\"marker\":{\"color\":\"#FFA15A\",\"symbol\":\"circle\"},\"mode\":\"markers\",\"name\":\"DE000BU0E154\",\"orientation\":\"v\",\"showlegend\":true,\"x\":[0.67351],\"xaxis\":\"x\",\"y\":[97.83],\"yaxis\":\"y\",\"type\":\"scatter\"},{\"hovertemplate\":\"isin=DE0001141810\\u003cbr\\u003eDuration=%{x}\\u003cbr\\u003eBond price=%{y}\\u003cextra\\u003e\\u003c\\u002fextra\\u003e\",\"legendgroup\":\"DE0001141810\",\"marker\":{\"color\":\"#19d3f3\",\"symbol\":\"circle\"},\"mode\":\"markers\",\"name\":\"DE0001141810\",\"orientation\":\"v\",\"showlegend\":true,\"x\":[0.73648],\"xaxis\":\"x\",\"y\":[97.68],\"yaxis\":\"y\",\"type\":\"scatter\"},{\"hovertemplate\":\"isin=DE000BU0E162\\u003cbr\\u003eDuration=%{x}\\u003cbr\\u003eBond price=%{y}\\u003cextra\\u003e\\u003c\\u002fextra\\u003e\",\"legendgroup\":\"DE000BU0E162\",\"marker\":{\"color\":\"#FF6692\",\"symbol\":\"circle\"},\"mode\":\"markers\",\"name\":\"DE000BU0E162\",\"orientation\":\"v\",\"showlegend\":true,\"x\":[0.75017],\"xaxis\":\"x\",\"y\":[97.605],\"yaxis\":\"y\",\"type\":\"scatter\"},{\"hovertemplate\":\"isin=DE000BU0E170\\u003cbr\\u003eDuration=%{x}\\u003cbr\\u003eBond price=%{y}\\u003cextra\\u003e\\u003c\\u002fextra\\u003e\",\"legendgroup\":\"DE000BU0E170\",\"marker\":{\"color\":\"#B6E880\",\"symbol\":\"circle\"},\"mode\":\"markers\",\"name\":\"DE000BU0E170\",\"orientation\":\"v\",\"showlegend\":true,\"x\":[0.82683],\"xaxis\":\"x\",\"y\":[97.39],\"yaxis\":\"y\",\"type\":\"scatter\"},{\"hovertemplate\":\"isin=DE000BU22015\\u003cbr\\u003eDuration=%{x}\\u003cbr\\u003eBond price=%{y}\\u003cextra\\u003e\\u003c\\u002fextra\\u003e\",\"legendgroup\":\"DE000BU22015\",\"marker\":{\"color\":\"#FF97FF\",\"symbol\":\"circle\"},\"mode\":\"markers\",\"name\":\"DE000BU22015\",\"orientation\":\"v\",\"showlegend\":true,\"x\":[0.90623],\"xaxis\":\"x\",\"y\":[99.687],\"yaxis\":\"y\",\"type\":\"scatter\"},{\"hovertemplate\":\"isin=DE000BU0E188\\u003cbr\\u003eDuration=%{x}\\u003cbr\\u003eBond price=%{y}\\u003cextra\\u003e\\u003c\\u002fextra\\u003e\",\"legendgroup\":\"DE000BU0E188\",\"marker\":{\"color\":\"#FECB52\",\"symbol\":\"circle\"},\"mode\":\"markers\",\"name\":\"DE000BU0E188\",\"orientation\":\"v\",\"showlegend\":true,\"x\":[0.92266],\"xaxis\":\"x\",\"y\":[97.175],\"yaxis\":\"y\",\"type\":\"scatter\"},{\"hovertemplate\":\"isin=DE000BU0E196\\u003cbr\\u003eDuration=%{x}\\u003cbr\\u003eBond price=%{y}\\u003cextra\\u003e\\u003c\\u002fextra\\u003e\",\"legendgroup\":\"DE000BU0E196\",\"marker\":{\"color\":\"#636efa\",\"symbol\":\"circle\"},\"mode\":\"markers\",\"name\":\"DE000BU0E196\",\"orientation\":\"v\",\"showlegend\":true,\"x\":[1.00205],\"xaxis\":\"x\",\"y\":[96.90382],\"yaxis\":\"y\",\"type\":\"scatter\"},{\"hovertemplate\":\"isin=DE0001102382\\u003cbr\\u003eDuration=%{x}\\u003cbr\\u003eBond price=%{y}\\u003cextra\\u003e\\u003c\\u002fextra\\u003e\",\"legendgroup\":\"DE0001102382\",\"marker\":{\"color\":\"#EF553B\",\"symbol\":\"circle\"},\"mode\":\"markers\",\"name\":\"DE0001102382\",\"orientation\":\"v\",\"showlegend\":true,\"x\":[1.07136],\"xaxis\":\"x\",\"y\":[97.89],\"yaxis\":\"y\",\"type\":\"scatter\"},{\"hovertemplate\":\"isin=DE000BU22023\\u003cbr\\u003eDuration=%{x}\\u003cbr\\u003eBond price=%{y}\\u003cextra\\u003e\\u003c\\u002fextra\\u003e\",\"legendgroup\":\"DE000BU22023\",\"marker\":{\"color\":\"#00cc96\",\"symbol\":\"circle\"},\"mode\":\"markers\",\"name\":\"DE000BU22023\",\"orientation\":\"v\",\"showlegend\":true,\"x\":[1.14465],\"xaxis\":\"x\",\"y\":[100.135],\"yaxis\":\"y\",\"type\":\"scatter\"},{\"hovertemplate\":\"isin=DE0001030716\\u003cbr\\u003eDuration=%{x}\\u003cbr\\u003eBond price=%{y}\\u003cextra\\u003e\\u003c\\u002fextra\\u003e\",\"legendgroup\":\"DE0001030716\",\"marker\":{\"color\":\"#ab63fa\",\"symbol\":\"circle\"},\"mode\":\"markers\",\"name\":\"DE0001030716\",\"orientation\":\"v\",\"showlegend\":true,\"x\":[1.23477],\"xaxis\":\"x\",\"y\":[96.507],\"yaxis\":\"y\",\"type\":\"scatter\"},{\"hovertemplate\":\"isin=DE0001141828\\u003cbr\\u003eDuration=%{x}\\u003cbr\\u003eBond price=%{y}\\u003cextra\\u003e\\u003c\\u002fextra\\u003e\",\"legendgroup\":\"DE0001141828\",\"marker\":{\"color\":\"#FFA15A\",\"symbol\":\"circle\"},\"mode\":\"markers\",\"name\":\"DE0001141828\",\"orientation\":\"v\",\"showlegend\":true,\"x\":[1.23477],\"xaxis\":\"x\",\"y\":[96.53],\"yaxis\":\"y\",\"type\":\"scatter\"},{\"hovertemplate\":\"isin=DE000BU22031\\u003cbr\\u003eDuration=%{x}\\u003cbr\\u003eBond price=%{y}\\u003cextra\\u003e\\u003c\\u002fextra\\u003e\",\"legendgroup\":\"DE000BU22031\",\"marker\":{\"color\":\"#19d3f3\",\"symbol\":\"circle\"},\"mode\":\"markers\",\"name\":\"DE000BU22031\",\"orientation\":\"v\",\"showlegend\":true,\"x\":[1.37735],\"xaxis\":\"x\",\"y\":[100.19],\"yaxis\":\"y\",\"type\":\"scatter\"},{\"hovertemplate\":\"isin=DE0001102390\\u003cbr\\u003eDuration=%{x}\\u003cbr\\u003eBond price=%{y}\\u003cextra\\u003e\\u003c\\u002fextra\\u003e\",\"legendgroup\":\"DE0001102390\",\"marker\":{\"color\":\"#FF6692\",\"symbol\":\"circle\"},\"mode\":\"markers\",\"name\":\"DE0001102390\",\"orientation\":\"v\",\"showlegend\":true,\"x\":[1.58013],\"xaxis\":\"x\",\"y\":[96.505],\"yaxis\":\"y\",\"type\":\"scatter\"},{\"hovertemplate\":\"isin=DE000BU22049\\u003cbr\\u003eDuration=%{x}\\u003cbr\\u003eBond price=%{y}\\u003cextra\\u003e\\u003c\\u002fextra\\u003e\",\"legendgroup\":\"DE000BU22049\",\"marker\":{\"color\":\"#B6E880\",\"symbol\":\"circle\"},\"mode\":\"markers\",\"name\":\"DE000BU22049\",\"orientation\":\"v\",\"showlegend\":true,\"x\":[1.64842],\"xaxis\":\"x\",\"y\":[99.46],\"yaxis\":\"y\",\"type\":\"scatter\"},{\"hovertemplate\":\"isin=DE0001141836\\u003cbr\\u003eDuration=%{x}\\u003cbr\\u003eBond price=%{y}\\u003cextra\\u003e\\u003c\\u002fextra\\u003e\",\"legendgroup\":\"DE0001141836\",\"marker\":{\"color\":\"#FF97FF\",\"symbol\":\"circle\"},\"mode\":\"markers\",\"name\":\"DE0001141836\",\"orientation\":\"v\",\"showlegend\":true,\"x\":[1.73306],\"xaxis\":\"x\",\"y\":[95.396],\"yaxis\":\"y\",\"type\":\"scatter\"},{\"hovertemplate\":\"isin=DE000BU22056\\u003cbr\\u003eDuration=%{x}\\u003cbr\\u003eBond price=%{y}\\u003cextra\\u003e\\u003c\\u002fextra\\u003e\",\"legendgroup\":\"DE000BU22056\",\"marker\":{\"color\":\"#FECB52\",\"symbol\":\"circle\"},\"mode\":\"markers\",\"name\":\"DE000BU22056\",\"orientation\":\"v\",\"showlegend\":true,\"x\":[1.89391],\"xaxis\":\"x\",\"y\":[100.295],\"yaxis\":\"y\",\"type\":\"scatter\"},{\"hovertemplate\":\"isin=DE0001102408\\u003cbr\\u003eDuration=%{x}\\u003cbr\\u003eBond price=%{y}\\u003cextra\\u003e\\u003c\\u002fextra\\u003e\",\"legendgroup\":\"DE0001102408\",\"marker\":{\"color\":\"#636efa\",\"symbol\":\"circle\"},\"mode\":\"markers\",\"name\":\"DE0001102408\",\"orientation\":\"v\",\"showlegend\":true,\"x\":[2.08077],\"xaxis\":\"x\",\"y\":[94.74],\"yaxis\":\"y\",\"type\":\"scatter\"},{\"hovertemplate\":\"isin=DE0001141844\\u003cbr\\u003eDuration=%{x}\\u003cbr\\u003eBond price=%{y}\\u003cextra\\u003e\\u003c\\u002fextra\\u003e\",\"legendgroup\":\"DE0001141844\",\"marker\":{\"color\":\"#EF553B\",\"symbol\":\"circle\"},\"mode\":\"markers\",\"name\":\"DE0001141844\",\"orientation\":\"v\",\"showlegend\":true,\"x\":[2.23135],\"xaxis\":\"x\",\"y\":[95.23],\"yaxis\":\"y\",\"type\":\"scatter\"},{\"hovertemplate\":\"isin=DE0001102416\\u003cbr\\u003eDuration=%{x}\\u003cbr\\u003eBond price=%{y}\\u003cextra\\u003e\\u003c\\u002fextra\\u003e\",\"legendgroup\":\"DE0001102416\",\"marker\":{\"color\":\"#00cc96\",\"symbol\":\"circle\"},\"mode\":\"markers\",\"name\":\"DE0001102416\",\"orientation\":\"v\",\"showlegend\":true,\"x\":[2.57677],\"xaxis\":\"x\",\"y\":[94.306],\"yaxis\":\"y\",\"type\":\"scatter\"},{\"hovertemplate\":\"isin=DE0001141851\\u003cbr\\u003eDuration=%{x}\\u003cbr\\u003eBond price=%{y}\\u003cextra\\u003e\\u003c\\u002fextra\\u003e\",\"legendgroup\":\"DE0001141851\",\"marker\":{\"color\":\"#ab63fa\",\"symbol\":\"circle\"},\"mode\":\"markers\",\"name\":\"DE0001141851\",\"orientation\":\"v\",\"showlegend\":true,\"x\":[2.7488],\"xaxis\":\"x\",\"y\":[93.354],\"yaxis\":\"y\",\"type\":\"scatter\"},{\"hovertemplate\":\"isin=DE0001135044\\u003cbr\\u003eDuration=%{x}\\u003cbr\\u003eBond price=%{y}\\u003cextra\\u003e\\u003c\\u002fextra\\u003e\",\"legendgroup\":\"DE0001135044\",\"marker\":{\"color\":\"#FFA15A\",\"symbol\":\"circle\"},\"mode\":\"markers\",\"name\":\"DE0001135044\",\"orientation\":\"v\",\"showlegend\":true,\"x\":[2.79574],\"xaxis\":\"x\",\"y\":[111.16],\"yaxis\":\"y\",\"type\":\"scatter\"},{\"hovertemplate\":\"isin=DE0001102424\\u003cbr\\u003eDuration=%{x}\\u003cbr\\u003eBond price=%{y}\\u003cextra\\u003e\\u003c\\u002fextra\\u003e\",\"legendgroup\":\"DE0001102424\",\"marker\":{\"color\":\"#19d3f3\",\"symbol\":\"circle\"},\"mode\":\"markers\",\"name\":\"DE0001102424\",\"orientation\":\"v\",\"showlegend\":true,\"x\":[3.04899],\"xaxis\":\"x\",\"y\":[94.225],\"yaxis\":\"y\",\"type\":\"scatter\"},{\"hovertemplate\":\"isin=DE0001141869\\u003cbr\\u003eDuration=%{x}\\u003cbr\\u003eBond price=%{y}\\u003cextra\\u003e\\u003c\\u002fextra\\u003e\",\"legendgroup\":\"DE0001141869\",\"marker\":{\"color\":\"#FF6692\",\"symbol\":\"circle\"},\"mode\":\"markers\",\"name\":\"DE0001141869\",\"orientation\":\"v\",\"showlegend\":true,\"x\":[3.16879],\"xaxis\":\"x\",\"y\":[96.385],\"yaxis\":\"y\",\"type\":\"scatter\"},{\"hovertemplate\":\"isin=DE0001030740\\u003cbr\\u003eDuration=%{x}\\u003cbr\\u003eBond price=%{y}\\u003cextra\\u003e\\u003c\\u002fextra\\u003e\",\"legendgroup\":\"DE0001030740\",\"marker\":{\"color\":\"#B6E880\",\"symbol\":\"circle\"},\"mode\":\"markers\",\"name\":\"DE0001030740\",\"orientation\":\"v\",\"showlegend\":true,\"x\":[3.1688],\"xaxis\":\"x\",\"y\":[96.408],\"yaxis\":\"y\",\"type\":\"scatter\"},{\"hovertemplate\":\"isin=DE0001135069\\u003cbr\\u003eDuration=%{x}\\u003cbr\\u003eBond price=%{y}\\u003cextra\\u003e\\u003c\\u002fextra\\u003e\",\"legendgroup\":\"DE0001135069\",\"marker\":{\"color\":\"#FF97FF\",\"symbol\":\"circle\"},\"mode\":\"markers\",\"name\":\"DE0001135069\",\"orientation\":\"v\",\"showlegend\":true,\"x\":[3.17937],\"xaxis\":\"x\",\"y\":[110.337],\"yaxis\":\"y\",\"type\":\"scatter\"},{\"hovertemplate\":\"isin=DE0001102523\\u003cbr\\u003eDuration=%{x}\\u003cbr\\u003eBond price=%{y}\\u003cextra\\u003e\\u003c\\u002fextra\\u003e\",\"legendgroup\":\"DE0001102523\",\"marker\":{\"color\":\"#FECB52\",\"symbol\":\"circle\"},\"mode\":\"markers\",\"name\":\"DE0001102523\",\"orientation\":\"v\",\"showlegend\":true,\"x\":[3.33196],\"xaxis\":\"x\",\"y\":[92.194],\"yaxis\":\"y\",\"type\":\"scatter\"},{\"hovertemplate\":\"isin=DE0001102440\\u003cbr\\u003eDuration=%{x}\\u003cbr\\u003eBond price=%{y}\\u003cextra\\u003e\\u003c\\u002fextra\\u003e\",\"legendgroup\":\"DE0001102440\",\"marker\":{\"color\":\"#636efa\",\"symbol\":\"circle\"},\"mode\":\"markers\",\"name\":\"DE0001102440\",\"orientation\":\"v\",\"showlegend\":true,\"x\":[3.55278],\"xaxis\":\"x\",\"y\":[93.458],\"yaxis\":\"y\",\"type\":\"scatter\"},{\"hovertemplate\":\"isin=DE000BU25000\\u003cbr\\u003eDuration=%{x}\\u003cbr\\u003eBond price=%{y}\\u003cextra\\u003e\\u003c\\u002fextra\\u003e\",\"legendgroup\":\"DE000BU25000\",\"marker\":{\"color\":\"#EF553B\",\"symbol\":\"circle\"},\"mode\":\"markers\",\"name\":\"DE000BU25000\",\"orientation\":\"v\",\"showlegend\":true,\"x\":[3.61459],\"xaxis\":\"x\",\"y\":[99.17],\"yaxis\":\"y\",\"type\":\"scatter\"},{\"hovertemplate\":\"isin=DE0001135085\\u003cbr\\u003eDuration=%{x}\\u003cbr\\u003eBond price=%{y}\\u003cextra\\u003e\\u003c\\u002fextra\\u003e\",\"legendgroup\":\"DE0001135085\",\"marker\":{\"color\":\"#00cc96\",\"symbol\":\"circle\"},\"mode\":\"markers\",\"name\":\"DE0001135085\",\"orientation\":\"v\",\"showlegend\":true,\"x\":[3.71511],\"xaxis\":\"x\",\"y\":[108.662],\"yaxis\":\"y\",\"type\":\"scatter\"},{\"hovertemplate\":\"isin=DE000BU25018\\u003cbr\\u003eDuration=%{x}\\u003cbr\\u003eBond price=%{y}\\u003cextra\\u003e\\u003c\\u002fextra\\u003e\",\"legendgroup\":\"DE000BU25018\",\"marker\":{\"color\":\"#ab63fa\",\"symbol\":\"circle\"},\"mode\":\"markers\",\"name\":\"DE000BU25018\",\"orientation\":\"v\",\"showlegend\":true,\"x\":[4.03219],\"xaxis\":\"x\",\"y\":[99.893],\"yaxis\":\"y\",\"type\":\"scatter\"},{\"hovertemplate\":\"isin=DE0001102457\\u003cbr\\u003eDuration=%{x}\\u003cbr\\u003eBond price=%{y}\\u003cextra\\u003e\\u003c\\u002fextra\\u003e\",\"legendgroup\":\"DE0001102457\",\"marker\":{\"color\":\"#FFA15A\",\"symbol\":\"circle\"},\"mode\":\"markers\",\"name\":\"DE0001102457\",\"orientation\":\"v\",\"showlegend\":true,\"x\":[4.05565],\"xaxis\":\"x\",\"y\":[91.849],\"yaxis\":\"y\",\"type\":\"scatter\"},{\"hovertemplate\":\"isin=DE0001102556\\u003cbr\\u003eDuration=%{x}\\u003cbr\\u003eBond price=%{y}\\u003cextra\\u003e\\u003c\\u002fextra\\u003e\",\"legendgroup\":\"DE0001102556\",\"marker\":{\"color\":\"#19d3f3\",\"symbol\":\"circle\"},\"mode\":\"markers\",\"name\":\"DE0001102556\",\"orientation\":\"v\",\"showlegend\":true,\"x\":[4.33402],\"xaxis\":\"x\",\"y\":[90.372],\"yaxis\":\"y\",\"type\":\"scatter\"},{\"hovertemplate\":\"isin=DE000BU35025\\u003cbr\\u003eDuration=%{x}\\u003cbr\\u003eBond price=%{y}\\u003cextra\\u003e\\u003c\\u002fextra\\u003e\",\"legendgroup\":\"DE000BU35025\",\"marker\":{\"color\":\"#FF6692\",\"symbol\":\"circle\"},\"mode\":\"markers\",\"name\":\"DE000BU35025\",\"orientation\":\"v\",\"showlegend\":true,\"x\":[4.53663],\"xaxis\":\"x\",\"y\":[98.658],\"yaxis\":\"y\",\"type\":\"scatter\"},{\"hovertemplate\":\"isin=DE000BU25026\\u003cbr\\u003eDuration=%{x}\\u003cbr\\u003eBond price=%{y}\\u003cextra\\u003e\\u003c\\u002fextra\\u003e\",\"legendgroup\":\"DE000BU25026\",\"marker\":{\"color\":\"#B6E880\",\"symbol\":\"circle\"},\"mode\":\"markers\",\"name\":\"DE000BU25026\",\"orientation\":\"v\",\"showlegend\":true,\"x\":[4.53663],\"xaxis\":\"x\",\"y\":[98.654],\"yaxis\":\"y\",\"type\":\"scatter\"},{\"hovertemplate\":\"isin=DE0001102465\\u003cbr\\u003eDuration=%{x}\\u003cbr\\u003eBond price=%{y}\\u003cextra\\u003e\\u003c\\u002fextra\\u003e\",\"legendgroup\":\"DE0001102465\",\"marker\":{\"color\":\"#FF97FF\",\"symbol\":\"circle\"},\"mode\":\"markers\",\"name\":\"DE0001102465\",\"orientation\":\"v\",\"showlegend\":true,\"x\":[4.55943],\"xaxis\":\"x\",\"y\":[90.9946],\"yaxis\":\"y\",\"type\":\"scatter\"},{\"hovertemplate\":\"isin=DE0001135143\\u003cbr\\u003eDuration=%{x}\\u003cbr\\u003eBond price=%{y}\\u003cextra\\u003e\\u003c\\u002fextra\\u003e\",\"legendgroup\":\"DE0001135143\",\"marker\":{\"color\":\"#FECB52\",\"symbol\":\"circle\"},\"mode\":\"markers\",\"name\":\"DE0001135143\",\"orientation\":\"v\",\"showlegend\":true,\"x\":[4.73889],\"xaxis\":\"x\",\"y\":[119.59],\"yaxis\":\"y\",\"type\":\"scatter\"},{\"hovertemplate\":\"isin=DE0001102622\\u003cbr\\u003eDuration=%{x}\\u003cbr\\u003eBond price=%{y}\\u003cextra\\u003e\\u003c\\u002fextra\\u003e\",\"legendgroup\":\"DE0001102622\",\"marker\":{\"color\":\"#636efa\",\"symbol\":\"circle\"},\"mode\":\"markers\",\"name\":\"DE0001102622\",\"orientation\":\"v\",\"showlegend\":true,\"x\":[5.03011],\"xaxis\":\"x\",\"y\":[98.495],\"yaxis\":\"y\",\"type\":\"scatter\"},{\"hovertemplate\":\"isin=DE0001102473\\u003cbr\\u003eDuration=%{x}\\u003cbr\\u003eBond price=%{y}\\u003cextra\\u003e\\u003c\\u002fextra\\u003e\",\"legendgroup\":\"DE0001102473\",\"marker\":{\"color\":\"#EF553B\",\"symbol\":\"circle\"},\"mode\":\"markers\",\"name\":\"DE0001102473\",\"orientation\":\"v\",\"showlegend\":true,\"x\":[5.08145],\"xaxis\":\"x\",\"y\":[88.915],\"yaxis\":\"y\",\"type\":\"scatter\"},{\"hovertemplate\":\"isin=DE0001135176\\u003cbr\\u003eDuration=%{x}\\u003cbr\\u003eBond price=%{y}\\u003cextra\\u003e\\u003c\\u002fextra\\u003e\",\"legendgroup\":\"DE0001135176\",\"marker\":{\"color\":\"#00cc96\",\"symbol\":\"circle\"},\"mode\":\"markers\",\"name\":\"DE0001135176\",\"orientation\":\"v\",\"showlegend\":true,\"x\":[5.56306],\"xaxis\":\"x\",\"y\":[118.183],\"yaxis\":\"y\",\"type\":\"scatter\"},{\"hovertemplate\":\"isin=DE0001102499\\u003cbr\\u003eDuration=%{x}\\u003cbr\\u003eBond price=%{y}\\u003cextra\\u003e\\u003c\\u002fextra\\u003e\",\"legendgroup\":\"DE0001102499\",\"marker\":{\"color\":\"#ab63fa\",\"symbol\":\"circle\"},\"mode\":\"markers\",\"name\":\"DE0001102499\",\"orientation\":\"v\",\"showlegend\":true,\"x\":[5.58522],\"xaxis\":\"x\",\"y\":[87.912],\"yaxis\":\"y\",\"type\":\"scatter\"},{\"hovertemplate\":\"isin=DE000BU27006\\u003cbr\\u003eDuration=%{x}\\u003cbr\\u003eBond price=%{y}\\u003cextra\\u003e\\u003c\\u002fextra\\u003e\",\"legendgroup\":\"DE000BU27006\",\"marker\":{\"color\":\"#FFA15A\",\"symbol\":\"circle\"},\"mode\":\"markers\",\"name\":\"DE000BU27006\",\"orientation\":\"v\",\"showlegend\":true,\"x\":[5.8619],\"xaxis\":\"x\",\"y\":[100.109],\"yaxis\":\"y\",\"type\":\"scatter\"},{\"hovertemplate\":\"isin=DE0001102507\\u003cbr\\u003eDuration=%{x}\\u003cbr\\u003eBond price=%{y}\\u003cextra\\u003e\\u003c\\u002fextra\\u003e\",\"legendgroup\":\"DE0001102507\",\"marker\":{\"color\":\"#19d3f3\",\"symbol\":\"circle\"},\"mode\":\"markers\",\"name\":\"DE0001102507\",\"orientation\":\"v\",\"showlegend\":true,\"x\":[6.08077],\"xaxis\":\"x\",\"y\":[86.9925],\"yaxis\":\"y\",\"type\":\"scatter\"},{\"hovertemplate\":\"isin=DE0001030708\\u003cbr\\u003eDuration=%{x}\\u003cbr\\u003eBond price=%{y}\\u003cextra\\u003e\\u003c\\u002fextra\\u003e\",\"legendgroup\":\"DE0001030708\",\"marker\":{\"color\":\"#FF6692\",\"symbol\":\"circle\"},\"mode\":\"markers\",\"name\":\"DE0001030708\",\"orientation\":\"v\",\"showlegend\":true,\"x\":[6.08077],\"xaxis\":\"x\",\"y\":[87.057],\"yaxis\":\"y\",\"type\":\"scatter\"},{\"hovertemplate\":\"isin=DE0001102531\\u003cbr\\u003eDuration=%{x}\\u003cbr\\u003eBond price=%{y}\\u003cextra\\u003e\\u003c\\u002fextra\\u003e\",\"legendgroup\":\"DE0001102531\",\"marker\":{\"color\":\"#B6E880\",\"symbol\":\"circle\"},\"mode\":\"markers\",\"name\":\"DE0001102531\",\"orientation\":\"v\",\"showlegend\":true,\"x\":[6.58453],\"xaxis\":\"x\",\"y\":[85.97],\"yaxis\":\"y\",\"type\":\"scatter\"},{\"hovertemplate\":\"isin=DE0001030732\\u003cbr\\u003eDuration=%{x}\\u003cbr\\u003eBond price=%{y}\\u003cextra\\u003e\\u003c\\u002fextra\\u003e\",\"legendgroup\":\"DE0001030732\",\"marker\":{\"color\":\"#FF97FF\",\"symbol\":\"circle\"},\"mode\":\"markers\",\"name\":\"DE0001030732\",\"orientation\":\"v\",\"showlegend\":true,\"x\":[7.08008],\"xaxis\":\"x\",\"y\":[85.047],\"yaxis\":\"y\",\"type\":\"scatter\"},{\"hovertemplate\":\"isin=DE0001102564\\u003cbr\\u003eDuration=%{x}\\u003cbr\\u003eBond price=%{y}\\u003cextra\\u003e\\u003c\\u002fextra\\u003e\",\"legendgroup\":\"DE0001102564\",\"marker\":{\"color\":\"#FECB52\",\"symbol\":\"circle\"},\"mode\":\"markers\",\"name\":\"DE0001102564\",\"orientation\":\"v\",\"showlegend\":true,\"x\":[7.08008],\"xaxis\":\"x\",\"y\":[85.108],\"yaxis\":\"y\",\"type\":\"scatter\"},{\"hovertemplate\":\"isin=DE0001102606\\u003cbr\\u003eDuration=%{x}\\u003cbr\\u003eBond price=%{y}\\u003cextra\\u003e\\u003c\\u002fextra\\u003e\",\"legendgroup\":\"DE0001102606\",\"marker\":{\"color\":\"#636efa\",\"symbol\":\"circle\"},\"mode\":\"markers\",\"name\":\"DE0001102606\",\"orientation\":\"v\",\"showlegend\":true,\"x\":[7.48437],\"xaxis\":\"x\",\"y\":[95.4],\"yaxis\":\"y\",\"type\":\"scatter\"},{\"hovertemplate\":\"isin=DE0001102580\\u003cbr\\u003eDuration=%{x}\\u003cbr\\u003eBond price=%{y}\\u003cextra\\u003e\\u003c\\u002fextra\\u003e\",\"legendgroup\":\"DE0001102580\",\"marker\":{\"color\":\"#EF553B\",\"symbol\":\"circle\"},\"mode\":\"markers\",\"name\":\"DE0001102580\",\"orientation\":\"v\",\"showlegend\":true,\"x\":[7.58385],\"xaxis\":\"x\",\"y\":[84.011],\"yaxis\":\"y\",\"type\":\"scatter\"},{\"hovertemplate\":\"isin=DE000BU2Z007\\u003cbr\\u003eDuration=%{x}\\u003cbr\\u003eBond price=%{y}\\u003cextra\\u003e\\u003c\\u002fextra\\u003e\",\"legendgroup\":\"DE000BU2Z007\",\"marker\":{\"color\":\"#00cc96\",\"symbol\":\"circle\"},\"mode\":\"markers\",\"name\":\"DE000BU2Z007\",\"orientation\":\"v\",\"showlegend\":true,\"x\":[7.81495],\"xaxis\":\"x\",\"y\":[99.4804],\"yaxis\":\"y\",\"type\":\"scatter\"},{\"hovertemplate\":\"isin=DE000BU3Z005\\u003cbr\\u003eDuration=%{x}\\u003cbr\\u003eBond price=%{y}\\u003cextra\\u003e\\u003c\\u002fextra\\u003e\",\"legendgroup\":\"DE000BU3Z005\",\"marker\":{\"color\":\"#ab63fa\",\"symbol\":\"circle\"},\"mode\":\"markers\",\"name\":\"DE000BU3Z005\",\"orientation\":\"v\",\"showlegend\":true,\"x\":[7.81551],\"xaxis\":\"x\",\"y\":[99.594],\"yaxis\":\"y\",\"type\":\"scatter\"},{\"hovertemplate\":\"isin=DE000BU2Z015\\u003cbr\\u003eDuration=%{x}\\u003cbr\\u003eBond price=%{y}\\u003cextra\\u003e\\u003c\\u002fextra\\u003e\",\"legendgroup\":\"DE000BU2Z015\",\"marker\":{\"color\":\"#FFA15A\",\"symbol\":\"circle\"},\"mode\":\"markers\",\"name\":\"DE000BU2Z015\",\"orientation\":\"v\",\"showlegend\":true,\"x\":[8.02866],\"xaxis\":\"x\",\"y\":[101.783],\"yaxis\":\"y\",\"type\":\"scatter\"},{\"hovertemplate\":\"isin=DE0001135226\\u003cbr\\u003eDuration=%{x}\\u003cbr\\u003eBond price=%{y}\\u003cextra\\u003e\\u003c\\u002fextra\\u003e\",\"legendgroup\":\"DE0001135226\",\"marker\":{\"color\":\"#19d3f3\",\"symbol\":\"circle\"},\"mode\":\"markers\",\"name\":\"DE0001135226\",\"orientation\":\"v\",\"showlegend\":true,\"x\":[8.33824],\"xaxis\":\"x\",\"y\":[120.399],\"yaxis\":\"y\",\"type\":\"scatter\"},{\"hovertemplate\":\"isin=DE000BU2Z023\\u003cbr\\u003eDuration=%{x}\\u003cbr\\u003eBond price=%{y}\\u003cextra\\u003e\\u003c\\u002fextra\\u003e\",\"legendgroup\":\"DE000BU2Z023\",\"marker\":{\"color\":\"#FF6692\",\"symbol\":\"circle\"},\"mode\":\"markers\",\"name\":\"DE000BU2Z023\",\"orientation\":\"v\",\"showlegend\":true,\"x\":[8.66091],\"xaxis\":\"x\",\"y\":[98.221],\"yaxis\":\"y\",\"type\":\"scatter\"},{\"hovertemplate\":\"isin=DE000BU2Z031\\u003cbr\\u003eDuration=%{x}\\u003cbr\\u003eBond price=%{y}\\u003cextra\\u003e\\u003c\\u002fextra\\u003e\",\"legendgroup\":\"DE000BU2Z031\",\"marker\":{\"color\":\"#B6E880\",\"symbol\":\"circle\"},\"mode\":\"markers\",\"name\":\"DE000BU2Z031\",\"orientation\":\"v\",\"showlegend\":true,\"x\":[9.0257],\"xaxis\":\"x\",\"y\":[101.5325],\"yaxis\":\"y\",\"type\":\"scatter\"},{\"hovertemplate\":\"isin=DE0001135275\\u003cbr\\u003eDuration=%{x}\\u003cbr\\u003eBond price=%{y}\\u003cextra\\u003e\\u003c\\u002fextra\\u003e\",\"legendgroup\":\"DE0001135275\",\"marker\":{\"color\":\"#FF97FF\",\"symbol\":\"circle\"},\"mode\":\"markers\",\"name\":\"DE0001135275\",\"orientation\":\"v\",\"showlegend\":true,\"x\":[10.07231],\"xaxis\":\"x\",\"y\":[115.477],\"yaxis\":\"y\",\"type\":\"scatter\"},{\"hovertemplate\":\"isin=DE0001102515\\u003cbr\\u003eDuration=%{x}\\u003cbr\\u003eBond price=%{y}\\u003cextra\\u003e\\u003c\\u002fextra\\u003e\",\"legendgroup\":\"DE0001102515\",\"marker\":{\"color\":\"#FECB52\",\"symbol\":\"circle\"},\"mode\":\"markers\",\"name\":\"DE0001102515\",\"orientation\":\"v\",\"showlegend\":true,\"x\":[10.82821],\"xaxis\":\"x\",\"y\":[76.88],\"yaxis\":\"y\",\"type\":\"scatter\"},{\"hovertemplate\":\"isin=DE0001135325\\u003cbr\\u003eDuration=%{x}\\u003cbr\\u003eBond price=%{y}\\u003cextra\\u003e\\u003c\\u002fextra\\u003e\",\"legendgroup\":\"DE0001135325\",\"marker\":{\"color\":\"#636efa\",\"symbol\":\"circle\"},\"mode\":\"markers\",\"name\":\"DE0001135325\",\"orientation\":\"v\",\"showlegend\":true,\"x\":[11.71784],\"xaxis\":\"x\",\"y\":[120.234],\"yaxis\":\"y\",\"type\":\"scatter\"},{\"hovertemplate\":\"isin=DE0001102549\\u003cbr\\u003eDuration=%{x}\\u003cbr\\u003eBond price=%{y}\\u003cextra\\u003e\\u003c\\u002fextra\\u003e\",\"legendgroup\":\"DE0001102549\",\"marker\":{\"color\":\"#EF553B\",\"symbol\":\"circle\"},\"mode\":\"markers\",\"name\":\"DE0001102549\",\"orientation\":\"v\",\"showlegend\":true,\"x\":[11.83025],\"xaxis\":\"x\",\"y\":[74.6469],\"yaxis\":\"y\",\"type\":\"scatter\"},{\"hovertemplate\":\"isin=DE0001135366\\u003cbr\\u003eDuration=%{x}\\u003cbr\\u003eBond price=%{y}\\u003cextra\\u003e\\u003c\\u002fextra\\u003e\",\"legendgroup\":\"DE0001135366\",\"marker\":{\"color\":\"#00cc96\",\"symbol\":\"circle\"},\"mode\":\"markers\",\"name\":\"DE0001135366\",\"orientation\":\"v\",\"showlegend\":true,\"x\":[12.09292],\"xaxis\":\"x\",\"y\":[127.664],\"yaxis\":\"y\",\"type\":\"scatter\"},{\"hovertemplate\":\"isin=DE0001102598\\u003cbr\\u003eDuration=%{x}\\u003cbr\\u003eBond price=%{y}\\u003cextra\\u003e\\u003c\\u002fextra\\u003e\",\"legendgroup\":\"DE0001102598\",\"marker\":{\"color\":\"#ab63fa\",\"symbol\":\"circle\"},\"mode\":\"markers\",\"name\":\"DE0001102598\",\"orientation\":\"v\",\"showlegend\":true,\"x\":[12.84314],\"xaxis\":\"x\",\"y\":[81.665],\"yaxis\":\"y\",\"type\":\"scatter\"},{\"hovertemplate\":\"isin=DE000BU2F009\\u003cbr\\u003eDuration=%{x}\\u003cbr\\u003eBond price=%{y}\\u003cextra\\u003e\\u003c\\u002fextra\\u003e\",\"legendgroup\":\"DE000BU2F009\",\"marker\":{\"color\":\"#FFA15A\",\"symbol\":\"circle\"},\"mode\":\"markers\",\"name\":\"DE000BU2F009\",\"orientation\":\"v\",\"showlegend\":true,\"x\":[13.77505],\"xaxis\":\"x\",\"y\":[99.305],\"yaxis\":\"y\",\"type\":\"scatter\"},{\"hovertemplate\":\"isin=DE0001135432\\u003cbr\\u003eDuration=%{x}\\u003cbr\\u003eBond price=%{y}\\u003cextra\\u003e\\u003c\\u002fextra\\u003e\",\"legendgroup\":\"DE0001135432\",\"marker\":{\"color\":\"#19d3f3\",\"symbol\":\"circle\"},\"mode\":\"markers\",\"name\":\"DE0001135432\",\"orientation\":\"v\",\"showlegend\":true,\"x\":[14.06554],\"xaxis\":\"x\",\"y\":[108.7252],\"yaxis\":\"y\",\"type\":\"scatter\"},{\"hovertemplate\":\"isin=DE0001135481\\u003cbr\\u003eDuration=%{x}\\u003cbr\\u003eBond price=%{y}\\u003cextra\\u003e\\u003c\\u002fextra\\u003e\",\"legendgroup\":\"DE0001135481\",\"marker\":{\"color\":\"#FF6692\",\"symbol\":\"circle\"},\"mode\":\"markers\",\"name\":\"DE0001135481\",\"orientation\":\"v\",\"showlegend\":true,\"x\":[15.88885],\"xaxis\":\"x\",\"y\":[97.67],\"yaxis\":\"y\",\"type\":\"scatter\"},{\"hovertemplate\":\"isin=DE0001102341\\u003cbr\\u003eDuration=%{x}\\u003cbr\\u003eBond price=%{y}\\u003cextra\\u003e\\u003c\\u002fextra\\u003e\",\"legendgroup\":\"DE0001102341\",\"marker\":{\"color\":\"#B6E880\",\"symbol\":\"circle\"},\"mode\":\"markers\",\"name\":\"DE0001102341\",\"orientation\":\"v\",\"showlegend\":true,\"x\":[16.76985],\"xaxis\":\"x\",\"y\":[97.627],\"yaxis\":\"y\",\"type\":\"scatter\"},{\"hovertemplate\":\"isin=DE0001102432\\u003cbr\\u003eDuration=%{x}\\u003cbr\\u003eBond price=%{y}\\u003cextra\\u003e\\u003c\\u002fextra\\u003e\",\"legendgroup\":\"DE0001102432\",\"marker\":{\"color\":\"#FF97FF\",\"symbol\":\"circle\"},\"mode\":\"markers\",\"name\":\"DE0001102432\",\"orientation\":\"v\",\"showlegend\":true,\"x\":[20.05054],\"xaxis\":\"x\",\"y\":[75.834],\"yaxis\":\"y\",\"type\":\"scatter\"},{\"hovertemplate\":\"isin=DE000BU2D004\\u003cbr\\u003eDuration=%{x}\\u003cbr\\u003eBond price=%{y}\\u003cextra\\u003e\\u003c\\u002fextra\\u003e\",\"legendgroup\":\"DE000BU2D004\",\"marker\":{\"color\":\"#FECB52\",\"symbol\":\"circle\"},\"mode\":\"markers\",\"name\":\"DE000BU2D004\",\"orientation\":\"v\",\"showlegend\":true,\"x\":[21.47382],\"xaxis\":\"x\",\"y\":[97.455],\"yaxis\":\"y\",\"type\":\"scatter\"},{\"hovertemplate\":\"isin=DE0001102614\\u003cbr\\u003eDuration=%{x}\\u003cbr\\u003eBond price=%{y}\\u003cextra\\u003e\\u003c\\u002fextra\\u003e\",\"legendgroup\":\"DE0001102614\",\"marker\":{\"color\":\"#636efa\",\"symbol\":\"circle\"},\"mode\":\"markers\",\"name\":\"DE0001102614\",\"orientation\":\"v\",\"showlegend\":true,\"x\":[21.76527],\"xaxis\":\"x\",\"y\":[83.62],\"yaxis\":\"y\",\"type\":\"scatter\"},{\"hovertemplate\":\"isin=DE0001030757\\u003cbr\\u003eDuration=%{x}\\u003cbr\\u003eBond price=%{y}\\u003cextra\\u003e\\u003c\\u002fextra\\u003e\",\"legendgroup\":\"DE0001030757\",\"marker\":{\"color\":\"#EF553B\",\"symbol\":\"circle\"},\"mode\":\"markers\",\"name\":\"DE0001030757\",\"orientation\":\"v\",\"showlegend\":true,\"x\":[21.77209],\"xaxis\":\"x\",\"y\":[83.748],\"yaxis\":\"y\",\"type\":\"scatter\"},{\"hovertemplate\":\"isin=DE0001102481\\u003cbr\\u003eDuration=%{x}\\u003cbr\\u003eBond price=%{y}\\u003cextra\\u003e\\u003c\\u002fextra\\u003e\",\"legendgroup\":\"DE0001102481\",\"marker\":{\"color\":\"#00cc96\",\"symbol\":\"circle\"},\"mode\":\"markers\",\"name\":\"DE0001102481\",\"orientation\":\"v\",\"showlegend\":true,\"x\":[26.08074],\"xaxis\":\"x\",\"y\":[51.422],\"yaxis\":\"y\",\"type\":\"scatter\"},{\"hovertemplate\":\"isin=DE0001030724\\u003cbr\\u003eDuration=%{x}\\u003cbr\\u003eBond price=%{y}\\u003cextra\\u003e\\u003c\\u002fextra\\u003e\",\"legendgroup\":\"DE0001030724\",\"marker\":{\"color\":\"#ab63fa\",\"symbol\":\"circle\"},\"mode\":\"markers\",\"name\":\"DE0001030724\",\"orientation\":\"v\",\"showlegend\":true,\"x\":[26.08076],\"xaxis\":\"x\",\"y\":[51.609],\"yaxis\":\"y\",\"type\":\"scatter\"},{\"hovertemplate\":\"isin=DE0001102572\\u003cbr\\u003eDuration=%{x}\\u003cbr\\u003eBond price=%{y}\\u003cextra\\u003e\\u003c\\u002fextra\\u003e\",\"legendgroup\":\"DE0001102572\",\"marker\":{\"color\":\"#FFA15A\",\"symbol\":\"circle\"},\"mode\":\"markers\",\"name\":\"DE0001102572\",\"orientation\":\"v\",\"showlegend\":true,\"x\":[28.08212],\"xaxis\":\"x\",\"y\":[49.123],\"yaxis\":\"y\",\"type\":\"scatter\"},{\"marker\":{\"color\":\"red\",\"size\":12},\"mode\":\"markers\",\"name\":\"Italian Bonds\",\"x\":[0.04107,0.06023,0.06571,0.0794,0.08214,0.12868,0.12868,0.16153,0.20808,0.23272,0.24093,0.24641,0.3039,0.33128,0.33402,0.37235,0.37782,0.41068,0.41615,0.49829,0.5065,0.54668,0.58316,0.60233,0.61223,0.64613,0.65982,0.68987,0.74196,0.7447,0.81314,0.82597,0.82683,0.87237,0.90897,0.95368,0.99384,1.0724,1.09514,1.09514,1.1783,1.22656,1.24298,1.31476,1.3622,1.46201,1.47471,1.48909,1.53917,1.55966,1.56879,1.57402,1.64545,1.692,1.70842,1.74127,1.80698,1.85139,1.96471,2.04244,2.06434,2.07388,2.09172,2.13434,2.14921,2.2423,2.29432,2.34479,2.4773,2.47788,2.5681,2.64476,2.66563,2.77019,2.78423,2.79326,2.80356,2.87192,2.93504,2.99916,3.06365,3.11347,3.14032,3.24035,3.24162,3.29363,3.40613,3.48497,3.54707,3.55486,3.64408,3.64456,3.64682,3.68515,3.70306,3.72801,3.7479,3.89049,3.96028,3.96167,4.0575,4.12931,4.13142,4.13513,4.23272,4.53126,4.5461,4.56947,4.58042,4.60512,4.61171,4.63792,4.65242,4.68007,4.6872,4.73101,4.73402,4.85893,4.93313,4.97741,5.05681,5.09273,5.14168,5.23203,5.29774,5.35662,5.47675,5.6345,5.63615,5.64545,5.71103,5.84363,5.8566,6.046,6.05613,6.141,6.15743,6.23135,6.27522,6.36436,6.39288,6.40657,6.48541,6.63655,6.7856,6.78987,6.85797,6.86548,6.97878,7.1038,7.11189,7.13642,7.15674,7.18518,7.22519,7.23066,7.3748,7.54979,7.56335,7.73109,7.73169,7.74812,7.8305,7.84507,7.93854,7.97604,8.0575,8.09086,8.10368,8.22724,8.23272,8.36565,8.63792,8.73101,8.82542,8.87864,8.98015,9.18823,9.23203,9.69199,9.73032,9.84177,9.9822,10.141,10.23135,10.30527,10.34915,10.42652,10.51824,10.72142,10.7755,10.85939,10.97878,11.14031,11.22245,11.32444,11.34142,11.34966,11.42506,11.47433,11.69914,11.72347,11.9781,12.13033,12.2245,12.47638,12.72279,12.85421,12.98015,12.99465,13.2571,13.27309,13.77687,13.84345,13.9691,13.9822,14.45625,14.47502,14.76522,14.77619,14.9079,14.98152,15.24149,15.32649,15.48528,15.65624,15.82826,16.06492,16.29569,16.56776,16.94502,17.48665,17.88251,19.20587,19.7974,19.82898,20.70364,21.76593,21.91941,22.26696,24.2546,24.5128,27.64684,29.77139],\"y\":[99.872,100.02,99.781,99.732,99.743,100.029,99.636,99.483,99.312,99.186,99.23,99.166,99.031,98.852,99.336,98.707,99.663,98.602,98.63,98.319,98.129702,98.421,98.018,97.738,100.949,97.626,97.771,99.994,97.35,97.53,97.101,98.531,97.289,98.491,97.01,98.672,96.755,97.82,96.232,96.163,100.361,95.597,95.705,99.161,98.499,95.02663,100.47,99.999,96.069,102.109,94.727,94.26,94.647,101.139,94.898,94.096,93.991,97.359,98.169,93.981,93.238,101.598,93.6703256,109.209,92.946,92.534,93.35,95.979,99.718,94.789,91.682,91.501,95.0,94.598,96.2,97.739,91.099,101.028,97.121,110.731,90.147,93.759,90.059,98.691,89.39,90.75,96.469,101.09,93.5745,102.19,87.755,90.31,88.317,87.78236,93.22,102.589,106.28,86.93,90.389,88.283437,87.381,103.921,88.73,98.791,86.29,88.631,91.7,85.412,85.8,100.659,98.269,85.252,99.209,110.011,84.11368,84.683,92.11,90.8,102.961,84.4,84.142,101.439,83.657,83.061,84.22,102.089,90.167,83.38,103.727,81.276,116.1,87.23,100.743,90.409,80.665,80.253,80.845932,79.587,100.21,104.0,78.53,79.322,85.39,78.64,84.9605,80.08,116.072,82.78,78.074,84.181,88.339,87.4095,76.972,101.82,75.558,76.338,106.401,92.855,82.951,105.781,74.699,74.925,84.2765,112.0,104.499,111.141,73.742,97.444,91.55,72.237,72.935,101.399,71.765,71.043,102.64,96.731,71.02244508,70.006,69.374,68.27,67.318,102.03,68.74,66.59,65.769,70.45,101.7,85.129,78.32,64.848,111.0,92.889,63.92779144,63.223,63.476,101.38,89.421,111.131,58.45,62.25184748,71.45,62.135,60.97039629,89.53,60.629,59.44643547,59.341,60.35,58.68162531,103.89,108.26,57.36,55.49,73.23,112.75,56.63,75.8,53.36447,52.261,52.71,72.78,53.75,87.5,54.800000000000004,52.18,89.68,94.99,79.47,45.45,103.85,64.43,48.48,73.23,67.35,37.3,61.77,42.1302092,37.798,74.37,37.205,33.6,61.77,29.677,24.05],\"type\":\"scatter\"}],                        {\"template\":{\"data\":{\"histogram2dcontour\":[{\"type\":\"histogram2dcontour\",\"colorbar\":{\"outlinewidth\":0,\"ticks\":\"\"},\"colorscale\":[[0.0,\"#0d0887\"],[0.1111111111111111,\"#46039f\"],[0.2222222222222222,\"#7201a8\"],[0.3333333333333333,\"#9c179e\"],[0.4444444444444444,\"#bd3786\"],[0.5555555555555556,\"#d8576b\"],[0.6666666666666666,\"#ed7953\"],[0.7777777777777778,\"#fb9f3a\"],[0.8888888888888888,\"#fdca26\"],[1.0,\"#f0f921\"]]}],\"choropleth\":[{\"type\":\"choropleth\",\"colorbar\":{\"outlinewidth\":0,\"ticks\":\"\"}}],\"histogram2d\":[{\"type\":\"histogram2d\",\"colorbar\":{\"outlinewidth\":0,\"ticks\":\"\"},\"colorscale\":[[0.0,\"#0d0887\"],[0.1111111111111111,\"#46039f\"],[0.2222222222222222,\"#7201a8\"],[0.3333333333333333,\"#9c179e\"],[0.4444444444444444,\"#bd3786\"],[0.5555555555555556,\"#d8576b\"],[0.6666666666666666,\"#ed7953\"],[0.7777777777777778,\"#fb9f3a\"],[0.8888888888888888,\"#fdca26\"],[1.0,\"#f0f921\"]]}],\"heatmap\":[{\"type\":\"heatmap\",\"colorbar\":{\"outlinewidth\":0,\"ticks\":\"\"},\"colorscale\":[[0.0,\"#0d0887\"],[0.1111111111111111,\"#46039f\"],[0.2222222222222222,\"#7201a8\"],[0.3333333333333333,\"#9c179e\"],[0.4444444444444444,\"#bd3786\"],[0.5555555555555556,\"#d8576b\"],[0.6666666666666666,\"#ed7953\"],[0.7777777777777778,\"#fb9f3a\"],[0.8888888888888888,\"#fdca26\"],[1.0,\"#f0f921\"]]}],\"heatmapgl\":[{\"type\":\"heatmapgl\",\"colorbar\":{\"outlinewidth\":0,\"ticks\":\"\"},\"colorscale\":[[0.0,\"#0d0887\"],[0.1111111111111111,\"#46039f\"],[0.2222222222222222,\"#7201a8\"],[0.3333333333333333,\"#9c179e\"],[0.4444444444444444,\"#bd3786\"],[0.5555555555555556,\"#d8576b\"],[0.6666666666666666,\"#ed7953\"],[0.7777777777777778,\"#fb9f3a\"],[0.8888888888888888,\"#fdca26\"],[1.0,\"#f0f921\"]]}],\"contourcarpet\":[{\"type\":\"contourcarpet\",\"colorbar\":{\"outlinewidth\":0,\"ticks\":\"\"}}],\"contour\":[{\"type\":\"contour\",\"colorbar\":{\"outlinewidth\":0,\"ticks\":\"\"},\"colorscale\":[[0.0,\"#0d0887\"],[0.1111111111111111,\"#46039f\"],[0.2222222222222222,\"#7201a8\"],[0.3333333333333333,\"#9c179e\"],[0.4444444444444444,\"#bd3786\"],[0.5555555555555556,\"#d8576b\"],[0.6666666666666666,\"#ed7953\"],[0.7777777777777778,\"#fb9f3a\"],[0.8888888888888888,\"#fdca26\"],[1.0,\"#f0f921\"]]}],\"surface\":[{\"type\":\"surface\",\"colorbar\":{\"outlinewidth\":0,\"ticks\":\"\"},\"colorscale\":[[0.0,\"#0d0887\"],[0.1111111111111111,\"#46039f\"],[0.2222222222222222,\"#7201a8\"],[0.3333333333333333,\"#9c179e\"],[0.4444444444444444,\"#bd3786\"],[0.5555555555555556,\"#d8576b\"],[0.6666666666666666,\"#ed7953\"],[0.7777777777777778,\"#fb9f3a\"],[0.8888888888888888,\"#fdca26\"],[1.0,\"#f0f921\"]]}],\"mesh3d\":[{\"type\":\"mesh3d\",\"colorbar\":{\"outlinewidth\":0,\"ticks\":\"\"}}],\"scatter\":[{\"fillpattern\":{\"fillmode\":\"overlay\",\"size\":10,\"solidity\":0.2},\"type\":\"scatter\"}],\"parcoords\":[{\"type\":\"parcoords\",\"line\":{\"colorbar\":{\"outlinewidth\":0,\"ticks\":\"\"}}}],\"scatterpolargl\":[{\"type\":\"scatterpolargl\",\"marker\":{\"colorbar\":{\"outlinewidth\":0,\"ticks\":\"\"}}}],\"bar\":[{\"error_x\":{\"color\":\"#2a3f5f\"},\"error_y\":{\"color\":\"#2a3f5f\"},\"marker\":{\"line\":{\"color\":\"#E5ECF6\",\"width\":0.5},\"pattern\":{\"fillmode\":\"overlay\",\"size\":10,\"solidity\":0.2}},\"type\":\"bar\"}],\"scattergeo\":[{\"type\":\"scattergeo\",\"marker\":{\"colorbar\":{\"outlinewidth\":0,\"ticks\":\"\"}}}],\"scatterpolar\":[{\"type\":\"scatterpolar\",\"marker\":{\"colorbar\":{\"outlinewidth\":0,\"ticks\":\"\"}}}],\"histogram\":[{\"marker\":{\"pattern\":{\"fillmode\":\"overlay\",\"size\":10,\"solidity\":0.2}},\"type\":\"histogram\"}],\"scattergl\":[{\"type\":\"scattergl\",\"marker\":{\"colorbar\":{\"outlinewidth\":0,\"ticks\":\"\"}}}],\"scatter3d\":[{\"type\":\"scatter3d\",\"line\":{\"colorbar\":{\"outlinewidth\":0,\"ticks\":\"\"}},\"marker\":{\"colorbar\":{\"outlinewidth\":0,\"ticks\":\"\"}}}],\"scattermapbox\":[{\"type\":\"scattermapbox\",\"marker\":{\"colorbar\":{\"outlinewidth\":0,\"ticks\":\"\"}}}],\"scatterternary\":[{\"type\":\"scatterternary\",\"marker\":{\"colorbar\":{\"outlinewidth\":0,\"ticks\":\"\"}}}],\"scattercarpet\":[{\"type\":\"scattercarpet\",\"marker\":{\"colorbar\":{\"outlinewidth\":0,\"ticks\":\"\"}}}],\"carpet\":[{\"aaxis\":{\"endlinecolor\":\"#2a3f5f\",\"gridcolor\":\"white\",\"linecolor\":\"white\",\"minorgridcolor\":\"white\",\"startlinecolor\":\"#2a3f5f\"},\"baxis\":{\"endlinecolor\":\"#2a3f5f\",\"gridcolor\":\"white\",\"linecolor\":\"white\",\"minorgridcolor\":\"white\",\"startlinecolor\":\"#2a3f5f\"},\"type\":\"carpet\"}],\"table\":[{\"cells\":{\"fill\":{\"color\":\"#EBF0F8\"},\"line\":{\"color\":\"white\"}},\"header\":{\"fill\":{\"color\":\"#C8D4E3\"},\"line\":{\"color\":\"white\"}},\"type\":\"table\"}],\"barpolar\":[{\"marker\":{\"line\":{\"color\":\"#E5ECF6\",\"width\":0.5},\"pattern\":{\"fillmode\":\"overlay\",\"size\":10,\"solidity\":0.2}},\"type\":\"barpolar\"}],\"pie\":[{\"automargin\":true,\"type\":\"pie\"}]},\"layout\":{\"autotypenumbers\":\"strict\",\"colorway\":[\"#636efa\",\"#EF553B\",\"#00cc96\",\"#ab63fa\",\"#FFA15A\",\"#19d3f3\",\"#FF6692\",\"#B6E880\",\"#FF97FF\",\"#FECB52\"],\"font\":{\"color\":\"#2a3f5f\"},\"hovermode\":\"closest\",\"hoverlabel\":{\"align\":\"left\"},\"paper_bgcolor\":\"white\",\"plot_bgcolor\":\"#E5ECF6\",\"polar\":{\"bgcolor\":\"#E5ECF6\",\"angularaxis\":{\"gridcolor\":\"white\",\"linecolor\":\"white\",\"ticks\":\"\"},\"radialaxis\":{\"gridcolor\":\"white\",\"linecolor\":\"white\",\"ticks\":\"\"}},\"ternary\":{\"bgcolor\":\"#E5ECF6\",\"aaxis\":{\"gridcolor\":\"white\",\"linecolor\":\"white\",\"ticks\":\"\"},\"baxis\":{\"gridcolor\":\"white\",\"linecolor\":\"white\",\"ticks\":\"\"},\"caxis\":{\"gridcolor\":\"white\",\"linecolor\":\"white\",\"ticks\":\"\"}},\"coloraxis\":{\"colorbar\":{\"outlinewidth\":0,\"ticks\":\"\"}},\"colorscale\":{\"sequential\":[[0.0,\"#0d0887\"],[0.1111111111111111,\"#46039f\"],[0.2222222222222222,\"#7201a8\"],[0.3333333333333333,\"#9c179e\"],[0.4444444444444444,\"#bd3786\"],[0.5555555555555556,\"#d8576b\"],[0.6666666666666666,\"#ed7953\"],[0.7777777777777778,\"#fb9f3a\"],[0.8888888888888888,\"#fdca26\"],[1.0,\"#f0f921\"]],\"sequentialminus\":[[0.0,\"#0d0887\"],[0.1111111111111111,\"#46039f\"],[0.2222222222222222,\"#7201a8\"],[0.3333333333333333,\"#9c179e\"],[0.4444444444444444,\"#bd3786\"],[0.5555555555555556,\"#d8576b\"],[0.6666666666666666,\"#ed7953\"],[0.7777777777777778,\"#fb9f3a\"],[0.8888888888888888,\"#fdca26\"],[1.0,\"#f0f921\"]],\"diverging\":[[0,\"#8e0152\"],[0.1,\"#c51b7d\"],[0.2,\"#de77ae\"],[0.3,\"#f1b6da\"],[0.4,\"#fde0ef\"],[0.5,\"#f7f7f7\"],[0.6,\"#e6f5d0\"],[0.7,\"#b8e186\"],[0.8,\"#7fbc41\"],[0.9,\"#4d9221\"],[1,\"#276419\"]]},\"xaxis\":{\"gridcolor\":\"white\",\"linecolor\":\"white\",\"ticks\":\"\",\"title\":{\"standoff\":15},\"zerolinecolor\":\"white\",\"automargin\":true,\"zerolinewidth\":2},\"yaxis\":{\"gridcolor\":\"white\",\"linecolor\":\"white\",\"ticks\":\"\",\"title\":{\"standoff\":15},\"zerolinecolor\":\"white\",\"automargin\":true,\"zerolinewidth\":2},\"scene\":{\"xaxis\":{\"backgroundcolor\":\"#E5ECF6\",\"gridcolor\":\"white\",\"linecolor\":\"white\",\"showbackground\":true,\"ticks\":\"\",\"zerolinecolor\":\"white\",\"gridwidth\":2},\"yaxis\":{\"backgroundcolor\":\"#E5ECF6\",\"gridcolor\":\"white\",\"linecolor\":\"white\",\"showbackground\":true,\"ticks\":\"\",\"zerolinecolor\":\"white\",\"gridwidth\":2},\"zaxis\":{\"backgroundcolor\":\"#E5ECF6\",\"gridcolor\":\"white\",\"linecolor\":\"white\",\"showbackground\":true,\"ticks\":\"\",\"zerolinecolor\":\"white\",\"gridwidth\":2}},\"shapedefaults\":{\"line\":{\"color\":\"#2a3f5f\"}},\"annotationdefaults\":{\"arrowcolor\":\"#2a3f5f\",\"arrowhead\":0,\"arrowwidth\":1},\"geo\":{\"bgcolor\":\"white\",\"landcolor\":\"#E5ECF6\",\"subunitcolor\":\"white\",\"showland\":true,\"showlakes\":true,\"lakecolor\":\"white\"},\"title\":{\"x\":0.05},\"mapbox\":{\"style\":\"light\"}}},\"xaxis\":{\"anchor\":\"y\",\"domain\":[0.0,1.0],\"title\":{\"text\":\"Duration\"}},\"yaxis\":{\"anchor\":\"x\",\"domain\":[0.0,1.0],\"title\":{\"text\":\"Bond price\"}},\"legend\":{\"title\":{\"text\":\"isin\"},\"tracegroupgap\":0},\"title\":{\"text\":\"Price Comparison for German and Italian Bonds\"}},                        {\"responsive\": true}                    ).then(function(){\n",
       "                            \n",
       "var gd = document.getElementById('798d25ee-27af-44ce-b35e-69d1c65674ee');\n",
       "var x = new MutationObserver(function (mutations, observer) {{\n",
       "        var display = window.getComputedStyle(gd).display;\n",
       "        if (!display || display === 'none') {{\n",
       "            console.log([gd, 'removed!']);\n",
       "            Plotly.purge(gd);\n",
       "            observer.disconnect();\n",
       "        }}\n",
       "}});\n",
       "\n",
       "// Listen for the removal of the full notebook cells\n",
       "var notebookContainer = gd.closest('#notebook-container');\n",
       "if (notebookContainer) {{\n",
       "    x.observe(notebookContainer, {childList: true});\n",
       "}}\n",
       "\n",
       "// Listen for the clearing of the current output cell\n",
       "var outputEl = gd.closest('.output');\n",
       "if (outputEl) {{\n",
       "    x.observe(outputEl, {childList: true});\n",
       "}}\n",
       "\n",
       "                        })                };                });            </script>        </div>"
      ]
     },
     "metadata": {},
     "output_type": "display_data"
    }
   ],
   "source": [
    "# Section 6 And now plotting in a chart\n",
    "\n",
    "import plotly.express as px\n",
    "\n",
    "# Plotting the data using Plotly\n",
    "if not german_df.empty and not italian_df.empty:\n",
    "    fig1 = px.scatter(german_df, x=\"duration\", y=\"yield_to_maturity\", color=\"isin\",\n",
    "                    title=\"Yield Curve Comparison for German and Italian Bonds\",\n",
    "                    labels={\"duration\": \"Duration\", \"yield_to_maturity\": \"Yield to Maturity\"})\n",
    "        \n",
    "    fig1.add_scatter(x=italian_df[\"duration\"], y=italian_df[\"yield_to_maturity\"], mode=\"markers\", name=\"Italian Bonds\",\n",
    "                        marker=dict(color='red', size=10))\n",
    "\n",
    "    fig1.update_traces(marker=dict(size=12),\n",
    "                        selector=dict(mode='markers', name=\"Italian Bonds\"))\n",
    "\n",
    "    fig1.show()\n",
    "\n",
    "    fig2 = px.scatter(german_df, x=\"duration\", y=\"price\", color=\"isin\",\n",
    "                    title=\"Price Comparison for German and Italian Bonds\",\n",
    "                    labels={\"duration\": \"Duration\", \"price\": \"Bond price\"})\n",
    "        \n",
    "    fig2.add_scatter(x=italian_df[\"duration\"], y=italian_df[\"price\"], mode=\"markers\", name=\"Italian Bonds\",\n",
    "                        marker=dict(color='red', size=10))\n",
    "\n",
    "    fig2.update_traces(marker=dict(size=12),\n",
    "                        selector=dict(mode='markers', name=\"Italian Bonds\"))\n",
    "    \n",
    "    fig2.show()\n",
    "    "
   ]
  },
  {
   "cell_type": "code",
   "execution_count": null,
   "id": "467576d0",
   "metadata": {},
   "outputs": [],
   "source": []
  }
 ],
 "metadata": {
  "kernelspec": {
   "display_name": "Python 3 (ipykernel)",
   "language": "python",
   "name": "python3"
  },
  "language_info": {
   "codemirror_mode": {
    "name": "ipython",
    "version": 3
   },
   "file_extension": ".py",
   "mimetype": "text/x-python",
   "name": "python",
   "nbconvert_exporter": "python",
   "pygments_lexer": "ipython3",
   "version": "3.10.13"
  }
 },
 "nbformat": 4,
 "nbformat_minor": 5
}
